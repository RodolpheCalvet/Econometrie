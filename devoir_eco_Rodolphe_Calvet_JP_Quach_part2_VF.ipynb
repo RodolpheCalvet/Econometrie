{
 "cells": [
  {
   "cell_type": "markdown",
   "id": "active-stephen",
   "metadata": {},
   "source": [
    "# <center> Projet d'économétrie SIM722 <center>"
   ]
  },
  {
   "cell_type": "markdown",
   "id": "speaking-deadline",
   "metadata": {},
   "source": [
    "<u>Devoir fait par :<u>  Rodolphe Calvet, Jean-Philippe Quach"
   ]
  },
  {
   "cell_type": "markdown",
   "id": "speaking-wrong",
   "metadata": {},
   "source": [
    "Les points sont proportionnels à la difficulté des questions. Justifiez toutes vos réponses et étapes du raisonnement. Tous les tests sont demandés à 5% sauf si spécifié dans la question.\n"
   ]
  },
  {
   "cell_type": "markdown",
   "id": "technological-laugh",
   "metadata": {},
   "source": [
    "# Import de librarie"
   ]
  },
  {
   "cell_type": "code",
   "execution_count": 1,
   "id": "august-angola",
   "metadata": {},
   "outputs": [
    {
     "name": "stdout",
     "output_type": "stream",
     "text": [
      "Requirement already satisfied: pmdarima in c:\\users\\rodolphe\\anaconda3\\lib\\site-packages (1.8.2)\n",
      "Requirement already satisfied: urllib3 in c:\\users\\rodolphe\\appdata\\roaming\\python\\python38\\site-packages (from pmdarima) (1.25.10)\n",
      "Requirement already satisfied: Cython!=0.29.18,>=0.29 in c:\\users\\rodolphe\\anaconda3\\lib\\site-packages (from pmdarima) (0.29.21)\n",
      "Requirement already satisfied: numpy~=1.19.0 in c:\\users\\rodolphe\\anaconda3\\lib\\site-packages (from pmdarima) (1.19.5)\n",
      "Requirement already satisfied: statsmodels!=0.12.0,>=0.11 in c:\\users\\rodolphe\\anaconda3\\lib\\site-packages (from pmdarima) (0.12.2)\n",
      "Requirement already satisfied: pandas>=0.19 in c:\\users\\rodolphe\\anaconda3\\lib\\site-packages (from pmdarima) (1.2.1)\n",
      "Requirement already satisfied: scipy>=1.3.2 in c:\\users\\rodolphe\\appdata\\roaming\\python\\python38\\site-packages (from pmdarima) (1.5.2)\n",
      "Requirement already satisfied: joblib>=0.11 in c:\\users\\rodolphe\\appdata\\roaming\\python\\python38\\site-packages (from pmdarima) (0.16.0)\n",
      "Requirement already satisfied: setuptools!=50.0.0,>=38.6.0 in c:\\users\\rodolphe\\anaconda3\\lib\\site-packages (from pmdarima) (49.6.0.post20210108)\n",
      "Requirement already satisfied: scikit-learn>=0.22 in c:\\users\\rodolphe\\appdata\\roaming\\python\\python38\\site-packages (from pmdarima) (0.23.2)\n",
      "Requirement already satisfied: pytz>=2017.3 in c:\\users\\rodolphe\\anaconda3\\lib\\site-packages (from pandas>=0.19->pmdarima) (2021.1)\n",
      "Requirement already satisfied: python-dateutil>=2.7.3 in c:\\users\\rodolphe\\anaconda3\\lib\\site-packages (from pandas>=0.19->pmdarima) (2.8.1)\n",
      "Requirement already satisfied: six>=1.5 in c:\\users\\rodolphe\\anaconda3\\lib\\site-packages (from python-dateutil>=2.7.3->pandas>=0.19->pmdarima) (1.15.0)\n",
      "Requirement already satisfied: threadpoolctl>=2.0.0 in c:\\users\\rodolphe\\appdata\\roaming\\python\\python38\\site-packages (from scikit-learn>=0.22->pmdarima) (2.1.0)\n",
      "Requirement already satisfied: patsy>=0.5 in c:\\users\\rodolphe\\anaconda3\\lib\\site-packages (from statsmodels!=0.12.0,>=0.11->pmdarima) (0.5.1)\n"
     ]
    }
   ],
   "source": [
    " !pip install pmdarima"
   ]
  },
  {
   "cell_type": "code",
   "execution_count": 3,
   "id": "neutral-corner",
   "metadata": {},
   "outputs": [
    {
     "name": "stderr",
     "output_type": "stream",
     "text": [
      "[NbConvertApp] Converting notebook devoir_eco_Rodolphe_Calvet_JP_Quach_part2_VF.ipynb to pdf\n",
      "[NbConvertApp] Support files will be in devoir_eco_Rodolphe_Calvet_JP_Quach_part2_VF_files\\\n",
      "[NbConvertApp] Making directory .\\devoir_eco_Rodolphe_Calvet_JP_Quach_part2_VF_files\n",
      "[NbConvertApp] Making directory .\\devoir_eco_Rodolphe_Calvet_JP_Quach_part2_VF_files\n",
      "[NbConvertApp] Making directory .\\devoir_eco_Rodolphe_Calvet_JP_Quach_part2_VF_files\n",
      "[NbConvertApp] Making directory .\\devoir_eco_Rodolphe_Calvet_JP_Quach_part2_VF_files\n",
      "[NbConvertApp] Making directory .\\devoir_eco_Rodolphe_Calvet_JP_Quach_part2_VF_files\n",
      "[NbConvertApp] Making directory .\\devoir_eco_Rodolphe_Calvet_JP_Quach_part2_VF_files\n",
      "[NbConvertApp] Making directory .\\devoir_eco_Rodolphe_Calvet_JP_Quach_part2_VF_files\n",
      "[NbConvertApp] Making directory .\\devoir_eco_Rodolphe_Calvet_JP_Quach_part2_VF_files\n",
      "[NbConvertApp] Making directory .\\devoir_eco_Rodolphe_Calvet_JP_Quach_part2_VF_files\n",
      "[NbConvertApp] Making directory .\\devoir_eco_Rodolphe_Calvet_JP_Quach_part2_VF_files\n",
      "[NbConvertApp] Making directory .\\devoir_eco_Rodolphe_Calvet_JP_Quach_part2_VF_files\n",
      "[NbConvertApp] Making directory .\\devoir_eco_Rodolphe_Calvet_JP_Quach_part2_VF_files\n",
      "[NbConvertApp] Making directory .\\devoir_eco_Rodolphe_Calvet_JP_Quach_part2_VF_files\n",
      "[NbConvertApp] Making directory .\\devoir_eco_Rodolphe_Calvet_JP_Quach_part2_VF_files\n",
      "[NbConvertApp] Making directory .\\devoir_eco_Rodolphe_Calvet_JP_Quach_part2_VF_files\n",
      "[NbConvertApp] Writing 121272 bytes to notebook.tex\n",
      "[NbConvertApp] Building PDF\n",
      "Traceback (most recent call last):\n",
      "  File \"C:\\Users\\rodolphe\\anaconda3\\Scripts\\jupyter-nbconvert-script.py\", line 10, in <module>\n",
      "    sys.exit(main())\n",
      "  File \"C:\\Users\\rodolphe\\anaconda3\\lib\\site-packages\\jupyter_core\\application.py\", line 254, in launch_instance\n",
      "    return super(JupyterApp, cls).launch_instance(argv=argv, **kwargs)\n",
      "  File \"C:\\Users\\rodolphe\\AppData\\Roaming\\Python\\Python38\\site-packages\\traitlets\\config\\application.py\", line 845, in launch_instance\n",
      "    app.start()\n",
      "  File \"C:\\Users\\rodolphe\\anaconda3\\lib\\site-packages\\nbconvert\\nbconvertapp.py\", line 350, in start\n",
      "    self.convert_notebooks()\n",
      "  File \"C:\\Users\\rodolphe\\anaconda3\\lib\\site-packages\\nbconvert\\nbconvertapp.py\", line 524, in convert_notebooks\n",
      "    self.convert_single_notebook(notebook_filename)\n",
      "  File \"C:\\Users\\rodolphe\\anaconda3\\lib\\site-packages\\nbconvert\\nbconvertapp.py\", line 489, in convert_single_notebook\n",
      "    output, resources = self.export_single_notebook(notebook_filename, resources, input_buffer=input_buffer)\n",
      "  File \"C:\\Users\\rodolphe\\anaconda3\\lib\\site-packages\\nbconvert\\nbconvertapp.py\", line 418, in export_single_notebook\n",
      "    output, resources = self.exporter.from_filename(notebook_filename, resources=resources)\n",
      "  File \"C:\\Users\\rodolphe\\anaconda3\\lib\\site-packages\\nbconvert\\exporters\\exporter.py\", line 181, in from_filename\n",
      "    return self.from_file(f, resources=resources, **kw)\n",
      "  File \"C:\\Users\\rodolphe\\anaconda3\\lib\\site-packages\\nbconvert\\exporters\\exporter.py\", line 199, in from_file\n",
      "    return self.from_notebook_node(nbformat.read(file_stream, as_version=4), resources=resources, **kw)\n",
      "  File \"C:\\Users\\rodolphe\\anaconda3\\lib\\site-packages\\nbconvert\\exporters\\pdf.py\", line 183, in from_notebook_node\n",
      "    self.run_latex(tex_file)\n",
      "  File \"C:\\Users\\rodolphe\\anaconda3\\lib\\site-packages\\nbconvert\\exporters\\pdf.py\", line 153, in run_latex\n",
      "    return self.run_command(self.latex_command, filename,\n",
      "  File \"C:\\Users\\rodolphe\\anaconda3\\lib\\site-packages\\nbconvert\\exporters\\pdf.py\", line 110, in run_command\n",
      "    raise OSError(\"{formatter} not found on PATH, if you have not installed \"\n",
      "OSError: xelatex not found on PATH, if you have not installed xelatex you may need to do so. Find further instructions at https://nbconvert.readthedocs.io/en/latest/install.html#installing-tex.\n"
     ]
    }
   ],
   "source": [
    "! jupyter nbconvert --to pdf devoir_eco_Rodolphe_Calvet_JP_Quach_part2_VF.ipynb"
   ]
  },
  {
   "cell_type": "code",
   "execution_count": 2,
   "id": "passing-hindu",
   "metadata": {},
   "outputs": [],
   "source": [
    "import numpy as np\n",
    "import pandas as pd\n",
    "import seaborn as sns\n",
    "import matplotlib.pyplot as plt\n",
    "import statsmodels.api as sm # :)\n",
    "from statsmodels.tsa.stattools import adfuller\n",
    "import statsmodels.tsa.api as smt\n",
    "import pmdarima as pmd\n",
    "from statsmodels.tsa.stattools import acf\n",
    "from statsmodels.tsa.stattools import pacf\n",
    "from statsmodels.graphics.tsaplots import plot_acf\n",
    "from statsmodels.graphics.tsaplots import plot_pacf\n",
    "from sklearn.linear_model import LinearRegression\n",
    "from IPython.display import Image\n",
    "\n",
    "from scipy.stats import t\n",
    "from scipy.stats import f\n",
    "import warnings\n",
    "warnings.filterwarnings(\"ignore\")"
   ]
  },
  {
   "cell_type": "markdown",
   "id": "exceptional-toner",
   "metadata": {},
   "source": [
    "# <u>Partie 2. Séries temporelles<u>"
   ]
  },
  {
   "cell_type": "markdown",
   "id": "martial-detail",
   "metadata": {},
   "source": [
    "### 1. Importer les données du fichier quarterly.xls (corriger le problème éventuel d’observations manquantes)"
   ]
  },
  {
   "cell_type": "code",
   "execution_count": 3,
   "id": "personalized-harassment",
   "metadata": {},
   "outputs": [
    {
     "data": {
      "text/html": [
       "<div>\n",
       "<style scoped>\n",
       "    .dataframe tbody tr th:only-of-type {\n",
       "        vertical-align: middle;\n",
       "    }\n",
       "\n",
       "    .dataframe tbody tr th {\n",
       "        vertical-align: top;\n",
       "    }\n",
       "\n",
       "    .dataframe thead th {\n",
       "        text-align: right;\n",
       "    }\n",
       "</style>\n",
       "<table border=\"1\" class=\"dataframe\">\n",
       "  <thead>\n",
       "    <tr style=\"text-align: right;\">\n",
       "      <th></th>\n",
       "      <th>DATE</th>\n",
       "      <th>FFR</th>\n",
       "      <th>Tbill</th>\n",
       "      <th>Tb1yr</th>\n",
       "      <th>r5</th>\n",
       "      <th>r10</th>\n",
       "      <th>PPINSA</th>\n",
       "      <th>Finished</th>\n",
       "      <th>CPI</th>\n",
       "      <th>CPICORE</th>\n",
       "      <th>M1NSA</th>\n",
       "      <th>M2SA</th>\n",
       "      <th>M2NSA</th>\n",
       "      <th>Unemp</th>\n",
       "      <th>IndProd</th>\n",
       "      <th>RGDP</th>\n",
       "      <th>Potent</th>\n",
       "      <th>Deflator</th>\n",
       "      <th>Curr</th>\n",
       "    </tr>\n",
       "  </thead>\n",
       "  <tbody>\n",
       "    <tr>\n",
       "      <th>0</th>\n",
       "      <td>1960Q1</td>\n",
       "      <td>3.93</td>\n",
       "      <td>3.87</td>\n",
       "      <td>4.57</td>\n",
       "      <td>4.64</td>\n",
       "      <td>4.49</td>\n",
       "      <td>31.67</td>\n",
       "      <td>33.20</td>\n",
       "      <td>29.40</td>\n",
       "      <td>18.92</td>\n",
       "      <td>140.53</td>\n",
       "      <td>896.1</td>\n",
       "      <td>299.40</td>\n",
       "      <td>5.13</td>\n",
       "      <td>23.93</td>\n",
       "      <td>2845.3</td>\n",
       "      <td>2824.2</td>\n",
       "      <td>18.521</td>\n",
       "      <td>31.830</td>\n",
       "    </tr>\n",
       "    <tr>\n",
       "      <th>1</th>\n",
       "      <td>1960Q2</td>\n",
       "      <td>3.70</td>\n",
       "      <td>2.99</td>\n",
       "      <td>3.87</td>\n",
       "      <td>4.30</td>\n",
       "      <td>4.26</td>\n",
       "      <td>31.73</td>\n",
       "      <td>33.40</td>\n",
       "      <td>29.57</td>\n",
       "      <td>19.00</td>\n",
       "      <td>138.40</td>\n",
       "      <td>903.3</td>\n",
       "      <td>300.03</td>\n",
       "      <td>5.23</td>\n",
       "      <td>23.41</td>\n",
       "      <td>2832.0</td>\n",
       "      <td>2851.2</td>\n",
       "      <td>18.579</td>\n",
       "      <td>31.862</td>\n",
       "    </tr>\n",
       "    <tr>\n",
       "      <th>2</th>\n",
       "      <td>1960Q3</td>\n",
       "      <td>2.94</td>\n",
       "      <td>2.36</td>\n",
       "      <td>3.07</td>\n",
       "      <td>3.67</td>\n",
       "      <td>3.83</td>\n",
       "      <td>31.63</td>\n",
       "      <td>33.43</td>\n",
       "      <td>29.59</td>\n",
       "      <td>19.07</td>\n",
       "      <td>139.60</td>\n",
       "      <td>919.4</td>\n",
       "      <td>305.50</td>\n",
       "      <td>5.53</td>\n",
       "      <td>23.02</td>\n",
       "      <td>2836.6</td>\n",
       "      <td>2878.7</td>\n",
       "      <td>18.648</td>\n",
       "      <td>32.217</td>\n",
       "    </tr>\n",
       "    <tr>\n",
       "      <th>3</th>\n",
       "      <td>1960Q4</td>\n",
       "      <td>2.30</td>\n",
       "      <td>2.31</td>\n",
       "      <td>2.99</td>\n",
       "      <td>3.75</td>\n",
       "      <td>3.89</td>\n",
       "      <td>31.70</td>\n",
       "      <td>33.67</td>\n",
       "      <td>29.78</td>\n",
       "      <td>19.14</td>\n",
       "      <td>142.67</td>\n",
       "      <td>932.8</td>\n",
       "      <td>312.30</td>\n",
       "      <td>6.27</td>\n",
       "      <td>22.47</td>\n",
       "      <td>2800.2</td>\n",
       "      <td>2906.7</td>\n",
       "      <td>18.700</td>\n",
       "      <td>32.624</td>\n",
       "    </tr>\n",
       "    <tr>\n",
       "      <th>4</th>\n",
       "      <td>1961Q1</td>\n",
       "      <td>2.00</td>\n",
       "      <td>2.35</td>\n",
       "      <td>2.87</td>\n",
       "      <td>3.64</td>\n",
       "      <td>3.79</td>\n",
       "      <td>31.80</td>\n",
       "      <td>33.63</td>\n",
       "      <td>29.84</td>\n",
       "      <td>19.17</td>\n",
       "      <td>142.23</td>\n",
       "      <td>948.9</td>\n",
       "      <td>317.10</td>\n",
       "      <td>6.80</td>\n",
       "      <td>22.13</td>\n",
       "      <td>2816.9</td>\n",
       "      <td>2934.8</td>\n",
       "      <td>18.743</td>\n",
       "      <td>32.073</td>\n",
       "    </tr>\n",
       "    <tr>\n",
       "      <th>...</th>\n",
       "      <td>...</td>\n",
       "      <td>...</td>\n",
       "      <td>...</td>\n",
       "      <td>...</td>\n",
       "      <td>...</td>\n",
       "      <td>...</td>\n",
       "      <td>...</td>\n",
       "      <td>...</td>\n",
       "      <td>...</td>\n",
       "      <td>...</td>\n",
       "      <td>...</td>\n",
       "      <td>...</td>\n",
       "      <td>...</td>\n",
       "      <td>...</td>\n",
       "      <td>...</td>\n",
       "      <td>...</td>\n",
       "      <td>...</td>\n",
       "      <td>...</td>\n",
       "      <td>...</td>\n",
       "    </tr>\n",
       "    <tr>\n",
       "      <th>207</th>\n",
       "      <td>2011Q4</td>\n",
       "      <td>0.07</td>\n",
       "      <td>0.01</td>\n",
       "      <td>0.11</td>\n",
       "      <td>0.95</td>\n",
       "      <td>2.05</td>\n",
       "      <td>200.77</td>\n",
       "      <td>192.97</td>\n",
       "      <td>226.97</td>\n",
       "      <td>112.50</td>\n",
       "      <td>2165.77</td>\n",
       "      <td>28787.3</td>\n",
       "      <td>9599.47</td>\n",
       "      <td>8.67</td>\n",
       "      <td>95.33</td>\n",
       "      <td>13441.0</td>\n",
       "      <td>14255.9</td>\n",
       "      <td>113.987</td>\n",
       "      <td>1055.496</td>\n",
       "    </tr>\n",
       "    <tr>\n",
       "      <th>208</th>\n",
       "      <td>2012Q1</td>\n",
       "      <td>0.10</td>\n",
       "      <td>0.07</td>\n",
       "      <td>0.16</td>\n",
       "      <td>0.90</td>\n",
       "      <td>2.04</td>\n",
       "      <td>202.17</td>\n",
       "      <td>193.73</td>\n",
       "      <td>228.27</td>\n",
       "      <td>113.12</td>\n",
       "      <td>2213.97</td>\n",
       "      <td>29238.6</td>\n",
       "      <td>9777.03</td>\n",
       "      <td>8.27</td>\n",
       "      <td>96.70</td>\n",
       "      <td>13506.4</td>\n",
       "      <td>14317.4</td>\n",
       "      <td>114.599</td>\n",
       "      <td>1082.519</td>\n",
       "    </tr>\n",
       "    <tr>\n",
       "      <th>209</th>\n",
       "      <td>2012Q2</td>\n",
       "      <td>0.15</td>\n",
       "      <td>0.09</td>\n",
       "      <td>0.19</td>\n",
       "      <td>0.79</td>\n",
       "      <td>1.82</td>\n",
       "      <td>201.80</td>\n",
       "      <td>192.83</td>\n",
       "      <td>228.84</td>\n",
       "      <td>113.60</td>\n",
       "      <td>2258.30</td>\n",
       "      <td>29611.6</td>\n",
       "      <td>9888.97</td>\n",
       "      <td>8.17</td>\n",
       "      <td>97.27</td>\n",
       "      <td>13548.5</td>\n",
       "      <td>14379.3</td>\n",
       "      <td>115.035</td>\n",
       "      <td>1104.500</td>\n",
       "    </tr>\n",
       "    <tr>\n",
       "      <th>210</th>\n",
       "      <td>2012Q3</td>\n",
       "      <td>0.14</td>\n",
       "      <td>0.10</td>\n",
       "      <td>0.18</td>\n",
       "      <td>0.67</td>\n",
       "      <td>1.64</td>\n",
       "      <td>202.40</td>\n",
       "      <td>195.20</td>\n",
       "      <td>230.03</td>\n",
       "      <td>113.91</td>\n",
       "      <td>2326.47</td>\n",
       "      <td>30251.4</td>\n",
       "      <td>10029.87</td>\n",
       "      <td>8.03</td>\n",
       "      <td>97.39</td>\n",
       "      <td>13652.5</td>\n",
       "      <td>14441.9</td>\n",
       "      <td>115.810</td>\n",
       "      <td>1119.187</td>\n",
       "    </tr>\n",
       "    <tr>\n",
       "      <th>211</th>\n",
       "      <td>2012Q4</td>\n",
       "      <td>0.16</td>\n",
       "      <td>0.09</td>\n",
       "      <td>0.17</td>\n",
       "      <td>0.69</td>\n",
       "      <td>1.71</td>\n",
       "      <td>202.27</td>\n",
       "      <td>196.20</td>\n",
       "      <td>231.28</td>\n",
       "      <td>114.18</td>\n",
       "      <td>2436.73</td>\n",
       "      <td>30938.8</td>\n",
       "      <td>10319.60</td>\n",
       "      <td>7.83</td>\n",
       "      <td>98.01</td>\n",
       "      <td>13665.4</td>\n",
       "      <td>14505.4</td>\n",
       "      <td>116.089</td>\n",
       "      <td>1147.623</td>\n",
       "    </tr>\n",
       "  </tbody>\n",
       "</table>\n",
       "<p>212 rows × 19 columns</p>\n",
       "</div>"
      ],
      "text/plain": [
       "       DATE   FFR  Tbill  Tb1yr    r5   r10  PPINSA  Finished     CPI  \\\n",
       "0    1960Q1  3.93   3.87   4.57  4.64  4.49   31.67     33.20   29.40   \n",
       "1    1960Q2  3.70   2.99   3.87  4.30  4.26   31.73     33.40   29.57   \n",
       "2    1960Q3  2.94   2.36   3.07  3.67  3.83   31.63     33.43   29.59   \n",
       "3    1960Q4  2.30   2.31   2.99  3.75  3.89   31.70     33.67   29.78   \n",
       "4    1961Q1  2.00   2.35   2.87  3.64  3.79   31.80     33.63   29.84   \n",
       "..      ...   ...    ...    ...   ...   ...     ...       ...     ...   \n",
       "207  2011Q4  0.07   0.01   0.11  0.95  2.05  200.77    192.97  226.97   \n",
       "208  2012Q1  0.10   0.07   0.16  0.90  2.04  202.17    193.73  228.27   \n",
       "209  2012Q2  0.15   0.09   0.19  0.79  1.82  201.80    192.83  228.84   \n",
       "210  2012Q3  0.14   0.10   0.18  0.67  1.64  202.40    195.20  230.03   \n",
       "211  2012Q4  0.16   0.09   0.17  0.69  1.71  202.27    196.20  231.28   \n",
       "\n",
       "     CPICORE    M1NSA     M2SA     M2NSA  Unemp  IndProd     RGDP   Potent  \\\n",
       "0      18.92   140.53    896.1    299.40   5.13    23.93   2845.3   2824.2   \n",
       "1      19.00   138.40    903.3    300.03   5.23    23.41   2832.0   2851.2   \n",
       "2      19.07   139.60    919.4    305.50   5.53    23.02   2836.6   2878.7   \n",
       "3      19.14   142.67    932.8    312.30   6.27    22.47   2800.2   2906.7   \n",
       "4      19.17   142.23    948.9    317.10   6.80    22.13   2816.9   2934.8   \n",
       "..       ...      ...      ...       ...    ...      ...      ...      ...   \n",
       "207   112.50  2165.77  28787.3   9599.47   8.67    95.33  13441.0  14255.9   \n",
       "208   113.12  2213.97  29238.6   9777.03   8.27    96.70  13506.4  14317.4   \n",
       "209   113.60  2258.30  29611.6   9888.97   8.17    97.27  13548.5  14379.3   \n",
       "210   113.91  2326.47  30251.4  10029.87   8.03    97.39  13652.5  14441.9   \n",
       "211   114.18  2436.73  30938.8  10319.60   7.83    98.01  13665.4  14505.4   \n",
       "\n",
       "     Deflator      Curr  \n",
       "0      18.521    31.830  \n",
       "1      18.579    31.862  \n",
       "2      18.648    32.217  \n",
       "3      18.700    32.624  \n",
       "4      18.743    32.073  \n",
       "..        ...       ...  \n",
       "207   113.987  1055.496  \n",
       "208   114.599  1082.519  \n",
       "209   115.035  1104.500  \n",
       "210   115.810  1119.187  \n",
       "211   116.089  1147.623  \n",
       "\n",
       "[212 rows x 19 columns]"
      ]
     },
     "execution_count": 3,
     "metadata": {},
     "output_type": "execute_result"
    }
   ],
   "source": [
    "df = pd.read_excel(\"quarterly.xls\")#, usecols=\"CPI\")\n",
    "df"
   ]
  },
  {
   "cell_type": "code",
   "execution_count": 4,
   "id": "ranking-attendance",
   "metadata": {},
   "outputs": [
    {
     "name": "stdout",
     "output_type": "stream",
     "text": [
      "Y a t-il un problème de valeur manquante ? False\n"
     ]
    }
   ],
   "source": [
    "print(f\"Y a t-il un problème de valeur manquante ? {df.isna().any().any()}\")"
   ]
  },
  {
   "cell_type": "markdown",
   "id": "posted-fifteen",
   "metadata": {},
   "source": [
    "### 2. Stationnariser la série de CPI en utilisant la méthode de régression qui inclut un terme de tendance dont la forme fonctionnelle est à choisir (linéaire, quadratique, log, exponentielle, …)"
   ]
  },
  {
   "cell_type": "code",
   "execution_count": 5,
   "id": "cheap-franklin",
   "metadata": {},
   "outputs": [
    {
     "data": {
      "text/plain": [
       "count    212.000000\n",
       "mean     113.182028\n",
       "std       65.310267\n",
       "min       29.400000\n",
       "25%       43.705000\n",
       "50%      109.635000\n",
       "75%      167.507500\n",
       "max      231.280000\n",
       "Name: CPI, dtype: float64"
      ]
     },
     "execution_count": 5,
     "metadata": {},
     "output_type": "execute_result"
    }
   ],
   "source": [
    "serieCPI = df[\"CPI\"]\n",
    "serieCPI.describe()"
   ]
  },
  {
   "cell_type": "code",
   "execution_count": 6,
   "id": "objective-appearance",
   "metadata": {},
   "outputs": [
    {
     "data": {
      "image/png": "[encoded data removed]",
      "text/plain": [
       "<Figure size 432x288 with 1 Axes>"
      ]
     },
     "metadata": {
      "needs_background": "light"
     },
     "output_type": "display_data"
    }
   ],
   "source": [
    "plt.plot(serieCPI);\n",
    "#La série est notoirement non stationnaire : sa moyenne est croissante et non constante par exemple."
   ]
  },
  {
   "cell_type": "markdown",
   "id": "dependent-macintosh",
   "metadata": {},
   "source": [
    "Ici, on peut voir qu'il y a une tendance quasi linéaire, donc on va favoriser un modèle additif (par niveau)"
   ]
  },
  {
   "cell_type": "code",
   "execution_count": 7,
   "id": "continuous-thomson",
   "metadata": {},
   "outputs": [],
   "source": [
    "n = len(serieCPI)\n",
    "const = np.ones(n) \n",
    "# Intercept X tq X -> (1,X)\n",
    "X = np.column_stack((const, serieCPI.index))\n",
    "y = serieCPI"
   ]
  },
  {
   "cell_type": "code",
   "execution_count": 8,
   "id": "proud-inclusion",
   "metadata": {},
   "outputs": [
    {
     "name": "stdout",
     "output_type": "stream",
     "text": [
      "                            OLS Regression Results                            \n",
      "==============================================================================\n",
      "Dep. Variable:                    CPI   R-squared:                       0.983\n",
      "Model:                            OLS   Adj. R-squared:                  0.983\n",
      "Method:                 Least Squares   F-statistic:                 1.203e+04\n",
      "Date:                Mon, 17 May 2021   Prob (F-statistic):          2.37e-187\n",
      "Time:                        00:21:32   Log-Likelihood:                -755.40\n",
      "No. Observations:                 212   AIC:                             1515.\n",
      "Df Residuals:                     210   BIC:                             1522.\n",
      "Df Model:                           1                                         \n",
      "Covariance Type:            nonrobust                                         \n",
      "==============================================================================\n",
      "                 coef    std err          t      P>|t|      [0.025      0.975]\n",
      "------------------------------------------------------------------------------\n",
      "const          1.8275      1.174      1.557      0.121      -0.487       4.142\n",
      "x1             1.0555      0.010    109.664      0.000       1.037       1.074\n",
      "==============================================================================\n",
      "Omnibus:                       21.112   Durbin-Watson:                   0.010\n",
      "Prob(Omnibus):                  0.000   Jarque-Bera (JB):               28.351\n",
      "Skew:                           0.649   Prob(JB):                     6.98e-07\n",
      "Kurtosis:                       4.234   Cond. No.                         243.\n",
      "==============================================================================\n",
      "\n",
      "Notes:\n",
      "[1] Standard Errors assume that the covariance matrix of the errors is correctly specified.\n"
     ]
    },
    {
     "data": {
      "image/png": "[encoded data removed]",
      "text/plain": [
       "<Figure size 432x288 with 1 Axes>"
      ]
     },
     "metadata": {
      "needs_background": "light"
     },
     "output_type": "display_data"
    }
   ],
   "source": [
    "model = sm.OLS(y, X)\n",
    "results = model.fit()\n",
    "print(results.summary())\n",
    "o1 = results.resid #https://www.statsmodels.org/stable/generated/statsmodels.regression.linear_model.RegressionResults.html\n",
    "plt.plot(o1);"
   ]
  },
  {
   "cell_type": "markdown",
   "id": "excess-anthropology",
   "metadata": {},
   "source": [
    "### 3. Stationnariser la série de CPI en utilisant un moyenne mobile centrée 5x5."
   ]
  },
  {
   "cell_type": "markdown",
   "id": "parliamentary-appliance",
   "metadata": {},
   "source": [
    "Pourquoi stationariser la série CPI ?\n",
    "Pour se placer dans l'hypothèse fondamentale classique d'un modèle sans spurious regression!\n",
    "\n",
    "En effet, sans cela, la série CPI (qui inclut une tendance, c'est à dire une dépendance au temps)\n",
    "serait fortement corrélée au bruit u, lui aussi dépendant du temps\n",
    "On aurait alors un biais issu de cette corrélation entre variables cachée et obersvée\n",
    "Sans cette stationarité, notre modèle rendrait en fait compte seulement de cette tendance commune au temps,\n",
    "et donc serait sans intérêt (spurious regression)\n",
    "\n",
    "Pas d'autre choix/outil/théorie que de STATIONNARISER selon des hypothèses qui sont :\n",
    "    - le choix de la modélisation de cette tendance d'une part (forme lin, quad, etc..), \n",
    "    - et/ou l'étude/modélisation de changement de régime\n",
    "\n",
    "On se rapporte à un modèle de la forme suivante vue en cours :   \n",
    "$ Y{t} = \\beta_{const} + \\beta_{1t}Z_{1t} + \\beta_{2t}Z_{2t} + ... + \\beta_{kt}Z_{kt} + O{t} $\n",
    "\n",
    "avec $ O{t} = T{t} + S{t} + I{t} $ par exemple avec un modèle additif (T : trend, S : season, I : résidu stationnaire)\n",
    "\n",
    "On parle de filtre, ou de pré-filtre, T et S vue comme des \"nuisances\", éliminées en niveau ou en log.\n",
    "\n",
    "Stationnariser se fait par différences premières ou par passage d'un filtre à moyenne mobile.\n",
    "\n",
    "Filtre, moyenne mobile : \n",
    "\n",
    "La variable d'intérêt Xt subit une transformation, au choix, qui à pour inconvénient d'empêcher l'interprétation (puisque la nouvelle var n'est plus interprétable) mais l'avantage d'accéder à It, de stationnariser en pratique, et de pouvoir ensuite appliquer les outils propres aux séries stationnaires.\n",
    "La compréhension des natures tendancielle et saisonnière du processus (des \"nuisances\") reste possible mais le filtrage n'apporte pas d'information là dessus."
   ]
  },
  {
   "cell_type": "markdown",
   "id": "attached-engineering",
   "metadata": {},
   "source": [
    "Ici, on va favoriser l'approche statistique et son modèle additif au vue de notre tendance qui semble linéaire. On va donc calculer la moyenne mobile d'ordre 5 et et la retirer à notre modèle pour avoir un modèle sans tendance et donc en obtenant une série stationnaire."
   ]
  },
  {
   "cell_type": "code",
   "execution_count": 9,
   "id": "color-first",
   "metadata": {},
   "outputs": [
    {
     "data": {
      "image/png": "[encoded data removed]",
      "text/plain": [
       "<Figure size 432x288 with 1 Axes>"
      ]
     },
     "metadata": {
      "needs_background": "light"
     },
     "output_type": "display_data"
    },
    {
     "data": {
      "image/png": "[encoded data removed]",
      "text/plain": [
       "<Figure size 432x288 with 1 Axes>"
      ]
     },
     "metadata": {
      "needs_background": "light"
     },
     "output_type": "display_data"
    }
   ],
   "source": [
    "# Filtrage/stationnarisation par moyenne mobile\n",
    "\n",
    "# Avec center=False, dans le tp, la moyenne centrée est fait sans le center = true\n",
    "\n",
    "t2 = serieCPI.rolling(window=5, center=False).mean() # t car c'est la tendance qu'on va lui enlever\n",
    "plt.xlabel(\"DATE\")\n",
    "plt.title(\"Tendance du CPI\")\n",
    "plt.plot(t2);\n",
    "o2 = serieCPI - t2\n",
    "plt.figure()\n",
    "plt.plot(o2)\n",
    "plt.xlabel(\"DATE\")\n",
    "plt.title(\"CPI stationnarisée par moyenne mobile d'ordre 5 centrée ET center=False (défault)\");"
   ]
  },
  {
   "cell_type": "code",
   "execution_count": 10,
   "id": "cooperative-marijuana",
   "metadata": {},
   "outputs": [
    {
     "data": {
      "image/png": "[encoded data removed]",
      "text/plain": [
       "<Figure size 432x288 with 1 Axes>"
      ]
     },
     "metadata": {
      "needs_background": "light"
     },
     "output_type": "display_data"
    },
    {
     "data": {
      "image/png": "[encoded data removed]",
      "text/plain": [
       "<Figure size 432x288 with 1 Axes>"
      ]
     },
     "metadata": {
      "needs_background": "light"
     },
     "output_type": "display_data"
    }
   ],
   "source": [
    "# Filtrage/stationnarisation par moyenne mobile\n",
    "\n",
    "# Avec center=True\n",
    "\n",
    "t2_centered= serieCPI.rolling(window=5, center=True).mean()\n",
    "plt.plot(t2_centered);\n",
    "plt.xlabel(\"DATE\")\n",
    "plt.title(\"Tendance du CPI\")\n",
    "o2_centered = serieCPI - t2_centered\n",
    "plt.figure()\n",
    "plt.xlabel(\"DATE\")\n",
    "plt.plot(o2_centered)\n",
    "plt.title(\"CPI stationnarisée par moyenne mobile d'ordre 5 centrée ET center=True\");"
   ]
  },
  {
   "cell_type": "markdown",
   "id": "announced-coating",
   "metadata": {},
   "source": [
    "### 4. Calculer inf, le taux d’inflation à partir de la variable CPI. Faire un graphique dans le temps de inf. Commentez."
   ]
  },
  {
   "cell_type": "markdown",
   "id": "white-assurance",
   "metadata": {},
   "source": [
    "Le CPI est un indice des prix à la consommation. \n",
    "Or l'inflation est la variation de cet indice en %.  \n",
    "Plus précisément le taux d'inflation c'est le $(CPI_{t} - CPI_{t-1}) / CPI_{t-1}* 100 * 4$\n",
    "\n",
    "inf peut être vue comme la série CPI stationarisée par la méthode des différences premières"
   ]
  },
  {
   "cell_type": "code",
   "execution_count": 11,
   "id": "smart-custom",
   "metadata": {},
   "outputs": [
    {
     "data": {
      "text/html": [
       "<div>\n",
       "<style scoped>\n",
       "    .dataframe tbody tr th:only-of-type {\n",
       "        vertical-align: middle;\n",
       "    }\n",
       "\n",
       "    .dataframe tbody tr th {\n",
       "        vertical-align: top;\n",
       "    }\n",
       "\n",
       "    .dataframe thead th {\n",
       "        text-align: right;\n",
       "    }\n",
       "</style>\n",
       "<table border=\"1\" class=\"dataframe\">\n",
       "  <thead>\n",
       "    <tr style=\"text-align: right;\">\n",
       "      <th></th>\n",
       "      <th>DATE</th>\n",
       "      <th>FFR</th>\n",
       "      <th>Tbill</th>\n",
       "      <th>Tb1yr</th>\n",
       "      <th>r5</th>\n",
       "      <th>r10</th>\n",
       "      <th>PPINSA</th>\n",
       "      <th>Finished</th>\n",
       "      <th>CPI</th>\n",
       "      <th>CPICORE</th>\n",
       "      <th>M1NSA</th>\n",
       "      <th>M2SA</th>\n",
       "      <th>M2NSA</th>\n",
       "      <th>Unemp</th>\n",
       "      <th>IndProd</th>\n",
       "      <th>RGDP</th>\n",
       "      <th>Potent</th>\n",
       "      <th>Deflator</th>\n",
       "      <th>Curr</th>\n",
       "      <th>inf</th>\n",
       "    </tr>\n",
       "  </thead>\n",
       "  <tbody>\n",
       "    <tr>\n",
       "      <th>0</th>\n",
       "      <td>1960Q1</td>\n",
       "      <td>3.93</td>\n",
       "      <td>3.87</td>\n",
       "      <td>4.57</td>\n",
       "      <td>4.64</td>\n",
       "      <td>4.49</td>\n",
       "      <td>31.67</td>\n",
       "      <td>33.20</td>\n",
       "      <td>29.40</td>\n",
       "      <td>18.92</td>\n",
       "      <td>140.53</td>\n",
       "      <td>896.1</td>\n",
       "      <td>299.40</td>\n",
       "      <td>5.13</td>\n",
       "      <td>23.93</td>\n",
       "      <td>2845.3</td>\n",
       "      <td>2824.2</td>\n",
       "      <td>18.521</td>\n",
       "      <td>31.830</td>\n",
       "      <td>0.000000</td>\n",
       "    </tr>\n",
       "    <tr>\n",
       "      <th>1</th>\n",
       "      <td>1960Q2</td>\n",
       "      <td>3.70</td>\n",
       "      <td>2.99</td>\n",
       "      <td>3.87</td>\n",
       "      <td>4.30</td>\n",
       "      <td>4.26</td>\n",
       "      <td>31.73</td>\n",
       "      <td>33.40</td>\n",
       "      <td>29.57</td>\n",
       "      <td>19.00</td>\n",
       "      <td>138.40</td>\n",
       "      <td>903.3</td>\n",
       "      <td>300.03</td>\n",
       "      <td>5.23</td>\n",
       "      <td>23.41</td>\n",
       "      <td>2832.0</td>\n",
       "      <td>2851.2</td>\n",
       "      <td>18.579</td>\n",
       "      <td>31.862</td>\n",
       "      <td>2.312925</td>\n",
       "    </tr>\n",
       "    <tr>\n",
       "      <th>2</th>\n",
       "      <td>1960Q3</td>\n",
       "      <td>2.94</td>\n",
       "      <td>2.36</td>\n",
       "      <td>3.07</td>\n",
       "      <td>3.67</td>\n",
       "      <td>3.83</td>\n",
       "      <td>31.63</td>\n",
       "      <td>33.43</td>\n",
       "      <td>29.59</td>\n",
       "      <td>19.07</td>\n",
       "      <td>139.60</td>\n",
       "      <td>919.4</td>\n",
       "      <td>305.50</td>\n",
       "      <td>5.53</td>\n",
       "      <td>23.02</td>\n",
       "      <td>2836.6</td>\n",
       "      <td>2878.7</td>\n",
       "      <td>18.648</td>\n",
       "      <td>32.217</td>\n",
       "      <td>0.270544</td>\n",
       "    </tr>\n",
       "    <tr>\n",
       "      <th>3</th>\n",
       "      <td>1960Q4</td>\n",
       "      <td>2.30</td>\n",
       "      <td>2.31</td>\n",
       "      <td>2.99</td>\n",
       "      <td>3.75</td>\n",
       "      <td>3.89</td>\n",
       "      <td>31.70</td>\n",
       "      <td>33.67</td>\n",
       "      <td>29.78</td>\n",
       "      <td>19.14</td>\n",
       "      <td>142.67</td>\n",
       "      <td>932.8</td>\n",
       "      <td>312.30</td>\n",
       "      <td>6.27</td>\n",
       "      <td>22.47</td>\n",
       "      <td>2800.2</td>\n",
       "      <td>2906.7</td>\n",
       "      <td>18.700</td>\n",
       "      <td>32.624</td>\n",
       "      <td>2.568435</td>\n",
       "    </tr>\n",
       "    <tr>\n",
       "      <th>4</th>\n",
       "      <td>1961Q1</td>\n",
       "      <td>2.00</td>\n",
       "      <td>2.35</td>\n",
       "      <td>2.87</td>\n",
       "      <td>3.64</td>\n",
       "      <td>3.79</td>\n",
       "      <td>31.80</td>\n",
       "      <td>33.63</td>\n",
       "      <td>29.84</td>\n",
       "      <td>19.17</td>\n",
       "      <td>142.23</td>\n",
       "      <td>948.9</td>\n",
       "      <td>317.10</td>\n",
       "      <td>6.80</td>\n",
       "      <td>22.13</td>\n",
       "      <td>2816.9</td>\n",
       "      <td>2934.8</td>\n",
       "      <td>18.743</td>\n",
       "      <td>32.073</td>\n",
       "      <td>0.805910</td>\n",
       "    </tr>\n",
       "    <tr>\n",
       "      <th>...</th>\n",
       "      <td>...</td>\n",
       "      <td>...</td>\n",
       "      <td>...</td>\n",
       "      <td>...</td>\n",
       "      <td>...</td>\n",
       "      <td>...</td>\n",
       "      <td>...</td>\n",
       "      <td>...</td>\n",
       "      <td>...</td>\n",
       "      <td>...</td>\n",
       "      <td>...</td>\n",
       "      <td>...</td>\n",
       "      <td>...</td>\n",
       "      <td>...</td>\n",
       "      <td>...</td>\n",
       "      <td>...</td>\n",
       "      <td>...</td>\n",
       "      <td>...</td>\n",
       "      <td>...</td>\n",
       "      <td>...</td>\n",
       "    </tr>\n",
       "    <tr>\n",
       "      <th>207</th>\n",
       "      <td>2011Q4</td>\n",
       "      <td>0.07</td>\n",
       "      <td>0.01</td>\n",
       "      <td>0.11</td>\n",
       "      <td>0.95</td>\n",
       "      <td>2.05</td>\n",
       "      <td>200.77</td>\n",
       "      <td>192.97</td>\n",
       "      <td>226.97</td>\n",
       "      <td>112.50</td>\n",
       "      <td>2165.77</td>\n",
       "      <td>28787.3</td>\n",
       "      <td>9599.47</td>\n",
       "      <td>8.67</td>\n",
       "      <td>95.33</td>\n",
       "      <td>13441.0</td>\n",
       "      <td>14255.9</td>\n",
       "      <td>113.987</td>\n",
       "      <td>1055.496</td>\n",
       "      <td>1.397117</td>\n",
       "    </tr>\n",
       "    <tr>\n",
       "      <th>208</th>\n",
       "      <td>2012Q1</td>\n",
       "      <td>0.10</td>\n",
       "      <td>0.07</td>\n",
       "      <td>0.16</td>\n",
       "      <td>0.90</td>\n",
       "      <td>2.04</td>\n",
       "      <td>202.17</td>\n",
       "      <td>193.73</td>\n",
       "      <td>228.27</td>\n",
       "      <td>113.12</td>\n",
       "      <td>2213.97</td>\n",
       "      <td>29238.6</td>\n",
       "      <td>9777.03</td>\n",
       "      <td>8.27</td>\n",
       "      <td>96.70</td>\n",
       "      <td>13506.4</td>\n",
       "      <td>14317.4</td>\n",
       "      <td>114.599</td>\n",
       "      <td>1082.519</td>\n",
       "      <td>2.291052</td>\n",
       "    </tr>\n",
       "    <tr>\n",
       "      <th>209</th>\n",
       "      <td>2012Q2</td>\n",
       "      <td>0.15</td>\n",
       "      <td>0.09</td>\n",
       "      <td>0.19</td>\n",
       "      <td>0.79</td>\n",
       "      <td>1.82</td>\n",
       "      <td>201.80</td>\n",
       "      <td>192.83</td>\n",
       "      <td>228.84</td>\n",
       "      <td>113.60</td>\n",
       "      <td>2258.30</td>\n",
       "      <td>29611.6</td>\n",
       "      <td>9888.97</td>\n",
       "      <td>8.17</td>\n",
       "      <td>97.27</td>\n",
       "      <td>13548.5</td>\n",
       "      <td>14379.3</td>\n",
       "      <td>115.035</td>\n",
       "      <td>1104.500</td>\n",
       "      <td>0.998817</td>\n",
       "    </tr>\n",
       "    <tr>\n",
       "      <th>210</th>\n",
       "      <td>2012Q3</td>\n",
       "      <td>0.14</td>\n",
       "      <td>0.10</td>\n",
       "      <td>0.18</td>\n",
       "      <td>0.67</td>\n",
       "      <td>1.64</td>\n",
       "      <td>202.40</td>\n",
       "      <td>195.20</td>\n",
       "      <td>230.03</td>\n",
       "      <td>113.91</td>\n",
       "      <td>2326.47</td>\n",
       "      <td>30251.4</td>\n",
       "      <td>10029.87</td>\n",
       "      <td>8.03</td>\n",
       "      <td>97.39</td>\n",
       "      <td>13652.5</td>\n",
       "      <td>14441.9</td>\n",
       "      <td>115.810</td>\n",
       "      <td>1119.187</td>\n",
       "      <td>2.080056</td>\n",
       "    </tr>\n",
       "    <tr>\n",
       "      <th>211</th>\n",
       "      <td>2012Q4</td>\n",
       "      <td>0.16</td>\n",
       "      <td>0.09</td>\n",
       "      <td>0.17</td>\n",
       "      <td>0.69</td>\n",
       "      <td>1.71</td>\n",
       "      <td>202.27</td>\n",
       "      <td>196.20</td>\n",
       "      <td>231.28</td>\n",
       "      <td>114.18</td>\n",
       "      <td>2436.73</td>\n",
       "      <td>30938.8</td>\n",
       "      <td>10319.60</td>\n",
       "      <td>7.83</td>\n",
       "      <td>98.01</td>\n",
       "      <td>13665.4</td>\n",
       "      <td>14505.4</td>\n",
       "      <td>116.089</td>\n",
       "      <td>1147.623</td>\n",
       "      <td>2.173630</td>\n",
       "    </tr>\n",
       "  </tbody>\n",
       "</table>\n",
       "<p>212 rows × 20 columns</p>\n",
       "</div>"
      ],
      "text/plain": [
       "       DATE   FFR  Tbill  Tb1yr    r5   r10  PPINSA  Finished     CPI  \\\n",
       "0    1960Q1  3.93   3.87   4.57  4.64  4.49   31.67     33.20   29.40   \n",
       "1    1960Q2  3.70   2.99   3.87  4.30  4.26   31.73     33.40   29.57   \n",
       "2    1960Q3  2.94   2.36   3.07  3.67  3.83   31.63     33.43   29.59   \n",
       "3    1960Q4  2.30   2.31   2.99  3.75  3.89   31.70     33.67   29.78   \n",
       "4    1961Q1  2.00   2.35   2.87  3.64  3.79   31.80     33.63   29.84   \n",
       "..      ...   ...    ...    ...   ...   ...     ...       ...     ...   \n",
       "207  2011Q4  0.07   0.01   0.11  0.95  2.05  200.77    192.97  226.97   \n",
       "208  2012Q1  0.10   0.07   0.16  0.90  2.04  202.17    193.73  228.27   \n",
       "209  2012Q2  0.15   0.09   0.19  0.79  1.82  201.80    192.83  228.84   \n",
       "210  2012Q3  0.14   0.10   0.18  0.67  1.64  202.40    195.20  230.03   \n",
       "211  2012Q4  0.16   0.09   0.17  0.69  1.71  202.27    196.20  231.28   \n",
       "\n",
       "     CPICORE    M1NSA     M2SA     M2NSA  Unemp  IndProd     RGDP   Potent  \\\n",
       "0      18.92   140.53    896.1    299.40   5.13    23.93   2845.3   2824.2   \n",
       "1      19.00   138.40    903.3    300.03   5.23    23.41   2832.0   2851.2   \n",
       "2      19.07   139.60    919.4    305.50   5.53    23.02   2836.6   2878.7   \n",
       "3      19.14   142.67    932.8    312.30   6.27    22.47   2800.2   2906.7   \n",
       "4      19.17   142.23    948.9    317.10   6.80    22.13   2816.9   2934.8   \n",
       "..       ...      ...      ...       ...    ...      ...      ...      ...   \n",
       "207   112.50  2165.77  28787.3   9599.47   8.67    95.33  13441.0  14255.9   \n",
       "208   113.12  2213.97  29238.6   9777.03   8.27    96.70  13506.4  14317.4   \n",
       "209   113.60  2258.30  29611.6   9888.97   8.17    97.27  13548.5  14379.3   \n",
       "210   113.91  2326.47  30251.4  10029.87   8.03    97.39  13652.5  14441.9   \n",
       "211   114.18  2436.73  30938.8  10319.60   7.83    98.01  13665.4  14505.4   \n",
       "\n",
       "     Deflator      Curr       inf  \n",
       "0      18.521    31.830  0.000000  \n",
       "1      18.579    31.862  2.312925  \n",
       "2      18.648    32.217  0.270544  \n",
       "3      18.700    32.624  2.568435  \n",
       "4      18.743    32.073  0.805910  \n",
       "..        ...       ...       ...  \n",
       "207   113.987  1055.496  1.397117  \n",
       "208   114.599  1082.519  2.291052  \n",
       "209   115.035  1104.500  0.998817  \n",
       "210   115.810  1119.187  2.080056  \n",
       "211   116.089  1147.623  2.173630  \n",
       "\n",
       "[212 rows x 20 columns]"
      ]
     },
     "execution_count": 11,
     "metadata": {},
     "output_type": "execute_result"
    }
   ],
   "source": [
    "#inf = np.diff(serieCPI)0])\n",
    "#inf = inf/serieCPI[:-1] * 100 * 4 #car on a des semestres donc le taux annuels est multiplié par 4\n",
    "\n",
    "serieCPItmu = pd.Series.shift(df[\"CPI\"], 1, fill_value=29.4)\n",
    "\n",
    "inf = ( serieCPI - serieCPItmu ) / serieCPItmu *100*4\n",
    "\n",
    "serieCPItmu, serieCPI, inf\n",
    "\n",
    "df[\"inf\"] = inf\n",
    "df"
   ]
  },
  {
   "cell_type": "code",
   "execution_count": 12,
   "id": "requested-castle",
   "metadata": {},
   "outputs": [
    {
     "data": {
      "image/png": "[encoded data removed]",
      "text/plain": [
       "<Figure size 432x288 with 1 Axes>"
      ]
     },
     "metadata": {
      "needs_background": "light"
     },
     "output_type": "display_data"
    }
   ],
   "source": [
    "plt.xlabel(\"DATE\")\n",
    "plt.ylabel(\"Taux d'inflation\")\n",
    "plt.title(\"Taux d'inflation en fonction du temps\")\n",
    "plt.plot(inf);"
   ]
  },
  {
   "cell_type": "code",
   "execution_count": 13,
   "id": "helpful-halifax",
   "metadata": {},
   "outputs": [
    {
     "name": "stdout",
     "output_type": "stream",
     "text": [
      "Valeurs d'inflation négatives\n",
      " Entrée 5 : -0.13404825737267512\n",
      " Entrée 105 : -1.9713425207629536\n",
      " Entrée 167 : -0.29274334290377857\n",
      " Entrée 173 : -0.6544145716311531\n",
      " Entrée 187 : -1.6537874686222869\n",
      " Entrée 195 : -9.156538426391334\n",
      " Entrée 196 : -2.6560673369183774\n",
      " Entrée 201 : -0.22079116835327425\n"
     ]
    },
    {
     "data": {
      "text/plain": [
       "[None, None, None, None, None, None, None, None]"
      ]
     },
     "execution_count": 13,
     "metadata": {},
     "output_type": "execute_result"
    }
   ],
   "source": [
    "infAsALit = list(inf)\n",
    "print(\"Valeurs d'inflation négatives\")\n",
    "[print(f\" Entrée {idx} : {thisInf}\") for idx, thisInf in enumerate(infAsALit) if thisInf<0]"
   ]
  },
  {
   "cell_type": "markdown",
   "id": "amateur-murray",
   "metadata": {},
   "source": [
    "On observe des valeurs d'inflation assez courantes (entre 0 et 2% classiquement) et aussi une irrégularité à l'entrée 194, qui correspond au début de la crise des subprimes aux US (Cf DATE 2008Q3)"
   ]
  },
  {
   "cell_type": "code",
   "execution_count": 14,
   "id": "formed-investigation",
   "metadata": {},
   "outputs": [
    {
     "data": {
      "text/plain": [
       "DATE         2008Q3\n",
       "FFR            1.94\n",
       "Tbill          1.49\n",
       "Tb1yr          2.12\n",
       "r5             3.11\n",
       "r10            3.86\n",
       "PPINSA       200.47\n",
       "Finished      182.7\n",
       "CPI          218.86\n",
       "CPICORE      107.38\n",
       "M1NSA       1419.77\n",
       "M2SA        23317.5\n",
       "M2NSA       7738.83\n",
       "Unemp             6\n",
       "IndProd       95.46\n",
       "RGDP        13186.9\n",
       "Potent      13523.3\n",
       "Deflator    109.162\n",
       "Curr        832.188\n",
       "inf         6.16127\n",
       "Name: 194, dtype: object"
      ]
     },
     "execution_count": 14,
     "metadata": {},
     "output_type": "execute_result"
    }
   ],
   "source": [
    "inf[194]\n",
    "df.loc[194]"
   ]
  },
  {
   "cell_type": "markdown",
   "id": "behavioral-calvin",
   "metadata": {},
   "source": [
    "### 5. Interpréter l'autocorrélogramme et l'autocorrélogrammes partiels de inf. Quelle est la différence entre ces deux graphiques ?"
   ]
  },
  {
   "cell_type": "code",
   "execution_count": 15,
   "id": "rising-touch",
   "metadata": {},
   "outputs": [
    {
     "data": {
      "image/png": "[encoded data removed]",
      "text/plain": [
       "<Figure size 432x288 with 1 Axes>"
      ]
     },
     "metadata": {
      "needs_background": "light"
     },
     "output_type": "display_data"
    },
    {
     "data": {
      "image/png": "[encoded data removed]",
      "text/plain": [
       "<Figure size 432x288 with 1 Axes>"
      ]
     },
     "metadata": {
      "needs_background": "light"
     },
     "output_type": "display_data"
    }
   ],
   "source": [
    "#acf(inf)\n",
    "plot_acf(inf, alpha = 0.05)\n",
    "plt.show()\n",
    "\n",
    "#pacf(inf)\n",
    "plot_pacf(inf,alpha = 0.05)\n",
    "plt.show()\n"
   ]
  },
  {
   "cell_type": "markdown",
   "id": "confirmed-scholarship",
   "metadata": {},
   "source": [
    "Ici dans notre fonction d'autocorrélation, on voit qu'au délai 1 l'inflation est corrélé avec un coefficient de 1(le signal initial lui même). Plus on avance dans le temps, moins nos données sont corrélés avec les données d'avant.\n",
    "Ici au délai 2, on est moins corrélé avec les données du délai 1 et ainsi de suite. Plus on s'éloigne du délai initiale, plus le lien entre les données est faible.  \n",
    "Notre question est combien de lag doit on introduire pour prédire l'inflation ?  \n",
    "Notre graphe d'autocorrélation partielle nous renseigne si au délai 1, je peux prédire le futur. Ici, sur notre graphe on voit qu'à partir du délai 4, les autres délais ne semblent pas avoir d'effets signficatifs sur la taux d'inflation. La zone en bleu signifie que lorsque le coefficient de corrélation se trouve dans cette zone, elle n'est plus significatif au seuil de 5%. On se retrouve avec un processus AR(4). On va donc estimer un processus AR(4) avec ces données-ci."
   ]
  },
  {
   "cell_type": "markdown",
   "id": "pressing-ghost",
   "metadata": {},
   "source": [
    "### 6. Quelle est la différence entre la stationnarité et l'ergodicité ? Pourquoi a-t-on besoin de ces deux conditions. Expliquez le terme \"spurious regression\"."
   ]
  },
  {
   "cell_type": "markdown",
   "id": "opposed-event",
   "metadata": {},
   "source": [
    "Ergodicité (Wiki)\n",
    "\n",
    "\"Un processus ergodique est un processus stochastique pour lequel les statistiques peuvent être approchées par l'étude d'une seule réalisation suffisamment longue.\"  \n",
    "Ce qui signifie qu'avec cette seule réalisation crée par ce processus, on va pouvoir faire de l'inférence sur le processus qui a généré les données. \n",
    "La différence est que dans une série stationnaire, les observations dépend fortement des observations passés tandis que l'ergodique, la dépendance est moins forte et qu'il y a pas d'état absorbant pour l'ergodique.\n",
    "Si on laisse le processus et qu'on a suffisament d'observation, les conditions initiales ne sont pas importantes c'est-à-dire qu'à partir d'une réalisation du processus, on va devoir faire de l'inférence sur le processus qui a génér\" les réalisations. \n",
    "\n",
    "Si on a un processus ergodique, on va pouvoir appliquer le théorème ergodique qui dit que la moyenne empirique va coverger vers la vraie moyenne théorique du processus hyper complexe qui a généré cette seule réalisation. C'est un résultat for qui dépend d'une hypothèse forte que le monde qu'on observe est ergodique c'est-à-dire, pas de stationnarité, c'est-à-dire que les conditions initiales ne sont pas importantes.\n",
    "Cependant, cela est faux car les conditions initiales vont déterminer la trajectoire qu'on observe (à partir de la data on va pouvoir dire des choses). Si on est prêt à faire ses hypothèse de stationnarité et d'ergodicité et qu'on arrive à se mettre dans les conditions de Gauss-Markov, on pourra appliquer tout ce qu'on a vu à peu de choses près avec les tests dans la partie précédente, que ce soit les tests de Student, les tests de fisher, les changements de structures etc.  \n",
    "Pour être dans les conditions de Gauss Markov, il faut 2 conditions :  \n",
    "-exogénéité, que les $u_t$ soient indépendants des $x_t$, mais il suffit d'avoir une exogénité contemporaine.\n",
    "-hétéroscédasticité, c'est-à-dire, pas d'auto-corrélation des erreurs, pour cela on transforme les séries pour que les séries transformés soient homoscédastique par quasi différences :  \n",
    "$y_t - \\rho y_{t-1}$  \n",
    "$X_t - \\rho y_{t-1}$  où $\\rho$ est le coefficient d'auto-corrélation  \n",
    "(on peut calculer un estimateur des moindres carrés généralisé qui tient compte de l'hétéroscédastcité.)\n",
    "\n",
    "Le terme spurious regression, c'est une corrélation avec entre 2 variables qui n'ont pas de rapport, qui n'ont aucun sens type : corrélation de vente de mozarrella et l'amélioration dans la science. Car ils ne prennent pas en compte le terme de tendance, il n'y a donc pas de modélisation du terme de tendance\n",
    "\n"
   ]
  },
  {
   "cell_type": "markdown",
   "id": "rocky-ready",
   "metadata": {},
   "source": [
    "### 7. Faire le test Augmented Dickey Fuller pour inf en utilisant le critère AIC pour déterminer le nombre de lags à inclure. Commenter"
   ]
  },
  {
   "cell_type": "markdown",
   "id": "sensitive-carol",
   "metadata": {},
   "source": [
    "AIC avec hypothèses de stationarité (inf issue de CPI detrendée, ici pas de changement de régime modélisé\n",
    "pour le moment, bien qu'on ait déjà remarqué celui dû aux subprimes), ergodicité, homoscédasticité.\n",
    "Donc Gauss Markov vérifié.\n",
    "On récupère les paramètres optimaux correspondant au modèle le plus proche du processus,\n",
    "au sens de la métrique AIC (approche GridSearch ML en quelque sorte)\n",
    "\n",
    "!! La cellule ci dessous donnent des résultats sans constante ni tendance (regression='nc') !!\n"
   ]
  },
  {
   "cell_type": "code",
   "execution_count": 16,
   "id": "thick-modern",
   "metadata": {},
   "outputs": [
    {
     "name": "stdout",
     "output_type": "stream",
     "text": [
      "stats de Dickey-Fuller :-1.42577860278205\n",
      "p valeure :0.1435806870589662\n",
      "Nombre de degré de liberté : 207\n",
      "Le nombre de LAGS qui minimise le critère AIC est :  4\n",
      "Avec CE modèle ADF d'ordre 4 on trouve que :\n",
      "La valeur critique à 5% est :  -1.9423725959590938\n",
      "Or la stat DF de notre modèle vaut :  -1.42577860278205\n",
      "Donc on ne rejète pas Ho : \n",
      "il existe une racine unitaire dans le modèle et donc on va favoriser une approche par différence premières\n"
     ]
    }
   ],
   "source": [
    "# !!!! pas de constante, pas de tendance : regression='nc'\n",
    "\n",
    "adf_inf_AIC = adfuller(inf, regression='nc', autolag='AIC')\n",
    "\n",
    "print(f\"stats de Dickey-Fuller :{adf_inf_AIC[0]}\")\n",
    "print(f\"p valeure :{adf_inf_AIC[1]}\")\n",
    "print(f\"Nombre de degré de liberté : {adf_inf_AIC[3]}\")\n",
    "print (f\"Le nombre de LAGS qui minimise le critère AIC est :  {adf_inf_AIC[2]}\" ) # Cela corréle avec notre Autocorrélogramme partiels\n",
    "print(f\"Avec CE modèle ADF d'ordre {adf_inf_AIC[2]} on trouve que :\")\n",
    "print (f\"La valeur critique à 5% est :  {adf_inf_AIC[4]['5%']}\" )\n",
    "print (f\"Or la stat DF de notre modèle vaut :  {adf_inf_AIC[0]}\" )\n",
    "\n",
    "# Or..\n",
    "# La spec du test de Dickey Fuller stipule que l'hypothèse est REJETEE si la stat est INF à la val critique tab\n",
    "marge = adf_inf_AIC[0] - adf_inf_AIC[4]['5%'] \n",
    "\n",
    "\n",
    "if marge > 0 :\n",
    "    print(f\"Donc on ne rejète pas Ho : \") # On accepte jamais l'hypothèse H0\n",
    "    print (\"il existe une racine unitaire dans le modèle et donc on va favoriser une approche par différence premières\")\n",
    "else:\n",
    "    print(f\"Donc on rejète Ho : pas de racine unitaire dans le modèle\") \n",
    "    print (\".. et donc approche filtre possible par ailleurs\")\n"
   ]
  },
  {
   "cell_type": "markdown",
   "id": "interstate-retro",
   "metadata": {},
   "source": [
    "### 8. Proposer une modélisation AR(p) de inf, en utilisant tous les outils vus au cours."
   ]
  },
  {
   "cell_type": "markdown",
   "id": "checked-processor",
   "metadata": {},
   "source": [
    "Nous avons donc stationarisé CPI\n",
    "Prenons le résultat précédent qui propose un LAG de 4"
   ]
  },
  {
   "cell_type": "code",
   "execution_count": 17,
   "id": "valued-graphics",
   "metadata": {},
   "outputs": [
    {
     "data": {
      "text/plain": [
       "L1.CPI    0.628262\n",
       "L2.CPI    0.000366\n",
       "L3.CPI    0.350326\n",
       "L4.CPI   -0.025946\n",
       "dtype: float64"
      ]
     },
     "execution_count": 17,
     "metadata": {},
     "output_type": "execute_result"
    }
   ],
   "source": [
    "# Avec trend : str {‘c’,’nc’} :  Whether to include a constant or not. ‘c’ includes constant, ‘nc’ no constant.\n",
    "# cf\n",
    "# https://www.statsmodels.org/stable/generated/statsmodels.tsa.arima_model.ARIMA.fit.html\n",
    "\n",
    "# Avec le max lag de la question précédente, on obtient le modèle d'ordre correspondant, dont les paramètres\n",
    "# sont explicités ici :\n",
    "mdl = smt.AR(inf).fit(maxlag=adf_inf_AIC[2], trend='nc')\n",
    "mdl.params"
   ]
  },
  {
   "cell_type": "code",
   "execution_count": 18,
   "id": "secure-welcome",
   "metadata": {},
   "outputs": [],
   "source": [
    "def arimamodel(timeseriesarray):\n",
    "    autoarima_model = pmd.auto_arima(timeseriesarray, \n",
    "                              start_p=1, \n",
    "                              start_q=1,\n",
    "                              test=\"adf\",\n",
    "                              trace=True)\n",
    "    return autoarima_model"
   ]
  },
  {
   "cell_type": "code",
   "execution_count": 19,
   "id": "comic-tracy",
   "metadata": {
    "scrolled": false
   },
   "outputs": [
    {
     "name": "stdout",
     "output_type": "stream",
     "text": [
      "Performing stepwise search to minimize aic\n",
      " ARIMA(1,1,1)(0,0,0)[0] intercept   : AIC=888.775, Time=0.12 sec\n",
      " ARIMA(0,1,0)(0,0,0)[0] intercept   : AIC=922.758, Time=0.01 sec\n",
      " ARIMA(1,1,0)(0,0,0)[0] intercept   : AIC=908.295, Time=0.04 sec\n",
      " ARIMA(0,1,1)(0,0,0)[0] intercept   : AIC=890.903, Time=0.08 sec\n",
      " ARIMA(0,1,0)(0,0,0)[0]             : AIC=920.763, Time=0.01 sec\n",
      " ARIMA(2,1,1)(0,0,0)[0] intercept   : AIC=884.983, Time=0.09 sec\n",
      " ARIMA(2,1,0)(0,0,0)[0] intercept   : AIC=883.178, Time=0.05 sec\n",
      " ARIMA(3,1,0)(0,0,0)[0] intercept   : AIC=885.147, Time=0.08 sec\n",
      " ARIMA(3,1,1)(0,0,0)[0] intercept   : AIC=881.596, Time=0.24 sec\n",
      " ARIMA(4,1,1)(0,0,0)[0] intercept   : AIC=883.503, Time=0.11 sec\n",
      " ARIMA(3,1,2)(0,0,0)[0] intercept   : AIC=881.116, Time=0.21 sec\n",
      " ARIMA(2,1,2)(0,0,0)[0] intercept   : AIC=883.577, Time=0.08 sec\n",
      " ARIMA(4,1,2)(0,0,0)[0] intercept   : AIC=884.191, Time=0.36 sec\n",
      " ARIMA(3,1,3)(0,0,0)[0] intercept   : AIC=883.090, Time=0.36 sec\n",
      " ARIMA(2,1,3)(0,0,0)[0] intercept   : AIC=883.230, Time=0.19 sec\n",
      " ARIMA(4,1,3)(0,0,0)[0] intercept   : AIC=885.968, Time=0.31 sec\n",
      " ARIMA(3,1,2)(0,0,0)[0]             : AIC=879.133, Time=0.12 sec\n",
      " ARIMA(2,1,2)(0,0,0)[0]             : AIC=881.585, Time=0.05 sec\n",
      " ARIMA(3,1,1)(0,0,0)[0]             : AIC=879.604, Time=0.13 sec\n",
      " ARIMA(4,1,2)(0,0,0)[0]             : AIC=882.197, Time=0.11 sec\n",
      " ARIMA(3,1,3)(0,0,0)[0]             : AIC=881.104, Time=0.20 sec\n",
      " ARIMA(2,1,1)(0,0,0)[0]             : AIC=882.990, Time=0.04 sec\n",
      " ARIMA(2,1,3)(0,0,0)[0]             : AIC=881.239, Time=0.12 sec\n",
      " ARIMA(4,1,1)(0,0,0)[0]             : AIC=881.511, Time=0.08 sec\n",
      " ARIMA(4,1,3)(0,0,0)[0]             : AIC=883.973, Time=0.19 sec\n",
      "\n",
      "Best model:  ARIMA(3,1,2)(0,0,0)[0]          \n",
      "Total fit time: 3.456 seconds\n"
     ]
    },
    {
     "data": {
      "text/html": [
       "<table class=\"simpletable\">\n",
       "<caption>SARIMAX Results</caption>\n",
       "<tr>\n",
       "  <th>Dep. Variable:</th>           <td>y</td>        <th>  No. Observations:  </th>    <td>212</td>  \n",
       "</tr>\n",
       "<tr>\n",
       "  <th>Model:</th>           <td>SARIMAX(3, 1, 2)</td> <th>  Log Likelihood     </th> <td>-433.566</td>\n",
       "</tr>\n",
       "<tr>\n",
       "  <th>Date:</th>            <td>Mon, 17 May 2021</td> <th>  AIC                </th>  <td>879.133</td>\n",
       "</tr>\n",
       "<tr>\n",
       "  <th>Time:</th>                <td>00:21:38</td>     <th>  BIC                </th>  <td>899.244</td>\n",
       "</tr>\n",
       "<tr>\n",
       "  <th>Sample:</th>                  <td>0</td>        <th>  HQIC               </th>  <td>887.262</td>\n",
       "</tr>\n",
       "<tr>\n",
       "  <th></th>                      <td> - 212</td>      <th>                     </th>     <td> </td>   \n",
       "</tr>\n",
       "<tr>\n",
       "  <th>Covariance Type:</th>        <td>opg</td>       <th>                     </th>     <td> </td>   \n",
       "</tr>\n",
       "</table>\n",
       "<table class=\"simpletable\">\n",
       "<tr>\n",
       "     <td></td>       <th>coef</th>     <th>std err</th>      <th>z</th>      <th>P>|z|</th>  <th>[0.025</th>    <th>0.975]</th>  \n",
       "</tr>\n",
       "<tr>\n",
       "  <th>ar.L1</th>  <td>    0.1181</td> <td>    0.252</td> <td>    0.468</td> <td> 0.640</td> <td>   -0.376</td> <td>    0.612</td>\n",
       "</tr>\n",
       "<tr>\n",
       "  <th>ar.L2</th>  <td>    0.1705</td> <td>    0.180</td> <td>    0.949</td> <td> 0.343</td> <td>   -0.182</td> <td>    0.523</td>\n",
       "</tr>\n",
       "<tr>\n",
       "  <th>ar.L3</th>  <td>    0.2852</td> <td>    0.056</td> <td>    5.123</td> <td> 0.000</td> <td>    0.176</td> <td>    0.394</td>\n",
       "</tr>\n",
       "<tr>\n",
       "  <th>ma.L1</th>  <td>   -0.5021</td> <td>    0.275</td> <td>   -1.826</td> <td> 0.068</td> <td>   -1.041</td> <td>    0.037</td>\n",
       "</tr>\n",
       "<tr>\n",
       "  <th>ma.L2</th>  <td>   -0.3927</td> <td>    0.243</td> <td>   -1.615</td> <td> 0.106</td> <td>   -0.869</td> <td>    0.084</td>\n",
       "</tr>\n",
       "<tr>\n",
       "  <th>sigma2</th> <td>    3.5559</td> <td>    0.143</td> <td>   24.834</td> <td> 0.000</td> <td>    3.275</td> <td>    3.837</td>\n",
       "</tr>\n",
       "</table>\n",
       "<table class=\"simpletable\">\n",
       "<tr>\n",
       "  <th>Ljung-Box (L1) (Q):</th>     <td>0.00</td> <th>  Jarque-Bera (JB):  </th> <td>2051.17</td>\n",
       "</tr>\n",
       "<tr>\n",
       "  <th>Prob(Q):</th>                <td>0.96</td> <th>  Prob(JB):          </th>  <td>0.00</td>  \n",
       "</tr>\n",
       "<tr>\n",
       "  <th>Heteroskedasticity (H):</th> <td>2.64</td> <th>  Skew:              </th>  <td>-2.23</td> \n",
       "</tr>\n",
       "<tr>\n",
       "  <th>Prob(H) (two-sided):</th>    <td>0.00</td> <th>  Kurtosis:          </th>  <td>17.61</td> \n",
       "</tr>\n",
       "</table><br/><br/>Warnings:<br/>[1] Covariance matrix calculated using the outer product of gradients (complex-step)."
      ],
      "text/plain": [
       "<class 'statsmodels.iolib.summary.Summary'>\n",
       "\"\"\"\n",
       "                               SARIMAX Results                                \n",
       "==============================================================================\n",
       "Dep. Variable:                      y   No. Observations:                  212\n",
       "Model:               SARIMAX(3, 1, 2)   Log Likelihood                -433.566\n",
       "Date:                Mon, 17 May 2021   AIC                            879.133\n",
       "Time:                        00:21:38   BIC                            899.244\n",
       "Sample:                             0   HQIC                           887.262\n",
       "                                - 212                                         \n",
       "Covariance Type:                  opg                                         \n",
       "==============================================================================\n",
       "                 coef    std err          z      P>|z|      [0.025      0.975]\n",
       "------------------------------------------------------------------------------\n",
       "ar.L1          0.1181      0.252      0.468      0.640      -0.376       0.612\n",
       "ar.L2          0.1705      0.180      0.949      0.343      -0.182       0.523\n",
       "ar.L3          0.2852      0.056      5.123      0.000       0.176       0.394\n",
       "ma.L1         -0.5021      0.275     -1.826      0.068      -1.041       0.037\n",
       "ma.L2         -0.3927      0.243     -1.615      0.106      -0.869       0.084\n",
       "sigma2         3.5559      0.143     24.834      0.000       3.275       3.837\n",
       "===================================================================================\n",
       "Ljung-Box (L1) (Q):                   0.00   Jarque-Bera (JB):              2051.17\n",
       "Prob(Q):                              0.96   Prob(JB):                         0.00\n",
       "Heteroskedasticity (H):               2.64   Skew:                            -2.23\n",
       "Prob(H) (two-sided):                  0.00   Kurtosis:                        17.61\n",
       "===================================================================================\n",
       "\n",
       "Warnings:\n",
       "[1] Covariance matrix calculated using the outer product of gradients (complex-step).\n",
       "\"\"\""
      ]
     },
     "execution_count": 19,
     "metadata": {},
     "output_type": "execute_result"
    }
   ],
   "source": [
    "arima_model = arimamodel(inf)\n",
    "arima_model.summary()"
   ]
  },
  {
   "cell_type": "code",
   "execution_count": 20,
   "id": "material-smart",
   "metadata": {},
   "outputs": [
    {
     "data": {
      "image/png": "[encoded data removed]",
      "text/plain": [
       "<Figure size 432x288 with 1 Axes>"
      ]
     },
     "metadata": {
      "needs_background": "light"
     },
     "output_type": "display_data"
    },
    {
     "data": {
      "image/png": "[encoded data removed]",
      "text/plain": [
       "<Figure size 432x288 with 1 Axes>"
      ]
     },
     "metadata": {
      "needs_background": "light"
     },
     "output_type": "display_data"
    }
   ],
   "source": [
    "#acf(inf)\n",
    "plot_acf(inf, alpha = 0.05)\n",
    "plt.show()\n",
    "\n",
    "#pacf(inf)\n",
    "plot_pacf(inf,alpha = 0.05)\n",
    "plt.show()"
   ]
  },
  {
   "cell_type": "markdown",
   "id": "alike-thompson",
   "metadata": {},
   "source": [
    "D'après le modèle ARIMA, le paramètre p minimisant au mieux l'AIC est p = 3, ceci coincide avec nos autocorrélogramme et autocorrélogramme partielle qui atteste qu'à partir du 4e lag, les coefficients ne sont plus significatifs au vue de leur présence dans la zone bleu qui représente le seuil à 5% de significativité."
   ]
  },
  {
   "cell_type": "markdown",
   "id": "internal-orlando",
   "metadata": {},
   "source": [
    "### 9. Estimer le modèle de la courbe de Philips qui explique le taux de chômage (Unemp) en fonction du taux d’inflation courant et une constante."
   ]
  },
  {
   "cell_type": "code",
   "execution_count": 21,
   "id": "cathedral-marine",
   "metadata": {},
   "outputs": [
    {
     "data": {
      "image/png": "[encoded data removed]",
      "text/plain": [
       "<Figure size 432x288 with 1 Axes>"
      ]
     },
     "metadata": {
      "needs_background": "light"
     },
     "output_type": "display_data"
    },
    {
     "name": "stdout",
     "output_type": "stream",
     "text": [
      "Paramètres du modèle : \n",
      "Coefficient de la pente est de [0.00579407]\n",
      "l'intercept est de 6.059253507046363\n"
     ]
    }
   ],
   "source": [
    "unemployment = df['Unemp']\n",
    "X = np.array(inf).reshape(-1, 1)\n",
    "y =  unemployment #[1:]\n",
    "\n",
    "# Régression pour avoir le coefficient et l'intercept\n",
    "model = LinearRegression(fit_intercept=True)\n",
    "model.fit(X, y)\n",
    "coef = model.coef_\n",
    "intercept = model.intercept_\n",
    "\n",
    "# plot du graphique\n",
    "plt.plot(X,  coef*X + intercept, color='r', label = \"Courbe de tendance linéaire entre chomâge et inflation\")\n",
    "plt.scatter(inf, unemployment, color = 'blue')\n",
    "plt.xlabel(\"Inflation\")\n",
    "plt.ylabel(\"Taux de chômage\")\n",
    "plt.title(\"Courbe de Philips\")\n",
    "plt.legend()\n",
    "plt.show()\n",
    "\n",
    "print(\"Paramètres du modèle : \")\n",
    "print(f\"Coefficient de la pente est de {coef}\")\n",
    "print(f\"l'intercept est de {intercept}\")"
   ]
  },
  {
   "cell_type": "code",
   "execution_count": 22,
   "id": "virgin-bidder",
   "metadata": {
    "scrolled": false
   },
   "outputs": [
    {
     "name": "stdout",
     "output_type": "stream",
     "text": [
      "                            OLS Regression Results                            \n",
      "==============================================================================\n",
      "Dep. Variable:                  Unemp   R-squared:                       0.000\n",
      "Model:                            OLS   Adj. R-squared:                 -0.005\n",
      "Method:                 Least Squares   F-statistic:                   0.02604\n",
      "Date:                Mon, 17 May 2021   Prob (F-statistic):              0.872\n",
      "Time:                        00:21:39   Log-Likelihood:                -401.84\n",
      "No. Observations:                 212   AIC:                             807.7\n",
      "Df Residuals:                     210   BIC:                             814.4\n",
      "Df Model:                           1                                         \n",
      "Covariance Type:            nonrobust                                         \n",
      "==============================================================================\n",
      "                 coef    std err          t      P>|t|      [0.025      0.975]\n",
      "------------------------------------------------------------------------------\n",
      "const          6.0593      0.179     33.774      0.000       5.706       6.413\n",
      "x1             0.0058      0.036      0.161      0.872      -0.065       0.077\n",
      "==============================================================================\n",
      "Omnibus:                       14.253   Durbin-Watson:                   0.044\n",
      "Prob(Omnibus):                  0.001   Jarque-Bera (JB):               15.817\n",
      "Skew:                           0.669   Prob(JB):                     0.000368\n",
      "Kurtosis:                       2.954   Cond. No.                         8.27\n",
      "==============================================================================\n",
      "\n",
      "Notes:\n",
      "[1] Standard Errors assume that the covariance matrix of the errors is correctly specified.\n"
     ]
    }
   ],
   "source": [
    "s = df.shape[0] \n",
    "const=np.ones(s)\n",
    "y = df[\"Unemp\"] # quand tu fais np.diff l'output qui en ressort c'est celui-ci out[i] = a[i+1] - a[i]\n",
    "X = np.column_stack((const, inf)) # Tu n'as donc pas la dernière valeur alors tu supprimmes la dernière valeure de Y\n",
    "model=sm.OLS(y,X)\n",
    "results = model.fit()\n",
    "print(results.summary())\n",
    "u=results.resid"
   ]
  },
  {
   "cell_type": "markdown",
   "id": "wrapped-finding",
   "metadata": {},
   "source": [
    "Au vue de notre p-value à 87.2%, à 5 % nous ne rejettons pas $H_0$ ce qui signifie que le coefficient n'est pas significatif par rapport au taux de chômage"
   ]
  },
  {
   "cell_type": "markdown",
   "id": "central-swing",
   "metadata": {},
   "source": [
    "### 10. Tester l’autocorrélation des erreurs."
   ]
  },
  {
   "cell_type": "code",
   "execution_count": 23,
   "id": "helpful-title",
   "metadata": {},
   "outputs": [
    {
     "name": "stdout",
     "output_type": "stream",
     "text": [
      "                                 OLS Regression Results                                \n",
      "=======================================================================================\n",
      "Dep. Variable:                      y   R-squared (uncentered):                   0.956\n",
      "Model:                            OLS   Adj. R-squared (uncentered):              0.956\n",
      "Method:                 Least Squares   F-statistic:                              4564.\n",
      "Date:                Mon, 17 May 2021   Prob (F-statistic):                   1.99e-144\n",
      "Time:                        00:21:39   Log-Likelihood:                         -70.709\n",
      "No. Observations:                 211   AIC:                                      143.4\n",
      "Df Residuals:                     210   BIC:                                      146.8\n",
      "Df Model:                           1                                                  \n",
      "Covariance Type:            nonrobust                                                  \n",
      "==============================================================================\n",
      "                 coef    std err          t      P>|t|      [0.025      0.975]\n",
      "------------------------------------------------------------------------------\n",
      "x1             0.9797      0.015     67.559      0.000       0.951       1.008\n",
      "==============================================================================\n",
      "Omnibus:                       79.442   Durbin-Watson:                   0.669\n",
      "Prob(Omnibus):                  0.000   Jarque-Bera (JB):              247.536\n",
      "Skew:                           1.586   Prob(JB):                     1.77e-54\n",
      "Kurtosis:                       7.253   Cond. No.                         1.00\n",
      "==============================================================================\n",
      "\n",
      "Notes:\n",
      "[1] R² is computed without centering (uncentered) since the model does not contain a constant.\n",
      "[2] Standard Errors assume that the covariance matrix of the errors is correctly specified.\n"
     ]
    }
   ],
   "source": [
    "n = len(u)\n",
    "u_1 = u[0:n-1]\n",
    "const2 = np.ones(n-1)\n",
    "X=np.column_stack((const2, u_1))\n",
    "X=X[:,1]\n",
    "y=u[1:n]\n",
    "model2=sm.OLS(y, X)\n",
    "results2 = model2.fit()\n",
    "print(results2.summary())\n",
    "\n",
    "# cf jeffrey's book :\n",
    "# This regression may or may not\n",
    "# contain an intercept; the t statistic for r ˆ will be slightly affected, but it is asymptotically\n",
    "# valid either way."
   ]
  },
  {
   "cell_type": "markdown",
   "id": "complete-iceland",
   "metadata": {},
   "source": [
    "Le modèle confirme avec une p-value à 0% ce qui signifie que le coefficient est significatif et comme le coefficient est pratiquement de 1 on peut dire qu'il y a autocorrélation postivie des erreurs, ce qui nécessite les traitements suivants de \"correction\"."
   ]
  },
  {
   "cell_type": "markdown",
   "id": "gorgeous-devil",
   "metadata": {},
   "source": [
    "### 11. Corriger l’autocorrélation des erreurs par la méthode vue en cours."
   ]
  },
  {
   "cell_type": "markdown",
   "id": "floral-reporter",
   "metadata": {},
   "source": [
    "Pour traiter l'autocorrélation on va partir de ces 2 équations :  \n",
    "$y_{t-1} = \\beta_0 + \\beta_1 X_{t-1} + u_{t-1}$  \n",
    "$y_t = \\beta_0 + \\beta_1 X_t + u_t$  \n",
    "\n",
    "Puis en faisant la différence entre les 2 modèles, on obtient :  \n",
    "$y_t - \\rho y_{t-1} = (1 - \\rho)\\beta_0 + \\beta1(X_t - \\rho X_{t-1}) + e_t, t\\geq 2$,  \n",
    "On obtient donc :  \n",
    "$\\tilde{y_t} = (1 - \\rho)\\beta_0 + \\beta_1 \\tilde{X_t} + e_t, t\\geq 2$  \n",
    "\n",
    "où $\\tilde{y_t} = y_t - \\rho y_{t-1}$ et $\\tilde{X_t} = X_t - \\rho X_{t-1} $"
   ]
  },
  {
   "cell_type": "code",
   "execution_count": 24,
   "id": "biological-musician",
   "metadata": {},
   "outputs": [
    {
     "name": "stdout",
     "output_type": "stream",
     "text": [
      "                            OLS Regression Results                            \n",
      "==============================================================================\n",
      "Dep. Variable:                      y   R-squared:                       0.024\n",
      "Model:                            OLS   Adj. R-squared:                  0.019\n",
      "Method:                 Least Squares   F-statistic:                     5.129\n",
      "Date:                Mon, 17 May 2021   Prob (F-statistic):             0.0246\n",
      "Time:                        00:21:39   Log-Likelihood:                -66.683\n",
      "No. Observations:                 211   AIC:                             137.4\n",
      "Df Residuals:                     209   BIC:                             144.1\n",
      "Df Model:                           1                                         \n",
      "Covariance Type:            nonrobust                                         \n",
      "==============================================================================\n",
      "                 coef    std err          t      P>|t|      [0.025      0.975]\n",
      "------------------------------------------------------------------------------\n",
      "const          6.8148      1.135      6.006      0.000       4.578       9.052\n",
      "x1            -0.0246      0.011     -2.265      0.025      -0.046      -0.003\n",
      "==============================================================================\n",
      "Omnibus:                       82.343   Durbin-Watson:                   0.723\n",
      "Prob(Omnibus):                  0.000   Jarque-Bera (JB):              285.559\n",
      "Skew:                           1.598   Prob(JB):                     9.81e-63\n",
      "Kurtosis:                       7.718   Cond. No.                         105.\n",
      "==============================================================================\n",
      "\n",
      "Notes:\n",
      "[1] Standard Errors assume that the covariance matrix of the errors is correctly specified.\n"
     ]
    }
   ],
   "source": [
    "n = len(u)\n",
    "rho = results2.params[0]\n",
    "const = np.ones(n-1)\n",
    "y_tilde = df[\"Unemp\"][1:n].values - rho*df[\"Unemp\"][0:n-1].values\n",
    "X_tilde = np.column_stack((const, inf[1:n] )) - rho*np.column_stack((const, inf[0:n-1]))\n",
    "model3=sm.OLS(y_tilde,X_tilde)\n",
    "results3 = model3.fit()\n",
    "print(results3.summary())"
   ]
  },
  {
   "cell_type": "code",
   "execution_count": 25,
   "id": "verbal-german",
   "metadata": {},
   "outputs": [
    {
     "name": "stdout",
     "output_type": "stream",
     "text": [
      "x1 de cette reg FGLS donne directement BETA1 recherché : -0.024602670360886342\n",
      "la const de cette reg FGLS donne (1-roHat)BETA0 :6.814806818754986\n",
      "et donc BETA0 vaut : 336.51966686002226\n"
     ]
    }
   ],
   "source": [
    "print(f\"x1 de cette reg FGLS donne directement BETA1 recherché : {results3.params[1]}\")\n",
    "print(f\"la const de cette reg FGLS donne (1-roHat)BETA0 :{results3.params[0]}\")\n",
    "print(f\"et donc BETA0 vaut : {results3.params[0] / (1 - rho)}\")"
   ]
  },
  {
   "cell_type": "markdown",
   "id": "first-restoration",
   "metadata": {},
   "source": [
    "### 12. Tester la stabilité de la relation chômage-inflation sur deux sous-périodes de taille identique."
   ]
  },
  {
   "cell_type": "markdown",
   "id": "injured-bread",
   "metadata": {},
   "source": [
    "2 méthodes s'imposent à nous :  \n",
    "- soit on connait la période du changement de régime et on va effectuer le test de Chow et introduire des variables binaires selon qu'on est avant ou après la période $\\tau$ et calculer une statistique de Fisher avec un modèle contraint et non contraint. Ici notre valeur $\\tau$ correspondra à $T/2$ où T est la dernière réalisation car on doit testes la stabilité de la relation chômage-inflation sur deux sous périodes de $\\underline{taille identique}$\n",
    "- soit on ne connait pas la période tau, alors on fera un trimming et un max des différentes statistiques de Fisher qu'on a obtenu.\n",
    "\n",
    "=> Ici comme on doit couper nos deux sous-périodes de taille identique, on va alors utilisé le test de CHOW."
   ]
  },
  {
   "cell_type": "code",
   "execution_count": 26,
   "id": "municipal-david",
   "metadata": {},
   "outputs": [],
   "source": [
    "# Modèle contraint\n",
    "u3=results3.resid\n",
    "SSRr=u3.T@u3"
   ]
  },
  {
   "cell_type": "code",
   "execution_count": 27,
   "id": "yellow-italy",
   "metadata": {},
   "outputs": [
    {
     "name": "stdout",
     "output_type": "stream",
     "text": [
      "Stats de Fisher 4.231581474542131\n",
      "p value 0.01580600288248177\n",
      "Rejet de H0 => Il y a donc changement de régime\n"
     ]
    }
   ],
   "source": [
    "t_demi = int(len(X_tilde)/2)\n",
    "\n",
    "#P1\n",
    "model4=sm.OLS(y_tilde[0:t_demi],X_tilde[0:t_demi])\n",
    "results4 = model4.fit()\n",
    "u4=results4.resid\n",
    "SSRur1=u4.T@u4\n",
    "\n",
    "#P2\n",
    "model=sm.OLS(y_tilde[t_demi:],X_tilde[t_demi:])\n",
    "results5 = model.fit()\n",
    "u5=results5.resid\n",
    "SSRur2=u5.T@u5\n",
    "\n",
    "\n",
    "n=len(y_tilde)\n",
    "F=((SSRr-(SSRur1+SSRur2))/(SSRur1+SSRur2))*(n-4)/2 # n-2*(k+1)/k+1 car on teste 2 variables binaires\n",
    "print(\"Stats de Fisher\", F)\n",
    "print(\"p value\", f.sf(F,2,n-4))\n",
    "\n",
    "if f.sf(F,2,n-4) > 0.05 :\n",
    "    print(\"Non rejet de H0 => Il y a stabilité donc pas de changements de régimes\")\n",
    "else :\n",
    "    print(\"Rejet de H0 => Il y a donc changement de régime\")"
   ]
  },
  {
   "cell_type": "markdown",
   "id": "aggressive-january",
   "metadata": {},
   "source": [
    "### 13. Faites les tests de changement de structure de Chow et détecter le point de rupture."
   ]
  },
  {
   "cell_type": "code",
   "execution_count": 28,
   "id": "different-establishment",
   "metadata": {},
   "outputs": [
    {
     "name": "stdout",
     "output_type": "stream",
     "text": [
      "Statistique de QLR : 6.086947654491056\n",
      "Le seuil critique à 2 ddl est de 7.78\n",
      "Notre test QLR n'est pas significatif à 1 %,je ne rejète pas l'hypothèse H0 à 1 %, il n'y a donc pas de changement de strucutre\n"
     ]
    }
   ],
   "source": [
    "# SSR modèle non contraint :\n",
    "u3=results3.resid\n",
    "SSRr=u3.T@u3\n",
    "\n",
    "a=int(len(y_tilde)*0.15)\n",
    "b=int(len(y_tilde)*0.85)\n",
    "sol=[]\n",
    "for i in range(a,b):\n",
    "    \n",
    "    model6=sm.OLS(y_tilde[:i],X_tilde[:i])\n",
    "    results6 = model6.fit()\n",
    "    u6=results6.resid\n",
    "    SSRur1=u6.T@u6;SSRur1\n",
    "    \n",
    "    model7=sm.OLS(y_tilde[i:],X_tilde[i:])\n",
    "    results7 = model7.fit()\n",
    "    u7=results7.resid\n",
    "    SSRur2=u7.T@u7;SSRur2\n",
    "    \n",
    "    F=((SSRr-(SSRur1+SSRur2))/(SSRur1+SSRur2))*(n-4)/2 # n-2(k+1)/k+1\n",
    "    sol.append(F)\n",
    "sol=np.array(sol)\n",
    "print(f\"Statistique de QLR : {np.max(sol)}\")\n",
    "if np.max(sol) > 7.78 :\n",
    "    print('Le seuil critique à 2 ddl est de 7.78')\n",
    "    print(f\"Notre test QLR est significatif à 1 %, je rejète l'hypothèse H0 à 1 %, il y a donc changement de strucutre\")\n",
    "else :\n",
    "    print('Le seuil critique à 2 ddl est de 7.78')\n",
    "    print(f\"Notre test QLR n'est pas significatif à 1 %,je ne rejète pas l'hypothèse H0 à 1 %, il n'y a donc pas de changement de strucutre\")"
   ]
  },
  {
   "cell_type": "code",
   "execution_count": 29,
   "id": "common-burden",
   "metadata": {
    "scrolled": false
   },
   "outputs": [
    {
     "data": {
      "image/png": "[encoded data removed]",
      "text/plain": [
       "<IPython.core.display.Image object>"
      ]
     },
     "execution_count": 29,
     "metadata": {
      "image/png": {
       "height": 700,
       "width": 700
      }
     },
     "output_type": "execute_result"
    }
   ],
   "source": [
    "Image(filename='seuils_critiques_QLR.png',width=700, height=700)"
   ]
  },
  {
   "cell_type": "code",
   "execution_count": 30,
   "id": "amateur-volunteer",
   "metadata": {},
   "outputs": [
    {
     "name": "stdout",
     "output_type": "stream",
     "text": [
      "Le changement de régime se situe en :\n",
      "1982Q4\n"
     ]
    }
   ],
   "source": [
    "print(f\"Le changement de régime se situe en :\")\n",
    "print(df.loc[np.argmax(sol)+int(len(y_tilde)*0.15)][\"DATE\"])"
   ]
  },
  {
   "cell_type": "code",
   "execution_count": 31,
   "id": "knowing-freeware",
   "metadata": {},
   "outputs": [
    {
     "data": {
      "text/plain": [
       "DATE         1975Q1\n",
       "FFR             6.3\n",
       "Tbill          5.75\n",
       "Tb1yr          6.31\n",
       "r5             7.27\n",
       "r10            7.54\n",
       "PPINSA        57.17\n",
       "Finished      56.63\n",
       "CPI           52.57\n",
       "CPICORE       31.44\n",
       "M1NSA        273.77\n",
       "M2SA         2745.4\n",
       "M2NSA         913.7\n",
       "Unemp          8.27\n",
       "IndProd       40.57\n",
       "RGDP         4791.2\n",
       "Potent       5037.8\n",
       "Deflator     32.757\n",
       "Curr         77.564\n",
       "inf         8.54867\n",
       "Name: 60, dtype: object"
      ]
     },
     "execution_count": 31,
     "metadata": {},
     "output_type": "execute_result"
    }
   ],
   "source": [
    "df.loc[60]"
   ]
  },
  {
   "cell_type": "markdown",
   "id": "worth-banana",
   "metadata": {},
   "source": [
    "On parle de « premier choc pétrolier » pour identifier l'augmentation massive du prix du pétrole due en particulier au fait que les États-Unis ont passé leur pic de production en 1971, cela suivi de l'abandon de Bretton Woods et d'une évaluation du dollar ajoutant à la pression haussière sur le baril (qui provoquera par ricochet l'instabilité monétaire des années 1975-1985) alors que l'embargo arabe lié à la guerre du Kippour d'octobre 1973 jugule l'importation de brut. "
   ]
  },
  {
   "cell_type": "markdown",
   "id": "selected-investigation",
   "metadata": {},
   "source": [
    "### 14. Estimer la courbe de Philips en supprimant l'inflation courante des variables explicatives mais en ajoutant les délais d’ordre 1, 2, 3 et 4 de l’inflation et du chômage. Faire le test de Granger de non causalité de l’inflation sur le chômage. Donnez la p-valeur."
   ]
  },
  {
   "cell_type": "markdown",
   "id": "global-recorder",
   "metadata": {},
   "source": [
    "On se rapporte à un modèle de la forme suivante vue en cours :   \n",
    "$ Unemp{t} = \\beta_{const} + \\beta_{1t}inf_{1t} + \\beta_{2t}inf_{2t} + \\beta_{3t}inf_{3t} + \\beta_{4t}inf_{4t} + \\gamma_{1t}Unemp_{1t}+ \\gamma_{2t}Unemp_{2t}+ \\gamma_{3t}Unemp_{3t} + \\gamma_{4t}Unemp_{4t} $\n"
   ]
  },
  {
   "cell_type": "code",
   "execution_count": 32,
   "id": "institutional-invention",
   "metadata": {},
   "outputs": [
    {
     "data": {
      "text/html": [
       "<div>\n",
       "<style scoped>\n",
       "    .dataframe tbody tr th:only-of-type {\n",
       "        vertical-align: middle;\n",
       "    }\n",
       "\n",
       "    .dataframe tbody tr th {\n",
       "        vertical-align: top;\n",
       "    }\n",
       "\n",
       "    .dataframe thead th {\n",
       "        text-align: right;\n",
       "    }\n",
       "</style>\n",
       "<table border=\"1\" class=\"dataframe\">\n",
       "  <thead>\n",
       "    <tr style=\"text-align: right;\">\n",
       "      <th></th>\n",
       "      <th>DATE</th>\n",
       "      <th>FFR</th>\n",
       "      <th>Tbill</th>\n",
       "      <th>Tb1yr</th>\n",
       "      <th>r5</th>\n",
       "      <th>r10</th>\n",
       "      <th>PPINSA</th>\n",
       "      <th>Finished</th>\n",
       "      <th>CPI</th>\n",
       "      <th>CPICORE</th>\n",
       "      <th>...</th>\n",
       "      <th>Curr</th>\n",
       "      <th>inf</th>\n",
       "      <th>inf1</th>\n",
       "      <th>inf2</th>\n",
       "      <th>inf3</th>\n",
       "      <th>inf4</th>\n",
       "      <th>Unemp1</th>\n",
       "      <th>Unemp2</th>\n",
       "      <th>Unemp3</th>\n",
       "      <th>Unemp4</th>\n",
       "    </tr>\n",
       "  </thead>\n",
       "  <tbody>\n",
       "    <tr>\n",
       "      <th>0</th>\n",
       "      <td>1960Q1</td>\n",
       "      <td>3.93</td>\n",
       "      <td>3.87</td>\n",
       "      <td>4.57</td>\n",
       "      <td>4.64</td>\n",
       "      <td>4.49</td>\n",
       "      <td>31.67</td>\n",
       "      <td>33.20</td>\n",
       "      <td>29.40</td>\n",
       "      <td>18.92</td>\n",
       "      <td>...</td>\n",
       "      <td>31.830</td>\n",
       "      <td>0.00</td>\n",
       "      <td>0.00</td>\n",
       "      <td>0.00</td>\n",
       "      <td>0.00</td>\n",
       "      <td>0.00</td>\n",
       "      <td>5.13</td>\n",
       "      <td>5.13</td>\n",
       "      <td>5.13</td>\n",
       "      <td>5.13</td>\n",
       "    </tr>\n",
       "    <tr>\n",
       "      <th>1</th>\n",
       "      <td>1960Q2</td>\n",
       "      <td>3.70</td>\n",
       "      <td>2.99</td>\n",
       "      <td>3.87</td>\n",
       "      <td>4.30</td>\n",
       "      <td>4.26</td>\n",
       "      <td>31.73</td>\n",
       "      <td>33.40</td>\n",
       "      <td>29.57</td>\n",
       "      <td>19.00</td>\n",
       "      <td>...</td>\n",
       "      <td>31.862</td>\n",
       "      <td>0.17</td>\n",
       "      <td>0.00</td>\n",
       "      <td>0.00</td>\n",
       "      <td>0.00</td>\n",
       "      <td>0.00</td>\n",
       "      <td>5.13</td>\n",
       "      <td>5.13</td>\n",
       "      <td>5.13</td>\n",
       "      <td>5.13</td>\n",
       "    </tr>\n",
       "    <tr>\n",
       "      <th>2</th>\n",
       "      <td>1960Q3</td>\n",
       "      <td>2.94</td>\n",
       "      <td>2.36</td>\n",
       "      <td>3.07</td>\n",
       "      <td>3.67</td>\n",
       "      <td>3.83</td>\n",
       "      <td>31.63</td>\n",
       "      <td>33.43</td>\n",
       "      <td>29.59</td>\n",
       "      <td>19.07</td>\n",
       "      <td>...</td>\n",
       "      <td>32.217</td>\n",
       "      <td>0.02</td>\n",
       "      <td>0.17</td>\n",
       "      <td>0.00</td>\n",
       "      <td>0.00</td>\n",
       "      <td>0.00</td>\n",
       "      <td>5.23</td>\n",
       "      <td>5.13</td>\n",
       "      <td>5.13</td>\n",
       "      <td>5.13</td>\n",
       "    </tr>\n",
       "    <tr>\n",
       "      <th>3</th>\n",
       "      <td>1960Q4</td>\n",
       "      <td>2.30</td>\n",
       "      <td>2.31</td>\n",
       "      <td>2.99</td>\n",
       "      <td>3.75</td>\n",
       "      <td>3.89</td>\n",
       "      <td>31.70</td>\n",
       "      <td>33.67</td>\n",
       "      <td>29.78</td>\n",
       "      <td>19.14</td>\n",
       "      <td>...</td>\n",
       "      <td>32.624</td>\n",
       "      <td>0.19</td>\n",
       "      <td>0.02</td>\n",
       "      <td>0.17</td>\n",
       "      <td>0.00</td>\n",
       "      <td>0.00</td>\n",
       "      <td>5.53</td>\n",
       "      <td>5.23</td>\n",
       "      <td>5.13</td>\n",
       "      <td>5.13</td>\n",
       "    </tr>\n",
       "    <tr>\n",
       "      <th>4</th>\n",
       "      <td>1961Q1</td>\n",
       "      <td>2.00</td>\n",
       "      <td>2.35</td>\n",
       "      <td>2.87</td>\n",
       "      <td>3.64</td>\n",
       "      <td>3.79</td>\n",
       "      <td>31.80</td>\n",
       "      <td>33.63</td>\n",
       "      <td>29.84</td>\n",
       "      <td>19.17</td>\n",
       "      <td>...</td>\n",
       "      <td>32.073</td>\n",
       "      <td>0.06</td>\n",
       "      <td>0.19</td>\n",
       "      <td>0.02</td>\n",
       "      <td>0.17</td>\n",
       "      <td>0.00</td>\n",
       "      <td>6.27</td>\n",
       "      <td>5.53</td>\n",
       "      <td>5.23</td>\n",
       "      <td>5.13</td>\n",
       "    </tr>\n",
       "    <tr>\n",
       "      <th>...</th>\n",
       "      <td>...</td>\n",
       "      <td>...</td>\n",
       "      <td>...</td>\n",
       "      <td>...</td>\n",
       "      <td>...</td>\n",
       "      <td>...</td>\n",
       "      <td>...</td>\n",
       "      <td>...</td>\n",
       "      <td>...</td>\n",
       "      <td>...</td>\n",
       "      <td>...</td>\n",
       "      <td>...</td>\n",
       "      <td>...</td>\n",
       "      <td>...</td>\n",
       "      <td>...</td>\n",
       "      <td>...</td>\n",
       "      <td>...</td>\n",
       "      <td>...</td>\n",
       "      <td>...</td>\n",
       "      <td>...</td>\n",
       "      <td>...</td>\n",
       "    </tr>\n",
       "    <tr>\n",
       "      <th>207</th>\n",
       "      <td>2011Q4</td>\n",
       "      <td>0.07</td>\n",
       "      <td>0.01</td>\n",
       "      <td>0.11</td>\n",
       "      <td>0.95</td>\n",
       "      <td>2.05</td>\n",
       "      <td>200.77</td>\n",
       "      <td>192.97</td>\n",
       "      <td>226.97</td>\n",
       "      <td>112.50</td>\n",
       "      <td>...</td>\n",
       "      <td>1055.496</td>\n",
       "      <td>0.79</td>\n",
       "      <td>1.61</td>\n",
       "      <td>2.54</td>\n",
       "      <td>2.39</td>\n",
       "      <td>1.63</td>\n",
       "      <td>9.00</td>\n",
       "      <td>9.03</td>\n",
       "      <td>9.00</td>\n",
       "      <td>9.53</td>\n",
       "    </tr>\n",
       "    <tr>\n",
       "      <th>208</th>\n",
       "      <td>2012Q1</td>\n",
       "      <td>0.10</td>\n",
       "      <td>0.07</td>\n",
       "      <td>0.16</td>\n",
       "      <td>0.90</td>\n",
       "      <td>2.04</td>\n",
       "      <td>202.17</td>\n",
       "      <td>193.73</td>\n",
       "      <td>228.27</td>\n",
       "      <td>113.12</td>\n",
       "      <td>...</td>\n",
       "      <td>1082.519</td>\n",
       "      <td>1.30</td>\n",
       "      <td>0.79</td>\n",
       "      <td>1.61</td>\n",
       "      <td>2.54</td>\n",
       "      <td>2.39</td>\n",
       "      <td>8.67</td>\n",
       "      <td>9.00</td>\n",
       "      <td>9.03</td>\n",
       "      <td>9.00</td>\n",
       "    </tr>\n",
       "    <tr>\n",
       "      <th>209</th>\n",
       "      <td>2012Q2</td>\n",
       "      <td>0.15</td>\n",
       "      <td>0.09</td>\n",
       "      <td>0.19</td>\n",
       "      <td>0.79</td>\n",
       "      <td>1.82</td>\n",
       "      <td>201.80</td>\n",
       "      <td>192.83</td>\n",
       "      <td>228.84</td>\n",
       "      <td>113.60</td>\n",
       "      <td>...</td>\n",
       "      <td>1104.500</td>\n",
       "      <td>0.57</td>\n",
       "      <td>1.30</td>\n",
       "      <td>0.79</td>\n",
       "      <td>1.61</td>\n",
       "      <td>2.54</td>\n",
       "      <td>8.27</td>\n",
       "      <td>8.67</td>\n",
       "      <td>9.00</td>\n",
       "      <td>9.03</td>\n",
       "    </tr>\n",
       "    <tr>\n",
       "      <th>210</th>\n",
       "      <td>2012Q3</td>\n",
       "      <td>0.14</td>\n",
       "      <td>0.10</td>\n",
       "      <td>0.18</td>\n",
       "      <td>0.67</td>\n",
       "      <td>1.64</td>\n",
       "      <td>202.40</td>\n",
       "      <td>195.20</td>\n",
       "      <td>230.03</td>\n",
       "      <td>113.91</td>\n",
       "      <td>...</td>\n",
       "      <td>1119.187</td>\n",
       "      <td>1.19</td>\n",
       "      <td>0.57</td>\n",
       "      <td>1.30</td>\n",
       "      <td>0.79</td>\n",
       "      <td>1.61</td>\n",
       "      <td>8.17</td>\n",
       "      <td>8.27</td>\n",
       "      <td>8.67</td>\n",
       "      <td>9.00</td>\n",
       "    </tr>\n",
       "    <tr>\n",
       "      <th>211</th>\n",
       "      <td>2012Q4</td>\n",
       "      <td>0.16</td>\n",
       "      <td>0.09</td>\n",
       "      <td>0.17</td>\n",
       "      <td>0.69</td>\n",
       "      <td>1.71</td>\n",
       "      <td>202.27</td>\n",
       "      <td>196.20</td>\n",
       "      <td>231.28</td>\n",
       "      <td>114.18</td>\n",
       "      <td>...</td>\n",
       "      <td>1147.623</td>\n",
       "      <td>1.25</td>\n",
       "      <td>1.19</td>\n",
       "      <td>0.57</td>\n",
       "      <td>1.30</td>\n",
       "      <td>0.79</td>\n",
       "      <td>8.03</td>\n",
       "      <td>8.17</td>\n",
       "      <td>8.27</td>\n",
       "      <td>8.67</td>\n",
       "    </tr>\n",
       "  </tbody>\n",
       "</table>\n",
       "<p>212 rows × 28 columns</p>\n",
       "</div>"
      ],
      "text/plain": [
       "       DATE   FFR  Tbill  Tb1yr    r5   r10  PPINSA  Finished     CPI  \\\n",
       "0    1960Q1  3.93   3.87   4.57  4.64  4.49   31.67     33.20   29.40   \n",
       "1    1960Q2  3.70   2.99   3.87  4.30  4.26   31.73     33.40   29.57   \n",
       "2    1960Q3  2.94   2.36   3.07  3.67  3.83   31.63     33.43   29.59   \n",
       "3    1960Q4  2.30   2.31   2.99  3.75  3.89   31.70     33.67   29.78   \n",
       "4    1961Q1  2.00   2.35   2.87  3.64  3.79   31.80     33.63   29.84   \n",
       "..      ...   ...    ...    ...   ...   ...     ...       ...     ...   \n",
       "207  2011Q4  0.07   0.01   0.11  0.95  2.05  200.77    192.97  226.97   \n",
       "208  2012Q1  0.10   0.07   0.16  0.90  2.04  202.17    193.73  228.27   \n",
       "209  2012Q2  0.15   0.09   0.19  0.79  1.82  201.80    192.83  228.84   \n",
       "210  2012Q3  0.14   0.10   0.18  0.67  1.64  202.40    195.20  230.03   \n",
       "211  2012Q4  0.16   0.09   0.17  0.69  1.71  202.27    196.20  231.28   \n",
       "\n",
       "     CPICORE  ...      Curr   inf  inf1  inf2  inf3  inf4  Unemp1  Unemp2  \\\n",
       "0      18.92  ...    31.830  0.00  0.00  0.00  0.00  0.00    5.13    5.13   \n",
       "1      19.00  ...    31.862  0.17  0.00  0.00  0.00  0.00    5.13    5.13   \n",
       "2      19.07  ...    32.217  0.02  0.17  0.00  0.00  0.00    5.23    5.13   \n",
       "3      19.14  ...    32.624  0.19  0.02  0.17  0.00  0.00    5.53    5.23   \n",
       "4      19.17  ...    32.073  0.06  0.19  0.02  0.17  0.00    6.27    5.53   \n",
       "..       ...  ...       ...   ...   ...   ...   ...   ...     ...     ...   \n",
       "207   112.50  ...  1055.496  0.79  1.61  2.54  2.39  1.63    9.00    9.03   \n",
       "208   113.12  ...  1082.519  1.30  0.79  1.61  2.54  2.39    8.67    9.00   \n",
       "209   113.60  ...  1104.500  0.57  1.30  0.79  1.61  2.54    8.27    8.67   \n",
       "210   113.91  ...  1119.187  1.19  0.57  1.30  0.79  1.61    8.17    8.27   \n",
       "211   114.18  ...  1147.623  1.25  1.19  0.57  1.30  0.79    8.03    8.17   \n",
       "\n",
       "     Unemp3  Unemp4  \n",
       "0      5.13    5.13  \n",
       "1      5.13    5.13  \n",
       "2      5.13    5.13  \n",
       "3      5.13    5.13  \n",
       "4      5.23    5.13  \n",
       "..      ...     ...  \n",
       "207    9.00    9.53  \n",
       "208    9.03    9.00  \n",
       "209    9.00    9.03  \n",
       "210    8.67    9.00  \n",
       "211    8.27    8.67  \n",
       "\n",
       "[212 rows x 28 columns]"
      ]
     },
     "execution_count": 32,
     "metadata": {},
     "output_type": "execute_result"
    }
   ],
   "source": [
    "df[\"inf\"]=df.CPI-pd.Series.shift(df.CPI, fill_value=0)\n",
    "df[\"inf\"][0]=0\n",
    "df[\"inf1\"]=pd.Series.shift(df.inf, fill_value=0)\n",
    "df[\"inf2\"]=pd.Series.shift(df.inf1, fill_value=0)\n",
    "df[\"inf3\"]=pd.Series.shift(df.inf2, fill_value=0)\n",
    "df[\"inf4\"]=pd.Series.shift(df.inf3, fill_value=0)\n",
    "\n",
    "df[\"Unemp1\"]=pd.Series.shift(df.Unemp).bfill()\n",
    "df[\"Unemp2\"]=pd.Series.shift(df.Unemp1).bfill()\n",
    "df[\"Unemp3\"]=pd.Series.shift(df.Unemp2).bfill()\n",
    "df[\"Unemp4\"]=pd.Series.shift(df.Unemp3).bfill()\n",
    "\n",
    "df"
   ]
  },
  {
   "cell_type": "code",
   "execution_count": 33,
   "id": "standard-personality",
   "metadata": {},
   "outputs": [
    {
     "name": "stdout",
     "output_type": "stream",
     "text": [
      "                            OLS Regression Results                            \n",
      "==============================================================================\n",
      "Dep. Variable:                  Unemp   R-squared:                       0.978\n",
      "Model:                            OLS   Adj. R-squared:                  0.977\n",
      "Method:                 Least Squares   F-statistic:                     1135.\n",
      "Date:                Mon, 17 May 2021   Prob (F-statistic):          5.57e-164\n",
      "Time:                        00:21:39   Log-Likelihood:                 3.3157\n",
      "No. Observations:                 212   AIC:                             11.37\n",
      "Df Residuals:                     203   BIC:                             41.58\n",
      "Df Model:                           8                                         \n",
      "Covariance Type:            nonrobust                                         \n",
      "==============================================================================\n",
      "                 coef    std err          t      P>|t|      [0.025      0.975]\n",
      "------------------------------------------------------------------------------\n",
      "const          0.1881      0.070      2.669      0.008       0.049       0.327\n",
      "x1            -0.0048      0.023     -0.206      0.837      -0.051       0.041\n",
      "x2             0.0282      0.025      1.130      0.260      -0.021       0.077\n",
      "x3             0.0442      0.025      1.774      0.078      -0.005       0.093\n",
      "x4             0.0223      0.024      0.939      0.349      -0.025       0.069\n",
      "x5             1.6069      0.070     22.958      0.000       1.469       1.745\n",
      "x6            -0.6652      0.133     -5.001      0.000      -0.928      -0.403\n",
      "x7             0.0542      0.133      0.406      0.685      -0.209       0.317\n",
      "x8            -0.0402      0.069     -0.578      0.564      -0.177       0.097\n",
      "==============================================================================\n",
      "Omnibus:                       30.837   Durbin-Watson:                   2.002\n",
      "Prob(Omnibus):                  0.000   Jarque-Bera (JB):               61.887\n",
      "Skew:                           0.714   Prob(JB):                     3.64e-14\n",
      "Kurtosis:                       5.229   Cond. No.                         142.\n",
      "==============================================================================\n",
      "\n",
      "Notes:\n",
      "[1] Standard Errors assume that the covariance matrix of the errors is correctly specified.\n"
     ]
    }
   ],
   "source": [
    "#Modèle non contraint\n",
    "s = df.shape[0] \n",
    "const=np.ones(s)\n",
    "y_nc = df[\"Unemp\"]\n",
    "X_nc = np.column_stack((const, df.inf1, df.inf2,df.inf3,df.inf4,df.Unemp1,df.Unemp2,df.Unemp3,df.Unemp4 ))\n",
    "\n",
    "model8=sm.OLS(y_nc,X_nc)\n",
    "results8 = model8.fit()\n",
    "print(results8.summary())\n",
    "u8=results8.resid\n",
    "\n",
    "SSRu8=u8.T@u8 # Somme des carrés des erreurs"
   ]
  },
  {
   "cell_type": "code",
   "execution_count": 34,
   "id": "supposed-profit",
   "metadata": {},
   "outputs": [
    {
     "name": "stdout",
     "output_type": "stream",
     "text": [
      "                            OLS Regression Results                            \n",
      "==============================================================================\n",
      "Dep. Variable:                  Unemp   R-squared:                       0.977\n",
      "Model:                            OLS   Adj. R-squared:                  0.976\n",
      "Method:                 Least Squares   F-statistic:                     2174.\n",
      "Date:                Mon, 17 May 2021   Prob (F-statistic):          8.69e-168\n",
      "Time:                        00:21:39   Log-Likelihood:                -3.1514\n",
      "No. Observations:                 212   AIC:                             16.30\n",
      "Df Residuals:                     207   BIC:                             33.09\n",
      "Df Model:                           4                                         \n",
      "Covariance Type:            nonrobust                                         \n",
      "==============================================================================\n",
      "                 coef    std err          t      P>|t|      [0.025      0.975]\n",
      "------------------------------------------------------------------------------\n",
      "const          0.2246      0.071      3.179      0.002       0.085       0.364\n",
      "x1             1.6563      0.070     23.830      0.000       1.519       1.793\n",
      "x2            -0.7122      0.134     -5.297      0.000      -0.977      -0.447\n",
      "x3             0.0263      0.135      0.195      0.845      -0.239       0.292\n",
      "x4            -0.0068      0.070     -0.097      0.923      -0.144       0.131\n",
      "==============================================================================\n",
      "Omnibus:                       37.864   Durbin-Watson:                   1.998\n",
      "Prob(Omnibus):                  0.000   Jarque-Bera (JB):               75.864\n",
      "Skew:                           0.870   Prob(JB):                     3.36e-17\n",
      "Kurtosis:                       5.358   Cond. No.                         139.\n",
      "==============================================================================\n",
      "\n",
      "Notes:\n",
      "[1] Standard Errors assume that the covariance matrix of the errors is correctly specified.\n"
     ]
    }
   ],
   "source": [
    "# Modèle contraint : il est demandé dans la question de retirer l'inflation courante,\n",
    "# or c'était la seule variable non constante. Il ne reste donc que la constante \n",
    "s = df.shape[0] \n",
    "const=np.ones(s)\n",
    "y_c = df[\"Unemp\"]\n",
    "#X = np.column_stack((const))#, df.inf1))#, df.inf2,df.inf3,df.inf4,df.Unemp1,df.Unemp2,df.Unemp3,df.Unemp4 ))\n",
    "X_c = np.column_stack((const,df.Unemp1,df.Unemp2,df.Unemp3,df.Unemp4 ))\n",
    "model9=sm.OLS(y_c,X_c)\n",
    "results9 = model9.fit()\n",
    "print(results9.summary())\n",
    "c9=results9.resid\n",
    "\n",
    "SSRc9=c9.T@c9 # Somme des carrés des erreurs"
   ]
  },
  {
   "cell_type": "markdown",
   "id": "antique-gibson",
   "metadata": {},
   "source": [
    "A 5% les coefficients associés à $\\tilde{X_3}$, $\\tilde{X_4}$ (ordre 3 et 4) ne sont pas significatifs, donc non rejet de $H_0$ "
   ]
  },
  {
   "cell_type": "markdown",
   "id": "metropolitan-pound",
   "metadata": {},
   "source": [
    "#### Test de Granger :"
   ]
  },
  {
   "cell_type": "code",
   "execution_count": 35,
   "id": "excellent-fields",
   "metadata": {},
   "outputs": [
    {
     "name": "stdout",
     "output_type": "stream",
     "text": [
      "F : 3.192699771904908\n",
      "p_val : 0.014326923897171323\n",
      "Rejet de H0 => Il y a donc causalité de l'inflation sur le chômage\n"
     ]
    }
   ],
   "source": [
    "# 4 contraintes \n",
    "q = 4\n",
    "n,k=np.shape(X_nc) \n",
    "F=((SSRc9-SSRu8)/q)/(SSRu8/(n-k)) \n",
    "p_val = f.sf(F,q,n-k) \n",
    "print(\"F :\",F) \n",
    "print(\"p_val :\",p_val) \n",
    "if p_val > 0.05 :\n",
    "    print(\"Non rejet de H0 => Il y a donc non causalité de l'inflation sur le chômage\")\n",
    "else :\n",
    "    print(\"Rejet de H0 => Il y a donc causalité de l'inflation sur le chômage\")"
   ]
  },
  {
   "cell_type": "markdown",
   "id": "bronze-observer",
   "metadata": {},
   "source": [
    "<u> Cette partie n'est pas bonne mais je trouve une non causalité de l'inflation sur le chômage : <u>"
   ]
  },
  {
   "cell_type": "code",
   "execution_count": 36,
   "id": "angry-missile",
   "metadata": {},
   "outputs": [
    {
     "name": "stdout",
     "output_type": "stream",
     "text": [
      "                            OLS Regression Results                            \n",
      "==============================================================================\n",
      "Dep. Variable:                      y   R-squared:                       0.026\n",
      "Model:                            OLS   Adj. R-squared:                  0.007\n",
      "Method:                 Least Squares   F-statistic:                     1.348\n",
      "Date:                Mon, 17 May 2021   Prob (F-statistic):              0.253\n",
      "Time:                        00:21:39   Log-Likelihood:                -63.312\n",
      "No. Observations:                 207   AIC:                             136.6\n",
      "Df Residuals:                     202   BIC:                             153.3\n",
      "Df Model:                           4                                         \n",
      "Covariance Type:            nonrobust                                         \n",
      "==============================================================================\n",
      "                 coef    std err          t      P>|t|      [0.025      0.975]\n",
      "------------------------------------------------------------------------------\n",
      "const          0.1315      0.023      5.648      0.000       0.086       0.177\n",
      "x1            -0.0208      0.012     -1.715      0.088      -0.045       0.003\n",
      "x2            -0.0201      0.013     -1.571      0.118      -0.045       0.005\n",
      "x3            -0.0100      0.013     -0.779      0.437      -0.035       0.015\n",
      "x4             0.0088      0.012      0.731      0.466      -0.015       0.033\n",
      "==============================================================================\n",
      "Omnibus:                       75.976   Durbin-Watson:                   0.726\n",
      "Prob(Omnibus):                  0.000   Jarque-Bera (JB):              227.935\n",
      "Skew:                           1.554   Prob(JB):                     3.20e-50\n",
      "Kurtosis:                       7.095   Cond. No.                         2.67\n",
      "==============================================================================\n",
      "\n",
      "Notes:\n",
      "[1] Standard Errors assume that the covariance matrix of the errors is correctly specified.\n"
     ]
    }
   ],
   "source": [
    "n=len(y_tilde)\n",
    "y10=y_tilde[4:n]\n",
    "X_tilde1=X_tilde[3:n-1,1]\n",
    "X_tilde2=X_tilde[2:n-2,1]\n",
    "X_tilde3=X_tilde[1:n-3,1]\n",
    "X_tilde4=X_tilde[0:n-4,1]\n",
    "const=np.ones(n-4)\n",
    "X10=np.column_stack((const, X_tilde1,X_tilde2,X_tilde3,X_tilde4))\n",
    "\n",
    "model10=sm.OLS(y10,X10) \n",
    "results10 = model10.fit() \n",
    "print(results10.summary())"
   ]
  },
  {
   "cell_type": "code",
   "execution_count": 37,
   "id": "parental-arthur",
   "metadata": {},
   "outputs": [
    {
     "name": "stdout",
     "output_type": "stream",
     "text": [
      "F : 1.3548827182365395\n",
      "p_val : 0.2509672735814278\n",
      "Non rejet de H0 => Il y a donc non causalité de l'inflation sur le chômage\n"
     ]
    }
   ],
   "source": [
    "u10=results10.resid \n",
    "SSR_nc=u10.T@u10 \n",
    "\n",
    "# modèle contraint \n",
    "X_c=np.column_stack((const)) \n",
    "model11=sm.OLS(y10,X_c[0]) \n",
    "results11 = model11.fit() \n",
    "u11=results11.resid \n",
    "SSR_c=u11.T@u11 \n",
    "q = 4 \n",
    "\n",
    "# 2 contraintes \n",
    "n,k=np.shape(X_nc) \n",
    "F=((SSR_c-SSR_nc)/q)/(SSR_nc/(n-k)) \n",
    "p_val = f.sf(F,q,n-k) \n",
    "print(\"F :\",F) \n",
    "print(\"p_val :\",p_val) \n",
    "if p_val > 0.05 :\n",
    "    print(\"Non rejet de H0 => Il y a donc non causalité de l'inflation sur le chômage\")\n",
    "else :\n",
    "    print(\"Rejet de H0 => Il y a donc causalité de l'inflation sur le chômage\")"
   ]
  },
  {
   "cell_type": "markdown",
   "id": "false-bleeding",
   "metadata": {},
   "source": [
    "### 15. Représentez graphiquement les délais distribués et commentez. Calculer l’impact à long de terme de l’inflation sur le chômage."
   ]
  },
  {
   "cell_type": "code",
   "execution_count": 38,
   "id": "standard-tumor",
   "metadata": {},
   "outputs": [
    {
     "data": {
      "image/png": "[encoded data removed]",
      "text/plain": [
       "<Figure size 432x288 with 1 Axes>"
      ]
     },
     "metadata": {
      "needs_background": "light"
     },
     "output_type": "display_data"
    }
   ],
   "source": [
    "# Délai : valeurs des coeff correspondants aux 4  inf laggés\n",
    "\n",
    "delai_inf = (results8.params[1], results8.params[2], results8.params[3], results8.params[4])\n",
    "xx = (1,2, 3, 4)\n",
    "plt.bar(xx, delai_inf);"
   ]
  },
  {
   "cell_type": "code",
   "execution_count": 39,
   "id": "joined-trailer",
   "metadata": {},
   "outputs": [
    {
     "data": {
      "image/png": "[encoded data removed]",
      "text/plain": [
       "<Figure size 432x288 with 1 Axes>"
      ]
     },
     "metadata": {
      "needs_background": "light"
     },
     "output_type": "display_data"
    }
   ],
   "source": [
    "# Délai : valeurs des coeff correspondants aux 4  Unemp laggés\n",
    "\n",
    "delai_unemp = (results8.params[5], results8.params[6], results8.params[7], results8.params[8])\n",
    "xx = (1,2, 3, 4)\n",
    "plt.bar(xx, delai_unemp);"
   ]
  },
  {
   "cell_type": "code",
   "execution_count": 40,
   "id": "martial-zimbabwe",
   "metadata": {},
   "outputs": [
    {
     "data": {
      "text/plain": [
       "0.08983487048579952"
      ]
     },
     "execution_count": 40,
     "metadata": {},
     "output_type": "execute_result"
    }
   ],
   "source": [
    "LRP = results8.params[1] + results8.params[2] + results8.params[3] + results8.params[4]\n",
    "LRP"
   ]
  },
  {
   "cell_type": "markdown",
   "id": "better-mouth",
   "metadata": {},
   "source": [
    "On peut dire qu'il n'y a pas trop d'effet sur le long terme de l'inflation sur le chômage."
   ]
  },
  {
   "cell_type": "code",
   "execution_count": null,
   "id": "optional-louis",
   "metadata": {},
   "outputs": [],
   "source": []
  }
 ],
 "metadata": {
  "kernelspec": {
   "display_name": "Python 3",
   "language": "python",
   "name": "python3"
  },
  "language_info": {
   "codemirror_mode": {
    "name": "ipython",
    "version": 3
   },
   "file_extension": ".py",
   "mimetype": "text/x-python",
   "name": "python",
   "nbconvert_exporter": "python",
   "pygments_lexer": "ipython3",
   "version": "3.8.6"
  }
 },
 "nbformat": 4,
 "nbformat_minor": 5
}
