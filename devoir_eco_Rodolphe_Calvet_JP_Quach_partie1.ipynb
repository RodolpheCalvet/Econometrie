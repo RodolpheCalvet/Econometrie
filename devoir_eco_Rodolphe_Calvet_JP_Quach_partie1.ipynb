{
 "cells": [
  {
   "cell_type": "markdown",
   "metadata": {},
   "source": [
    "# <center> Projet d'économétrie SIM722 <center>"
   ]
  },
  {
   "cell_type": "markdown",
   "metadata": {},
   "source": [
    "<u>Devoir fait par :<u>  Rodolphe Calvet, Jean-Philippe Quach"
   ]
  },
  {
   "cell_type": "markdown",
   "metadata": {},
   "source": [
    "Les points sont proportionnels à la difficulté des questions. Justifiez toutes vos réponses et étapes du raisonnement. Tous les tests sont demandés à 5% sauf si spécifié dans la question.\n"
   ]
  },
  {
   "cell_type": "markdown",
   "metadata": {},
   "source": [
    "# Import de librarie"
   ]
  },
  {
   "cell_type": "code",
   "execution_count": 1,
   "metadata": {},
   "outputs": [],
   "source": [
    "import numpy as np\n",
    "import pandas as pd\n",
    "import seaborn as sns\n",
    "import matplotlib.pyplot as plt\n",
    "import statsmodels.api as sm\n",
    "from scipy.stats import t\n",
    "from scipy.stats import f\n",
    "import warnings\n",
    "warnings.filterwarnings(\"ignore\")"
   ]
  },
  {
   "cell_type": "markdown",
   "metadata": {},
   "source": [
    "# <u>Partie 1. Régression<u>"
   ]
  },
  {
   "cell_type": "markdown",
   "metadata": {},
   "source": [
    "### 1. Lire le fichier mroz.txt. Ne sélectionner que les observations pour lesquelles la variable wage est strictement positive."
   ]
  },
  {
   "cell_type": "code",
   "execution_count": 2,
   "metadata": {},
   "outputs": [],
   "source": [
    "head = pd.read_csv('../Cours_1/textfiles/MROZ.DES', delim_whitespace=True, usecols=[1]).drop([0, 1, 2, 3]).values.flatten()\n",
    "df = pd.read_csv('../Cours_1/textfiles/MROZ.raw',delim_whitespace=True, header=None, names= head)\n",
    "df[\"wage\"] = pd.to_numeric(df[\"wage\"],errors='coerce')\n",
    "df_wage = df.loc[df[\"wage\"]>0]\n"
   ]
  },
  {
   "cell_type": "code",
   "execution_count": 3,
   "metadata": {},
   "outputs": [
    {
     "data": {
      "text/html": [
       "<div>\n",
       "<style scoped>\n",
       "    .dataframe tbody tr th:only-of-type {\n",
       "        vertical-align: middle;\n",
       "    }\n",
       "\n",
       "    .dataframe tbody tr th {\n",
       "        vertical-align: top;\n",
       "    }\n",
       "\n",
       "    .dataframe thead th {\n",
       "        text-align: right;\n",
       "    }\n",
       "</style>\n",
       "<table border=\"1\" class=\"dataframe\">\n",
       "  <thead>\n",
       "    <tr style=\"text-align: right;\">\n",
       "      <th></th>\n",
       "      <th>inlf</th>\n",
       "      <th>hours</th>\n",
       "      <th>kidslt6</th>\n",
       "      <th>kidsge6</th>\n",
       "      <th>age</th>\n",
       "      <th>educ</th>\n",
       "      <th>wage</th>\n",
       "      <th>repwage</th>\n",
       "      <th>hushrs</th>\n",
       "      <th>husage</th>\n",
       "      <th>...</th>\n",
       "      <th>faminc</th>\n",
       "      <th>mtr</th>\n",
       "      <th>motheduc</th>\n",
       "      <th>fatheduc</th>\n",
       "      <th>unem</th>\n",
       "      <th>city</th>\n",
       "      <th>exper</th>\n",
       "      <th>nwifeinc</th>\n",
       "      <th>lwage</th>\n",
       "      <th>expersq</th>\n",
       "    </tr>\n",
       "  </thead>\n",
       "  <tbody>\n",
       "    <tr>\n",
       "      <th>0</th>\n",
       "      <td>1</td>\n",
       "      <td>1610</td>\n",
       "      <td>1</td>\n",
       "      <td>0</td>\n",
       "      <td>32</td>\n",
       "      <td>12</td>\n",
       "      <td>3.3540</td>\n",
       "      <td>2.65</td>\n",
       "      <td>2708</td>\n",
       "      <td>34</td>\n",
       "      <td>...</td>\n",
       "      <td>16310</td>\n",
       "      <td>0.7215</td>\n",
       "      <td>12</td>\n",
       "      <td>7</td>\n",
       "      <td>5.0</td>\n",
       "      <td>0</td>\n",
       "      <td>14</td>\n",
       "      <td>10.910060</td>\n",
       "      <td>1.210154</td>\n",
       "      <td>196</td>\n",
       "    </tr>\n",
       "    <tr>\n",
       "      <th>1</th>\n",
       "      <td>1</td>\n",
       "      <td>1656</td>\n",
       "      <td>0</td>\n",
       "      <td>2</td>\n",
       "      <td>30</td>\n",
       "      <td>12</td>\n",
       "      <td>1.3889</td>\n",
       "      <td>2.65</td>\n",
       "      <td>2310</td>\n",
       "      <td>30</td>\n",
       "      <td>...</td>\n",
       "      <td>21800</td>\n",
       "      <td>0.6615</td>\n",
       "      <td>7</td>\n",
       "      <td>7</td>\n",
       "      <td>11.0</td>\n",
       "      <td>1</td>\n",
       "      <td>5</td>\n",
       "      <td>19.499980</td>\n",
       "      <td>.3285121</td>\n",
       "      <td>25</td>\n",
       "    </tr>\n",
       "    <tr>\n",
       "      <th>2</th>\n",
       "      <td>1</td>\n",
       "      <td>1980</td>\n",
       "      <td>1</td>\n",
       "      <td>3</td>\n",
       "      <td>35</td>\n",
       "      <td>12</td>\n",
       "      <td>4.5455</td>\n",
       "      <td>4.04</td>\n",
       "      <td>3072</td>\n",
       "      <td>40</td>\n",
       "      <td>...</td>\n",
       "      <td>21040</td>\n",
       "      <td>0.6915</td>\n",
       "      <td>12</td>\n",
       "      <td>7</td>\n",
       "      <td>5.0</td>\n",
       "      <td>0</td>\n",
       "      <td>15</td>\n",
       "      <td>12.039910</td>\n",
       "      <td>1.514138</td>\n",
       "      <td>225</td>\n",
       "    </tr>\n",
       "    <tr>\n",
       "      <th>3</th>\n",
       "      <td>1</td>\n",
       "      <td>456</td>\n",
       "      <td>0</td>\n",
       "      <td>3</td>\n",
       "      <td>34</td>\n",
       "      <td>12</td>\n",
       "      <td>1.0965</td>\n",
       "      <td>3.25</td>\n",
       "      <td>1920</td>\n",
       "      <td>53</td>\n",
       "      <td>...</td>\n",
       "      <td>7300</td>\n",
       "      <td>0.7815</td>\n",
       "      <td>7</td>\n",
       "      <td>7</td>\n",
       "      <td>5.0</td>\n",
       "      <td>0</td>\n",
       "      <td>6</td>\n",
       "      <td>6.799996</td>\n",
       "      <td>.0921233</td>\n",
       "      <td>36</td>\n",
       "    </tr>\n",
       "    <tr>\n",
       "      <th>4</th>\n",
       "      <td>1</td>\n",
       "      <td>1568</td>\n",
       "      <td>1</td>\n",
       "      <td>2</td>\n",
       "      <td>31</td>\n",
       "      <td>14</td>\n",
       "      <td>4.5918</td>\n",
       "      <td>3.60</td>\n",
       "      <td>2000</td>\n",
       "      <td>32</td>\n",
       "      <td>...</td>\n",
       "      <td>27300</td>\n",
       "      <td>0.6215</td>\n",
       "      <td>12</td>\n",
       "      <td>14</td>\n",
       "      <td>9.5</td>\n",
       "      <td>1</td>\n",
       "      <td>7</td>\n",
       "      <td>20.100060</td>\n",
       "      <td>1.524272</td>\n",
       "      <td>49</td>\n",
       "    </tr>\n",
       "    <tr>\n",
       "      <th>...</th>\n",
       "      <td>...</td>\n",
       "      <td>...</td>\n",
       "      <td>...</td>\n",
       "      <td>...</td>\n",
       "      <td>...</td>\n",
       "      <td>...</td>\n",
       "      <td>...</td>\n",
       "      <td>...</td>\n",
       "      <td>...</td>\n",
       "      <td>...</td>\n",
       "      <td>...</td>\n",
       "      <td>...</td>\n",
       "      <td>...</td>\n",
       "      <td>...</td>\n",
       "      <td>...</td>\n",
       "      <td>...</td>\n",
       "      <td>...</td>\n",
       "      <td>...</td>\n",
       "      <td>...</td>\n",
       "      <td>...</td>\n",
       "      <td>...</td>\n",
       "    </tr>\n",
       "    <tr>\n",
       "      <th>423</th>\n",
       "      <td>1</td>\n",
       "      <td>680</td>\n",
       "      <td>0</td>\n",
       "      <td>5</td>\n",
       "      <td>36</td>\n",
       "      <td>10</td>\n",
       "      <td>2.3118</td>\n",
       "      <td>0.00</td>\n",
       "      <td>3430</td>\n",
       "      <td>43</td>\n",
       "      <td>...</td>\n",
       "      <td>19772</td>\n",
       "      <td>0.7215</td>\n",
       "      <td>7</td>\n",
       "      <td>7</td>\n",
       "      <td>7.5</td>\n",
       "      <td>0</td>\n",
       "      <td>2</td>\n",
       "      <td>18.199980</td>\n",
       "      <td>.8380265</td>\n",
       "      <td>4</td>\n",
       "    </tr>\n",
       "    <tr>\n",
       "      <th>424</th>\n",
       "      <td>1</td>\n",
       "      <td>2450</td>\n",
       "      <td>0</td>\n",
       "      <td>1</td>\n",
       "      <td>40</td>\n",
       "      <td>12</td>\n",
       "      <td>5.3061</td>\n",
       "      <td>6.50</td>\n",
       "      <td>2008</td>\n",
       "      <td>40</td>\n",
       "      <td>...</td>\n",
       "      <td>35641</td>\n",
       "      <td>0.6215</td>\n",
       "      <td>7</td>\n",
       "      <td>7</td>\n",
       "      <td>5.0</td>\n",
       "      <td>1</td>\n",
       "      <td>21</td>\n",
       "      <td>22.641060</td>\n",
       "      <td>1.668857</td>\n",
       "      <td>441</td>\n",
       "    </tr>\n",
       "    <tr>\n",
       "      <th>425</th>\n",
       "      <td>1</td>\n",
       "      <td>2144</td>\n",
       "      <td>0</td>\n",
       "      <td>2</td>\n",
       "      <td>43</td>\n",
       "      <td>13</td>\n",
       "      <td>5.8675</td>\n",
       "      <td>0.00</td>\n",
       "      <td>2140</td>\n",
       "      <td>43</td>\n",
       "      <td>...</td>\n",
       "      <td>34220</td>\n",
       "      <td>0.5815</td>\n",
       "      <td>7</td>\n",
       "      <td>7</td>\n",
       "      <td>7.5</td>\n",
       "      <td>1</td>\n",
       "      <td>22</td>\n",
       "      <td>21.640080</td>\n",
       "      <td>1.769429</td>\n",
       "      <td>484</td>\n",
       "    </tr>\n",
       "    <tr>\n",
       "      <th>426</th>\n",
       "      <td>1</td>\n",
       "      <td>1760</td>\n",
       "      <td>0</td>\n",
       "      <td>1</td>\n",
       "      <td>33</td>\n",
       "      <td>12</td>\n",
       "      <td>3.4091</td>\n",
       "      <td>3.21</td>\n",
       "      <td>3380</td>\n",
       "      <td>34</td>\n",
       "      <td>...</td>\n",
       "      <td>30000</td>\n",
       "      <td>0.5815</td>\n",
       "      <td>12</td>\n",
       "      <td>16</td>\n",
       "      <td>11.0</td>\n",
       "      <td>1</td>\n",
       "      <td>14</td>\n",
       "      <td>23.999980</td>\n",
       "      <td>1.226448</td>\n",
       "      <td>196</td>\n",
       "    </tr>\n",
       "    <tr>\n",
       "      <th>427</th>\n",
       "      <td>1</td>\n",
       "      <td>490</td>\n",
       "      <td>0</td>\n",
       "      <td>1</td>\n",
       "      <td>30</td>\n",
       "      <td>12</td>\n",
       "      <td>4.0816</td>\n",
       "      <td>2.46</td>\n",
       "      <td>2430</td>\n",
       "      <td>33</td>\n",
       "      <td>...</td>\n",
       "      <td>18000</td>\n",
       "      <td>0.6915</td>\n",
       "      <td>12</td>\n",
       "      <td>12</td>\n",
       "      <td>7.5</td>\n",
       "      <td>1</td>\n",
       "      <td>7</td>\n",
       "      <td>16.000020</td>\n",
       "      <td>1.406489</td>\n",
       "      <td>49</td>\n",
       "    </tr>\n",
       "  </tbody>\n",
       "</table>\n",
       "<p>428 rows × 22 columns</p>\n",
       "</div>"
      ],
      "text/plain": [
       "     inlf  hours  kidslt6  kidsge6  age  educ    wage  repwage  hushrs  \\\n",
       "0       1   1610        1        0   32    12  3.3540     2.65    2708   \n",
       "1       1   1656        0        2   30    12  1.3889     2.65    2310   \n",
       "2       1   1980        1        3   35    12  4.5455     4.04    3072   \n",
       "3       1    456        0        3   34    12  1.0965     3.25    1920   \n",
       "4       1   1568        1        2   31    14  4.5918     3.60    2000   \n",
       "..    ...    ...      ...      ...  ...   ...     ...      ...     ...   \n",
       "423     1    680        0        5   36    10  2.3118     0.00    3430   \n",
       "424     1   2450        0        1   40    12  5.3061     6.50    2008   \n",
       "425     1   2144        0        2   43    13  5.8675     0.00    2140   \n",
       "426     1   1760        0        1   33    12  3.4091     3.21    3380   \n",
       "427     1    490        0        1   30    12  4.0816     2.46    2430   \n",
       "\n",
       "     husage  ...  faminc     mtr  motheduc  fatheduc  unem  city  exper  \\\n",
       "0        34  ...   16310  0.7215        12         7   5.0     0     14   \n",
       "1        30  ...   21800  0.6615         7         7  11.0     1      5   \n",
       "2        40  ...   21040  0.6915        12         7   5.0     0     15   \n",
       "3        53  ...    7300  0.7815         7         7   5.0     0      6   \n",
       "4        32  ...   27300  0.6215        12        14   9.5     1      7   \n",
       "..      ...  ...     ...     ...       ...       ...   ...   ...    ...   \n",
       "423      43  ...   19772  0.7215         7         7   7.5     0      2   \n",
       "424      40  ...   35641  0.6215         7         7   5.0     1     21   \n",
       "425      43  ...   34220  0.5815         7         7   7.5     1     22   \n",
       "426      34  ...   30000  0.5815        12        16  11.0     1     14   \n",
       "427      33  ...   18000  0.6915        12        12   7.5     1      7   \n",
       "\n",
       "      nwifeinc     lwage  expersq  \n",
       "0    10.910060  1.210154      196  \n",
       "1    19.499980  .3285121       25  \n",
       "2    12.039910  1.514138      225  \n",
       "3     6.799996  .0921233       36  \n",
       "4    20.100060  1.524272       49  \n",
       "..         ...       ...      ...  \n",
       "423  18.199980  .8380265        4  \n",
       "424  22.641060  1.668857      441  \n",
       "425  21.640080  1.769429      484  \n",
       "426  23.999980  1.226448      196  \n",
       "427  16.000020  1.406489       49  \n",
       "\n",
       "[428 rows x 22 columns]"
      ]
     },
     "execution_count": 3,
     "metadata": {},
     "output_type": "execute_result"
    }
   ],
   "source": [
    "df_wage"
   ]
  },
  {
   "cell_type": "code",
   "execution_count": 4,
   "metadata": {},
   "outputs": [
    {
     "data": {
      "text/plain": [
       "Index(['inlf', 'hours', 'kidslt6', 'kidsge6', 'age', 'educ', 'wage', 'repwage',\n",
       "       'hushrs', 'husage', 'huseduc', 'huswage', 'faminc', 'mtr', 'motheduc',\n",
       "       'fatheduc', 'unem', 'city', 'exper', 'nwifeinc', 'lwage', 'expersq'],\n",
       "      dtype='object')"
      ]
     },
     "execution_count": 4,
     "metadata": {},
     "output_type": "execute_result"
    }
   ],
   "source": [
    "df_wage.columns"
   ]
  },
  {
   "cell_type": "markdown",
   "metadata": {},
   "source": [
    "### 2. Faire les statistiques descriptives du salaire, de l’age et de l’éducation pour l’ensemble des femmes puis, pour les femmes dont le salaire du mari est supérieure au 65ème percentile de l’échantillon, puis pour les femmes dont le salaire du mari est inférieur au 65ème percentile de l’échantillon. Commenter"
   ]
  },
  {
   "cell_type": "code",
   "execution_count": 5,
   "metadata": {},
   "outputs": [
    {
     "data": {
      "text/html": [
       "<div>\n",
       "<style scoped>\n",
       "    .dataframe tbody tr th:only-of-type {\n",
       "        vertical-align: middle;\n",
       "    }\n",
       "\n",
       "    .dataframe tbody tr th {\n",
       "        vertical-align: top;\n",
       "    }\n",
       "\n",
       "    .dataframe thead th {\n",
       "        text-align: right;\n",
       "    }\n",
       "</style>\n",
       "<table border=\"1\" class=\"dataframe\">\n",
       "  <thead>\n",
       "    <tr style=\"text-align: right;\">\n",
       "      <th></th>\n",
       "      <th>wage</th>\n",
       "      <th>age</th>\n",
       "      <th>educ</th>\n",
       "    </tr>\n",
       "  </thead>\n",
       "  <tbody>\n",
       "    <tr>\n",
       "      <th>count</th>\n",
       "      <td>428.000000</td>\n",
       "      <td>428.000000</td>\n",
       "      <td>428.000000</td>\n",
       "    </tr>\n",
       "    <tr>\n",
       "      <th>mean</th>\n",
       "      <td>4.177682</td>\n",
       "      <td>41.971963</td>\n",
       "      <td>12.658879</td>\n",
       "    </tr>\n",
       "    <tr>\n",
       "      <th>std</th>\n",
       "      <td>3.310282</td>\n",
       "      <td>7.721084</td>\n",
       "      <td>2.285376</td>\n",
       "    </tr>\n",
       "    <tr>\n",
       "      <th>min</th>\n",
       "      <td>0.128200</td>\n",
       "      <td>30.000000</td>\n",
       "      <td>5.000000</td>\n",
       "    </tr>\n",
       "    <tr>\n",
       "      <th>25%</th>\n",
       "      <td>2.262600</td>\n",
       "      <td>35.000000</td>\n",
       "      <td>12.000000</td>\n",
       "    </tr>\n",
       "    <tr>\n",
       "      <th>50%</th>\n",
       "      <td>3.481900</td>\n",
       "      <td>42.000000</td>\n",
       "      <td>12.000000</td>\n",
       "    </tr>\n",
       "    <tr>\n",
       "      <th>75%</th>\n",
       "      <td>4.970750</td>\n",
       "      <td>47.250000</td>\n",
       "      <td>14.000000</td>\n",
       "    </tr>\n",
       "    <tr>\n",
       "      <th>max</th>\n",
       "      <td>25.000000</td>\n",
       "      <td>60.000000</td>\n",
       "      <td>17.000000</td>\n",
       "    </tr>\n",
       "  </tbody>\n",
       "</table>\n",
       "</div>"
      ],
      "text/plain": [
       "             wage         age        educ\n",
       "count  428.000000  428.000000  428.000000\n",
       "mean     4.177682   41.971963   12.658879\n",
       "std      3.310282    7.721084    2.285376\n",
       "min      0.128200   30.000000    5.000000\n",
       "25%      2.262600   35.000000   12.000000\n",
       "50%      3.481900   42.000000   12.000000\n",
       "75%      4.970750   47.250000   14.000000\n",
       "max     25.000000   60.000000   17.000000"
      ]
     },
     "execution_count": 5,
     "metadata": {},
     "output_type": "execute_result"
    }
   ],
   "source": [
    "df_des = df_wage[[\"wage\", \"age\",\"educ\"]]\n",
    "df_des.describe()"
   ]
  },
  {
   "cell_type": "code",
   "execution_count": 6,
   "metadata": {},
   "outputs": [
    {
     "data": {
      "text/html": [
       "<div>\n",
       "<style scoped>\n",
       "    .dataframe tbody tr th:only-of-type {\n",
       "        vertical-align: middle;\n",
       "    }\n",
       "\n",
       "    .dataframe tbody tr th {\n",
       "        vertical-align: top;\n",
       "    }\n",
       "\n",
       "    .dataframe thead th {\n",
       "        text-align: right;\n",
       "    }\n",
       "</style>\n",
       "<table border=\"1\" class=\"dataframe\">\n",
       "  <thead>\n",
       "    <tr style=\"text-align: right;\">\n",
       "      <th></th>\n",
       "      <th>wage</th>\n",
       "      <th>age</th>\n",
       "      <th>educ</th>\n",
       "    </tr>\n",
       "  </thead>\n",
       "  <tbody>\n",
       "    <tr>\n",
       "      <th>count</th>\n",
       "      <td>148.000000</td>\n",
       "      <td>148.00000</td>\n",
       "      <td>148.000000</td>\n",
       "    </tr>\n",
       "    <tr>\n",
       "      <th>mean</th>\n",
       "      <td>5.139315</td>\n",
       "      <td>42.52027</td>\n",
       "      <td>13.520270</td>\n",
       "    </tr>\n",
       "    <tr>\n",
       "      <th>std</th>\n",
       "      <td>4.351728</td>\n",
       "      <td>7.35168</td>\n",
       "      <td>2.345845</td>\n",
       "    </tr>\n",
       "    <tr>\n",
       "      <th>min</th>\n",
       "      <td>0.213700</td>\n",
       "      <td>30.00000</td>\n",
       "      <td>5.000000</td>\n",
       "    </tr>\n",
       "    <tr>\n",
       "      <th>25%</th>\n",
       "      <td>2.561925</td>\n",
       "      <td>36.00000</td>\n",
       "      <td>12.000000</td>\n",
       "    </tr>\n",
       "    <tr>\n",
       "      <th>50%</th>\n",
       "      <td>4.008050</td>\n",
       "      <td>43.00000</td>\n",
       "      <td>13.000000</td>\n",
       "    </tr>\n",
       "    <tr>\n",
       "      <th>75%</th>\n",
       "      <td>6.516300</td>\n",
       "      <td>48.00000</td>\n",
       "      <td>16.000000</td>\n",
       "    </tr>\n",
       "    <tr>\n",
       "      <th>max</th>\n",
       "      <td>25.000000</td>\n",
       "      <td>59.00000</td>\n",
       "      <td>17.000000</td>\n",
       "    </tr>\n",
       "  </tbody>\n",
       "</table>\n",
       "</div>"
      ],
      "text/plain": [
       "             wage        age        educ\n",
       "count  148.000000  148.00000  148.000000\n",
       "mean     5.139315   42.52027   13.520270\n",
       "std      4.351728    7.35168    2.345845\n",
       "min      0.213700   30.00000    5.000000\n",
       "25%      2.561925   36.00000   12.000000\n",
       "50%      4.008050   43.00000   13.000000\n",
       "75%      6.516300   48.00000   16.000000\n",
       "max     25.000000   59.00000   17.000000"
      ]
     },
     "execution_count": 6,
     "metadata": {},
     "output_type": "execute_result"
    }
   ],
   "source": [
    "percentile_65th = df_wage.describe(percentiles=[.25, .5, .65 , .75]).iloc[6].iloc[11]\n",
    "df_sup_65th = df_wage.loc[df_wage[\"huswage\"]>percentile_65th][[\"wage\", \"age\",\"educ\"]]\n",
    "df_sup_65th.describe()"
   ]
  },
  {
   "cell_type": "code",
   "execution_count": 7,
   "metadata": {},
   "outputs": [
    {
     "data": {
      "text/html": [
       "<div>\n",
       "<style scoped>\n",
       "    .dataframe tbody tr th:only-of-type {\n",
       "        vertical-align: middle;\n",
       "    }\n",
       "\n",
       "    .dataframe tbody tr th {\n",
       "        vertical-align: top;\n",
       "    }\n",
       "\n",
       "    .dataframe thead th {\n",
       "        text-align: right;\n",
       "    }\n",
       "</style>\n",
       "<table border=\"1\" class=\"dataframe\">\n",
       "  <thead>\n",
       "    <tr style=\"text-align: right;\">\n",
       "      <th></th>\n",
       "      <th>wage</th>\n",
       "      <th>age</th>\n",
       "      <th>educ</th>\n",
       "    </tr>\n",
       "  </thead>\n",
       "  <tbody>\n",
       "    <tr>\n",
       "      <th>count</th>\n",
       "      <td>276.000000</td>\n",
       "      <td>276.000000</td>\n",
       "      <td>276.000000</td>\n",
       "    </tr>\n",
       "    <tr>\n",
       "      <th>mean</th>\n",
       "      <td>3.653995</td>\n",
       "      <td>41.583333</td>\n",
       "      <td>12.221014</td>\n",
       "    </tr>\n",
       "    <tr>\n",
       "      <th>std</th>\n",
       "      <td>2.471311</td>\n",
       "      <td>7.910656</td>\n",
       "      <td>2.126472</td>\n",
       "    </tr>\n",
       "    <tr>\n",
       "      <th>min</th>\n",
       "      <td>0.128200</td>\n",
       "      <td>30.000000</td>\n",
       "      <td>6.000000</td>\n",
       "    </tr>\n",
       "    <tr>\n",
       "      <th>25%</th>\n",
       "      <td>2.139100</td>\n",
       "      <td>35.000000</td>\n",
       "      <td>12.000000</td>\n",
       "    </tr>\n",
       "    <tr>\n",
       "      <th>50%</th>\n",
       "      <td>3.169700</td>\n",
       "      <td>41.000000</td>\n",
       "      <td>12.000000</td>\n",
       "    </tr>\n",
       "    <tr>\n",
       "      <th>75%</th>\n",
       "      <td>4.508775</td>\n",
       "      <td>47.000000</td>\n",
       "      <td>12.250000</td>\n",
       "    </tr>\n",
       "    <tr>\n",
       "      <th>max</th>\n",
       "      <td>22.500000</td>\n",
       "      <td>60.000000</td>\n",
       "      <td>17.000000</td>\n",
       "    </tr>\n",
       "  </tbody>\n",
       "</table>\n",
       "</div>"
      ],
      "text/plain": [
       "             wage         age        educ\n",
       "count  276.000000  276.000000  276.000000\n",
       "mean     3.653995   41.583333   12.221014\n",
       "std      2.471311    7.910656    2.126472\n",
       "min      0.128200   30.000000    6.000000\n",
       "25%      2.139100   35.000000   12.000000\n",
       "50%      3.169700   41.000000   12.000000\n",
       "75%      4.508775   47.000000   12.250000\n",
       "max     22.500000   60.000000   17.000000"
      ]
     },
     "execution_count": 7,
     "metadata": {},
     "output_type": "execute_result"
    }
   ],
   "source": [
    "df_inf_65th = df_wage.loc[df_wage[\"huswage\"]<percentile_65th][[\"wage\", \"age\",\"educ\"]]\n",
    "df_inf_65th.describe()"
   ]
  },
  {
   "cell_type": "markdown",
   "metadata": {},
   "source": [
    "Reste à faire :  <u> à commenter <u>"
   ]
  },
  {
   "cell_type": "markdown",
   "metadata": {},
   "source": [
    "### 3. Faire l'histogramme de la variable wage. Supprimer les observations qui sont à plus de 3 écart-types de la moyenne et refaire l’histogramme"
   ]
  },
  {
   "cell_type": "code",
   "execution_count": 8,
   "metadata": {},
   "outputs": [
    {
     "data": {
      "image/png": "[encoded data removed]",
      "text/plain": [
       "<Figure size 432x288 with 1 Axes>"
      ]
     },
     "metadata": {
      "needs_background": "light"
     },
     "output_type": "display_data"
    }
   ],
   "source": [
    "wage = df_des[\"wage\"]\n",
    "plt.hist(wage, 'auto')\n",
    "plt.show()"
   ]
  },
  {
   "cell_type": "code",
   "execution_count": 9,
   "metadata": {},
   "outputs": [
    {
     "data": {
      "text/html": [
       "<div>\n",
       "<style scoped>\n",
       "    .dataframe tbody tr th:only-of-type {\n",
       "        vertical-align: middle;\n",
       "    }\n",
       "\n",
       "    .dataframe tbody tr th {\n",
       "        vertical-align: top;\n",
       "    }\n",
       "\n",
       "    .dataframe thead th {\n",
       "        text-align: right;\n",
       "    }\n",
       "</style>\n",
       "<table border=\"1\" class=\"dataframe\">\n",
       "  <thead>\n",
       "    <tr style=\"text-align: right;\">\n",
       "      <th></th>\n",
       "      <th>wage</th>\n",
       "      <th>age</th>\n",
       "      <th>educ</th>\n",
       "    </tr>\n",
       "  </thead>\n",
       "  <tbody>\n",
       "    <tr>\n",
       "      <th>0</th>\n",
       "      <td>3.3540</td>\n",
       "      <td>32</td>\n",
       "      <td>12</td>\n",
       "    </tr>\n",
       "    <tr>\n",
       "      <th>1</th>\n",
       "      <td>1.3889</td>\n",
       "      <td>30</td>\n",
       "      <td>12</td>\n",
       "    </tr>\n",
       "    <tr>\n",
       "      <th>2</th>\n",
       "      <td>4.5455</td>\n",
       "      <td>35</td>\n",
       "      <td>12</td>\n",
       "    </tr>\n",
       "    <tr>\n",
       "      <th>3</th>\n",
       "      <td>1.0965</td>\n",
       "      <td>34</td>\n",
       "      <td>12</td>\n",
       "    </tr>\n",
       "    <tr>\n",
       "      <th>4</th>\n",
       "      <td>4.5918</td>\n",
       "      <td>31</td>\n",
       "      <td>14</td>\n",
       "    </tr>\n",
       "    <tr>\n",
       "      <th>...</th>\n",
       "      <td>...</td>\n",
       "      <td>...</td>\n",
       "      <td>...</td>\n",
       "    </tr>\n",
       "    <tr>\n",
       "      <th>423</th>\n",
       "      <td>2.3118</td>\n",
       "      <td>36</td>\n",
       "      <td>10</td>\n",
       "    </tr>\n",
       "    <tr>\n",
       "      <th>424</th>\n",
       "      <td>5.3061</td>\n",
       "      <td>40</td>\n",
       "      <td>12</td>\n",
       "    </tr>\n",
       "    <tr>\n",
       "      <th>425</th>\n",
       "      <td>5.8675</td>\n",
       "      <td>43</td>\n",
       "      <td>13</td>\n",
       "    </tr>\n",
       "    <tr>\n",
       "      <th>426</th>\n",
       "      <td>3.4091</td>\n",
       "      <td>33</td>\n",
       "      <td>12</td>\n",
       "    </tr>\n",
       "    <tr>\n",
       "      <th>427</th>\n",
       "      <td>4.0816</td>\n",
       "      <td>30</td>\n",
       "      <td>12</td>\n",
       "    </tr>\n",
       "  </tbody>\n",
       "</table>\n",
       "<p>419 rows × 3 columns</p>\n",
       "</div>"
      ],
      "text/plain": [
       "       wage  age  educ\n",
       "0    3.3540   32    12\n",
       "1    1.3889   30    12\n",
       "2    4.5455   35    12\n",
       "3    1.0965   34    12\n",
       "4    4.5918   31    14\n",
       "..      ...  ...   ...\n",
       "423  2.3118   36    10\n",
       "424  5.3061   40    12\n",
       "425  5.8675   43    13\n",
       "426  3.4091   33    12\n",
       "427  4.0816   30    12\n",
       "\n",
       "[419 rows x 3 columns]"
      ]
     },
     "execution_count": 9,
     "metadata": {},
     "output_type": "execute_result"
    }
   ],
   "source": [
    "mean = df_des.describe().iloc[1].iloc[0]\n",
    "std = df_des.describe().iloc[2].iloc[0]\n",
    "df_3std = df_des.loc[df_des[\"wage\"]<= mean + 3*std]\n",
    "df_3std"
   ]
  },
  {
   "cell_type": "code",
   "execution_count": 10,
   "metadata": {},
   "outputs": [
    {
     "data": {
      "image/png": "[encoded data removed]",
      "text/plain": [
       "<Figure size 432x288 with 1 Axes>"
      ]
     },
     "metadata": {
      "needs_background": "light"
     },
     "output_type": "display_data"
    }
   ],
   "source": [
    "plt.hist(df_3std[\"wage\"], 'auto')\n",
    "plt.show()\n"
   ]
  },
  {
   "cell_type": "markdown",
   "metadata": {},
   "source": [
    "### 4. Calculer les corrélations motheduc et fatheduc. Expliquer le problème de multi-collinéarité. Commenter."
   ]
  },
  {
   "cell_type": "code",
   "execution_count": 11,
   "metadata": {},
   "outputs": [
    {
     "data": {
      "text/html": [
       "<div>\n",
       "<style scoped>\n",
       "    .dataframe tbody tr th:only-of-type {\n",
       "        vertical-align: middle;\n",
       "    }\n",
       "\n",
       "    .dataframe tbody tr th {\n",
       "        vertical-align: top;\n",
       "    }\n",
       "\n",
       "    .dataframe thead th {\n",
       "        text-align: right;\n",
       "    }\n",
       "</style>\n",
       "<table border=\"1\" class=\"dataframe\">\n",
       "  <thead>\n",
       "    <tr style=\"text-align: right;\">\n",
       "      <th></th>\n",
       "      <th>inlf</th>\n",
       "      <th>hours</th>\n",
       "      <th>kidslt6</th>\n",
       "      <th>kidsge6</th>\n",
       "      <th>age</th>\n",
       "      <th>educ</th>\n",
       "      <th>wage</th>\n",
       "      <th>repwage</th>\n",
       "      <th>hushrs</th>\n",
       "      <th>husage</th>\n",
       "      <th>...</th>\n",
       "      <th>faminc</th>\n",
       "      <th>mtr</th>\n",
       "      <th>motheduc</th>\n",
       "      <th>fatheduc</th>\n",
       "      <th>unem</th>\n",
       "      <th>city</th>\n",
       "      <th>exper</th>\n",
       "      <th>nwifeinc</th>\n",
       "      <th>lwage</th>\n",
       "      <th>expersq</th>\n",
       "    </tr>\n",
       "  </thead>\n",
       "  <tbody>\n",
       "    <tr>\n",
       "      <th>0</th>\n",
       "      <td>1</td>\n",
       "      <td>1610</td>\n",
       "      <td>1</td>\n",
       "      <td>0</td>\n",
       "      <td>32</td>\n",
       "      <td>12</td>\n",
       "      <td>3.3540</td>\n",
       "      <td>2.65</td>\n",
       "      <td>2708</td>\n",
       "      <td>34</td>\n",
       "      <td>...</td>\n",
       "      <td>16310</td>\n",
       "      <td>0.7215</td>\n",
       "      <td>12</td>\n",
       "      <td>7</td>\n",
       "      <td>5.0</td>\n",
       "      <td>0</td>\n",
       "      <td>14</td>\n",
       "      <td>10.910060</td>\n",
       "      <td>1.210154</td>\n",
       "      <td>196</td>\n",
       "    </tr>\n",
       "    <tr>\n",
       "      <th>1</th>\n",
       "      <td>1</td>\n",
       "      <td>1656</td>\n",
       "      <td>0</td>\n",
       "      <td>2</td>\n",
       "      <td>30</td>\n",
       "      <td>12</td>\n",
       "      <td>1.3889</td>\n",
       "      <td>2.65</td>\n",
       "      <td>2310</td>\n",
       "      <td>30</td>\n",
       "      <td>...</td>\n",
       "      <td>21800</td>\n",
       "      <td>0.6615</td>\n",
       "      <td>7</td>\n",
       "      <td>7</td>\n",
       "      <td>11.0</td>\n",
       "      <td>1</td>\n",
       "      <td>5</td>\n",
       "      <td>19.499980</td>\n",
       "      <td>.3285121</td>\n",
       "      <td>25</td>\n",
       "    </tr>\n",
       "    <tr>\n",
       "      <th>2</th>\n",
       "      <td>1</td>\n",
       "      <td>1980</td>\n",
       "      <td>1</td>\n",
       "      <td>3</td>\n",
       "      <td>35</td>\n",
       "      <td>12</td>\n",
       "      <td>4.5455</td>\n",
       "      <td>4.04</td>\n",
       "      <td>3072</td>\n",
       "      <td>40</td>\n",
       "      <td>...</td>\n",
       "      <td>21040</td>\n",
       "      <td>0.6915</td>\n",
       "      <td>12</td>\n",
       "      <td>7</td>\n",
       "      <td>5.0</td>\n",
       "      <td>0</td>\n",
       "      <td>15</td>\n",
       "      <td>12.039910</td>\n",
       "      <td>1.514138</td>\n",
       "      <td>225</td>\n",
       "    </tr>\n",
       "    <tr>\n",
       "      <th>3</th>\n",
       "      <td>1</td>\n",
       "      <td>456</td>\n",
       "      <td>0</td>\n",
       "      <td>3</td>\n",
       "      <td>34</td>\n",
       "      <td>12</td>\n",
       "      <td>1.0965</td>\n",
       "      <td>3.25</td>\n",
       "      <td>1920</td>\n",
       "      <td>53</td>\n",
       "      <td>...</td>\n",
       "      <td>7300</td>\n",
       "      <td>0.7815</td>\n",
       "      <td>7</td>\n",
       "      <td>7</td>\n",
       "      <td>5.0</td>\n",
       "      <td>0</td>\n",
       "      <td>6</td>\n",
       "      <td>6.799996</td>\n",
       "      <td>.0921233</td>\n",
       "      <td>36</td>\n",
       "    </tr>\n",
       "    <tr>\n",
       "      <th>4</th>\n",
       "      <td>1</td>\n",
       "      <td>1568</td>\n",
       "      <td>1</td>\n",
       "      <td>2</td>\n",
       "      <td>31</td>\n",
       "      <td>14</td>\n",
       "      <td>4.5918</td>\n",
       "      <td>3.60</td>\n",
       "      <td>2000</td>\n",
       "      <td>32</td>\n",
       "      <td>...</td>\n",
       "      <td>27300</td>\n",
       "      <td>0.6215</td>\n",
       "      <td>12</td>\n",
       "      <td>14</td>\n",
       "      <td>9.5</td>\n",
       "      <td>1</td>\n",
       "      <td>7</td>\n",
       "      <td>20.100060</td>\n",
       "      <td>1.524272</td>\n",
       "      <td>49</td>\n",
       "    </tr>\n",
       "    <tr>\n",
       "      <th>...</th>\n",
       "      <td>...</td>\n",
       "      <td>...</td>\n",
       "      <td>...</td>\n",
       "      <td>...</td>\n",
       "      <td>...</td>\n",
       "      <td>...</td>\n",
       "      <td>...</td>\n",
       "      <td>...</td>\n",
       "      <td>...</td>\n",
       "      <td>...</td>\n",
       "      <td>...</td>\n",
       "      <td>...</td>\n",
       "      <td>...</td>\n",
       "      <td>...</td>\n",
       "      <td>...</td>\n",
       "      <td>...</td>\n",
       "      <td>...</td>\n",
       "      <td>...</td>\n",
       "      <td>...</td>\n",
       "      <td>...</td>\n",
       "      <td>...</td>\n",
       "    </tr>\n",
       "    <tr>\n",
       "      <th>423</th>\n",
       "      <td>1</td>\n",
       "      <td>680</td>\n",
       "      <td>0</td>\n",
       "      <td>5</td>\n",
       "      <td>36</td>\n",
       "      <td>10</td>\n",
       "      <td>2.3118</td>\n",
       "      <td>0.00</td>\n",
       "      <td>3430</td>\n",
       "      <td>43</td>\n",
       "      <td>...</td>\n",
       "      <td>19772</td>\n",
       "      <td>0.7215</td>\n",
       "      <td>7</td>\n",
       "      <td>7</td>\n",
       "      <td>7.5</td>\n",
       "      <td>0</td>\n",
       "      <td>2</td>\n",
       "      <td>18.199980</td>\n",
       "      <td>.8380265</td>\n",
       "      <td>4</td>\n",
       "    </tr>\n",
       "    <tr>\n",
       "      <th>424</th>\n",
       "      <td>1</td>\n",
       "      <td>2450</td>\n",
       "      <td>0</td>\n",
       "      <td>1</td>\n",
       "      <td>40</td>\n",
       "      <td>12</td>\n",
       "      <td>5.3061</td>\n",
       "      <td>6.50</td>\n",
       "      <td>2008</td>\n",
       "      <td>40</td>\n",
       "      <td>...</td>\n",
       "      <td>35641</td>\n",
       "      <td>0.6215</td>\n",
       "      <td>7</td>\n",
       "      <td>7</td>\n",
       "      <td>5.0</td>\n",
       "      <td>1</td>\n",
       "      <td>21</td>\n",
       "      <td>22.641060</td>\n",
       "      <td>1.668857</td>\n",
       "      <td>441</td>\n",
       "    </tr>\n",
       "    <tr>\n",
       "      <th>425</th>\n",
       "      <td>1</td>\n",
       "      <td>2144</td>\n",
       "      <td>0</td>\n",
       "      <td>2</td>\n",
       "      <td>43</td>\n",
       "      <td>13</td>\n",
       "      <td>5.8675</td>\n",
       "      <td>0.00</td>\n",
       "      <td>2140</td>\n",
       "      <td>43</td>\n",
       "      <td>...</td>\n",
       "      <td>34220</td>\n",
       "      <td>0.5815</td>\n",
       "      <td>7</td>\n",
       "      <td>7</td>\n",
       "      <td>7.5</td>\n",
       "      <td>1</td>\n",
       "      <td>22</td>\n",
       "      <td>21.640080</td>\n",
       "      <td>1.769429</td>\n",
       "      <td>484</td>\n",
       "    </tr>\n",
       "    <tr>\n",
       "      <th>426</th>\n",
       "      <td>1</td>\n",
       "      <td>1760</td>\n",
       "      <td>0</td>\n",
       "      <td>1</td>\n",
       "      <td>33</td>\n",
       "      <td>12</td>\n",
       "      <td>3.4091</td>\n",
       "      <td>3.21</td>\n",
       "      <td>3380</td>\n",
       "      <td>34</td>\n",
       "      <td>...</td>\n",
       "      <td>30000</td>\n",
       "      <td>0.5815</td>\n",
       "      <td>12</td>\n",
       "      <td>16</td>\n",
       "      <td>11.0</td>\n",
       "      <td>1</td>\n",
       "      <td>14</td>\n",
       "      <td>23.999980</td>\n",
       "      <td>1.226448</td>\n",
       "      <td>196</td>\n",
       "    </tr>\n",
       "    <tr>\n",
       "      <th>427</th>\n",
       "      <td>1</td>\n",
       "      <td>490</td>\n",
       "      <td>0</td>\n",
       "      <td>1</td>\n",
       "      <td>30</td>\n",
       "      <td>12</td>\n",
       "      <td>4.0816</td>\n",
       "      <td>2.46</td>\n",
       "      <td>2430</td>\n",
       "      <td>33</td>\n",
       "      <td>...</td>\n",
       "      <td>18000</td>\n",
       "      <td>0.6915</td>\n",
       "      <td>12</td>\n",
       "      <td>12</td>\n",
       "      <td>7.5</td>\n",
       "      <td>1</td>\n",
       "      <td>7</td>\n",
       "      <td>16.000020</td>\n",
       "      <td>1.406489</td>\n",
       "      <td>49</td>\n",
       "    </tr>\n",
       "  </tbody>\n",
       "</table>\n",
       "<p>419 rows × 22 columns</p>\n",
       "</div>"
      ],
      "text/plain": [
       "     inlf  hours  kidslt6  kidsge6  age  educ    wage  repwage  hushrs  \\\n",
       "0       1   1610        1        0   32    12  3.3540     2.65    2708   \n",
       "1       1   1656        0        2   30    12  1.3889     2.65    2310   \n",
       "2       1   1980        1        3   35    12  4.5455     4.04    3072   \n",
       "3       1    456        0        3   34    12  1.0965     3.25    1920   \n",
       "4       1   1568        1        2   31    14  4.5918     3.60    2000   \n",
       "..    ...    ...      ...      ...  ...   ...     ...      ...     ...   \n",
       "423     1    680        0        5   36    10  2.3118     0.00    3430   \n",
       "424     1   2450        0        1   40    12  5.3061     6.50    2008   \n",
       "425     1   2144        0        2   43    13  5.8675     0.00    2140   \n",
       "426     1   1760        0        1   33    12  3.4091     3.21    3380   \n",
       "427     1    490        0        1   30    12  4.0816     2.46    2430   \n",
       "\n",
       "     husage  ...  faminc     mtr  motheduc  fatheduc  unem  city  exper  \\\n",
       "0        34  ...   16310  0.7215        12         7   5.0     0     14   \n",
       "1        30  ...   21800  0.6615         7         7  11.0     1      5   \n",
       "2        40  ...   21040  0.6915        12         7   5.0     0     15   \n",
       "3        53  ...    7300  0.7815         7         7   5.0     0      6   \n",
       "4        32  ...   27300  0.6215        12        14   9.5     1      7   \n",
       "..      ...  ...     ...     ...       ...       ...   ...   ...    ...   \n",
       "423      43  ...   19772  0.7215         7         7   7.5     0      2   \n",
       "424      40  ...   35641  0.6215         7         7   5.0     1     21   \n",
       "425      43  ...   34220  0.5815         7         7   7.5     1     22   \n",
       "426      34  ...   30000  0.5815        12        16  11.0     1     14   \n",
       "427      33  ...   18000  0.6915        12        12   7.5     1      7   \n",
       "\n",
       "      nwifeinc     lwage  expersq  \n",
       "0    10.910060  1.210154      196  \n",
       "1    19.499980  .3285121       25  \n",
       "2    12.039910  1.514138      225  \n",
       "3     6.799996  .0921233       36  \n",
       "4    20.100060  1.524272       49  \n",
       "..         ...       ...      ...  \n",
       "423  18.199980  .8380265        4  \n",
       "424  22.641060  1.668857      441  \n",
       "425  21.640080  1.769429      484  \n",
       "426  23.999980  1.226448      196  \n",
       "427  16.000020  1.406489       49  \n",
       "\n",
       "[419 rows x 22 columns]"
      ]
     },
     "execution_count": 11,
     "metadata": {},
     "output_type": "execute_result"
    }
   ],
   "source": [
    "df_use = df_wage.copy()\n",
    "df_use = df_use.loc[df_use[\"wage\"]<= mean + 3*std]\n",
    "df_use"
   ]
  },
  {
   "cell_type": "code",
   "execution_count": 12,
   "metadata": {},
   "outputs": [
    {
     "data": {
      "text/html": [
       "<div>\n",
       "<style scoped>\n",
       "    .dataframe tbody tr th:only-of-type {\n",
       "        vertical-align: middle;\n",
       "    }\n",
       "\n",
       "    .dataframe tbody tr th {\n",
       "        vertical-align: top;\n",
       "    }\n",
       "\n",
       "    .dataframe thead th {\n",
       "        text-align: right;\n",
       "    }\n",
       "</style>\n",
       "<table border=\"1\" class=\"dataframe\">\n",
       "  <thead>\n",
       "    <tr style=\"text-align: right;\">\n",
       "      <th></th>\n",
       "      <th>motheduc</th>\n",
       "      <th>fatheduc</th>\n",
       "    </tr>\n",
       "  </thead>\n",
       "  <tbody>\n",
       "    <tr>\n",
       "      <th>motheduc</th>\n",
       "      <td>1.000000</td>\n",
       "      <td>0.548725</td>\n",
       "    </tr>\n",
       "    <tr>\n",
       "      <th>fatheduc</th>\n",
       "      <td>0.548725</td>\n",
       "      <td>1.000000</td>\n",
       "    </tr>\n",
       "  </tbody>\n",
       "</table>\n",
       "</div>"
      ],
      "text/plain": [
       "          motheduc  fatheduc\n",
       "motheduc  1.000000  0.548725\n",
       "fatheduc  0.548725  1.000000"
      ]
     },
     "execution_count": 12,
     "metadata": {},
     "output_type": "execute_result"
    }
   ],
   "source": [
    "df_use[[\"motheduc\", \"fatheduc\"]].corr()"
   ]
  },
  {
   "cell_type": "markdown",
   "metadata": {},
   "source": [
    "Les variables motheduc et fatheduc ont une corrélation linéaire de 0.54. Le problème de multicolinéarité est que le determinant de (X'X) va se rapprocher de 0 et donc sont inverses va exploser. S'il explose, on aura une variance hyper grande et nos test vont être moins robustes."
   ]
  },
  {
   "cell_type": "markdown",
   "metadata": {},
   "source": [
    "### 5. Faites un graphique en nuage de point entre wage et educ,. S'agit-il d'un effet \"toute chose étant égale par ailleurs ?\""
   ]
  },
  {
   "cell_type": "code",
   "execution_count": 13,
   "metadata": {},
   "outputs": [
    {
     "data": {
      "image/png": "[encoded data removed]",
      "text/plain": [
       "<Figure size 432x288 with 1 Axes>"
      ]
     },
     "metadata": {
      "needs_background": "light"
     },
     "output_type": "display_data"
    }
   ],
   "source": [
    "plt.scatter(df_use[\"educ\"],df_use[\"wage\"])\n",
    "plt.show()"
   ]
  },
  {
   "cell_type": "markdown",
   "metadata": {},
   "source": [
    "Non car les autres variables explicatives varient. <u> à vérifier, je ne suis pas sûr <u>"
   ]
  },
  {
   "cell_type": "markdown",
   "metadata": {},
   "source": [
    "### 6. Quelle est l'hypothèse fondamentale qui garantit des estimateurs non biaisés ? Expliquer le biais de variable omise.\n"
   ]
  },
  {
   "cell_type": "markdown",
   "metadata": {},
   "source": [
    "L'hypothèse fondamentale qui garantit des estimateurs non biaisés est l'homoscédasticité, c'est le fait que la variance des résidus soit constante. Elle permet de garantir que l'estimateur des Moindres Carrés Ordinaires (MCO) est sans biais. Si l'hypothèse fondamentale est respectée ce sont des variance BLUE (Best Linear Unbiased)"
   ]
  },
  {
   "cell_type": "markdown",
   "metadata": {},
   "source": [
    "$\\beta^{*} = (X'X)^{-1} X'(X\\beta+u)$  \n",
    "$\\beta^{*} = (X'X)^{-1} X'X\\beta + (X'X)^{-1} X'u$  \n",
    "$\\beta^{*} = \\beta+ X'u $  \n",
    "$\\mathbb{E}(\\beta^{*}) = \\beta + \\mathbb{E}(X'u)$"
   ]
  },
  {
   "cell_type": "markdown",
   "metadata": {},
   "source": [
    "si X'u est corrélé, il y aura un biais, si non corrélé :"
   ]
  },
  {
   "cell_type": "markdown",
   "metadata": {},
   "source": [
    "$\\mathbb{E}(\\beta^{*}) = \\beta$"
   ]
  },
  {
   "cell_type": "markdown",
   "metadata": {},
   "source": [
    "### 7. Faire la régression du log de wage en utilisant comme variables explicatives une constante, city, educ, exper, nwifeinc, kidslt6, kidsgt6. Commentez l'histogramme des résidus."
   ]
  },
  {
   "cell_type": "markdown",
   "metadata": {},
   "source": [
    "Notre modèle :  \n",
    "$ Log(\\widehat{wage}) = \\beta_{const} + \\beta_{nwifeinc}X_{nwifeinc} + \\beta_{educ}X_{educ} + \\beta_{exper}X_{exper} + \\beta_{city}X_{city} + \\beta_{kidslt6}X_{kidslt6} +\\beta_{kidsge6}X_{kidsge6} + u $ "
   ]
  },
  {
   "cell_type": "code",
   "execution_count": 14,
   "metadata": {},
   "outputs": [
    {
     "name": "stdout",
     "output_type": "stream",
     "text": [
      "                            OLS Regression Results                            \n",
      "==============================================================================\n",
      "Dep. Variable:                   wage   R-squared:                       0.173\n",
      "Model:                            OLS   Adj. R-squared:                  0.161\n",
      "Method:                 Least Squares   F-statistic:                     14.41\n",
      "Date:                Sun, 16 May 2021   Prob (F-statistic):           6.13e-15\n",
      "Time:                        16:38:50   Log-Likelihood:                -392.18\n",
      "No. Observations:                 419   AIC:                             798.4\n",
      "Df Residuals:                     412   BIC:                             826.6\n",
      "Df Model:                           6                                         \n",
      "Covariance Type:            nonrobust                                         \n",
      "==============================================================================\n",
      "                 coef    std err          t      P>|t|      [0.025      0.975]\n",
      "------------------------------------------------------------------------------\n",
      "const         -0.4379      0.195     -2.243      0.025      -0.822      -0.054\n",
      "x1             0.0236      0.066      0.359      0.720      -0.106       0.153\n",
      "x2             0.0993      0.014      6.991      0.000       0.071       0.127\n",
      "x3             0.0189      0.004      4.493      0.000       0.011       0.027\n",
      "x4             0.0043      0.003      1.376      0.170      -0.002       0.010\n",
      "x5            -0.0613      0.080     -0.764      0.445      -0.219       0.096\n",
      "x6            -0.0002      0.025     -0.009      0.993      -0.050       0.049\n",
      "==============================================================================\n",
      "Omnibus:                      124.505   Durbin-Watson:                   1.872\n",
      "Prob(Omnibus):                  0.000   Jarque-Bera (JB):              391.383\n",
      "Skew:                          -1.361   Prob(JB):                     1.03e-85\n",
      "Kurtosis:                       6.874   Cond. No.                         178.\n",
      "==============================================================================\n",
      "\n",
      "Notes:\n",
      "[1] Standard Errors assume that the covariance matrix of the errors is correctly specified.\n"
     ]
    }
   ],
   "source": [
    "y = np.log(df_use[\"wage\"])\n",
    "s=np.shape(df_use[\"wage\"])\n",
    "const=np.ones(s)\n",
    "city = df_use[\"city\"]\n",
    "educ = df_use[\"educ\"]\n",
    "exper = df_use[\"exper\"]\n",
    "nwifeinc = df_use[\"nwifeinc\"]\n",
    "kidslt6 = df_use[\"kidslt6\"]\n",
    "kidsge6 = df_use['kidsge6']\n",
    "X=np.column_stack((const,city, educ, exper, nwifeinc,kidslt6 , kidsge6))\n",
    "model=sm.OLS(y,X)\n",
    "results = model.fit()\n",
    "print(results.summary())\n",
    "u=results.resid"
   ]
  },
  {
   "cell_type": "code",
   "execution_count": 15,
   "metadata": {
    "scrolled": true
   },
   "outputs": [
    {
     "data": {
      "image/png": "[encoded data removed]",
      "text/plain": [
       "<Figure size 432x288 with 1 Axes>"
      ]
     },
     "metadata": {
      "needs_background": "light"
     },
     "output_type": "display_data"
    }
   ],
   "source": [
    "plt.hist(u, 'auto')\n",
    "plt.show()"
   ]
  },
  {
   "cell_type": "markdown",
   "metadata": {},
   "source": [
    "Reste à faire :  <u> à commenter <u>"
   ]
  },
  {
   "cell_type": "markdown",
   "metadata": {},
   "source": [
    "### 8. Tester l'hypothèse de non significativité de nwifeinc avec un seuil de significativité de 1%, 5% et 10% (test alternatif des deux côtés). Commentez les p-values."
   ]
  },
  {
   "cell_type": "code",
   "execution_count": 16,
   "metadata": {},
   "outputs": [
    {
     "name": "stdout",
     "output_type": "stream",
     "text": [
      "                            OLS Regression Results                            \n",
      "==============================================================================\n",
      "Dep. Variable:                   wage   R-squared:                       0.173\n",
      "Model:                            OLS   Adj. R-squared:                  0.161\n",
      "Method:                 Least Squares   F-statistic:                     14.41\n",
      "Date:                Sun, 16 May 2021   Prob (F-statistic):           6.13e-15\n",
      "Time:                        16:38:51   Log-Likelihood:                -392.18\n",
      "No. Observations:                 419   AIC:                             798.4\n",
      "Df Residuals:                     412   BIC:                             826.6\n",
      "Df Model:                           6                                         \n",
      "Covariance Type:            nonrobust                                         \n",
      "==============================================================================\n",
      "                 coef    std err          t      P>|t|      [0.025      0.975]\n",
      "------------------------------------------------------------------------------\n",
      "const         -0.4379      0.195     -2.243      0.025      -0.822      -0.054\n",
      "x1             0.0236      0.066      0.359      0.720      -0.106       0.153\n",
      "x2             0.0993      0.014      6.991      0.000       0.071       0.127\n",
      "x3             0.0189      0.004      4.493      0.000       0.011       0.027\n",
      "x4             0.0043      0.003      1.376      0.170      -0.002       0.010\n",
      "x5            -0.0613      0.080     -0.764      0.445      -0.219       0.096\n",
      "x6            -0.0002      0.025     -0.009      0.993      -0.050       0.049\n",
      "==============================================================================\n",
      "Omnibus:                      124.505   Durbin-Watson:                   1.872\n",
      "Prob(Omnibus):                  0.000   Jarque-Bera (JB):              391.383\n",
      "Skew:                          -1.361   Prob(JB):                     1.03e-85\n",
      "Kurtosis:                       6.874   Cond. No.                         178.\n",
      "==============================================================================\n",
      "\n",
      "Notes:\n",
      "[1] Standard Errors assume that the covariance matrix of the errors is correctly specified.\n"
     ]
    }
   ],
   "source": [
    "print(results.summary())"
   ]
  },
  {
   "cell_type": "markdown",
   "metadata": {},
   "source": [
    "la statistique de student de newifeinc est de 1.376 et sa p-value est de 17% ce qui veut dire qu'on rejette à plus de 17 %.  \n",
    "Or à 1%, 5%, 10% on ne rejette pas H0, donc le coefficient nwifeinc n'est pas significatif."
   ]
  },
  {
   "cell_type": "markdown",
   "metadata": {},
   "source": [
    "### 9. Tester l’hypothèse que le coefficient associé à nwifeinc est égal à 0.01 avec un seuil de significativité de 5% (test à alternatif des deux côtés)"
   ]
  },
  {
   "cell_type": "code",
   "execution_count": 17,
   "metadata": {},
   "outputs": [],
   "source": [
    "beta = np.linalg.inv(X.T @ X)@X.T@y\n",
    "u=y-X@beta\n",
    "n,k=np.shape(X)\n",
    "sig2=u.T@u/(n-k)\n",
    "Var=sig2*np.linalg.inv(X.T @ X)\n",
    "std=np.sqrt(np.diag(Var))"
   ]
  },
  {
   "cell_type": "code",
   "execution_count": 18,
   "metadata": {},
   "outputs": [
    {
     "name": "stdout",
     "output_type": "stream",
     "text": [
      "degree de liberté de la loi de student n - k =  412\n",
      "Seuil de rejet 1.9657385889937118\n"
     ]
    }
   ],
   "source": [
    "ddl = n - k \n",
    "print(\"degree de liberté de la loi de student n - k = \", ddl)\n",
    "\n",
    "### percentile\n",
    "q=1-0.025\n",
    "\n",
    "seuil = t.ppf(q,ddl)\n",
    "\n",
    "print(\"Seuil de rejet\", seuil)"
   ]
  },
  {
   "cell_type": "code",
   "execution_count": 19,
   "metadata": {},
   "outputs": [
    {
     "data": {
      "text/plain": [
       "array([0.19523919, 0.06574661, 0.01420112, 0.0042081 , 0.00313265,\n",
       "       0.08016355, 0.02523177])"
      ]
     },
     "execution_count": 19,
     "metadata": {},
     "output_type": "execute_result"
    }
   ],
   "source": [
    "std"
   ]
  },
  {
   "cell_type": "code",
   "execution_count": 20,
   "metadata": {},
   "outputs": [
    {
     "name": "stdout",
     "output_type": "stream",
     "text": [
      "t-stat de la variable nwifeinc :  -1.8162055729215245\n",
      "Non rejet de H0\n"
     ]
    }
   ],
   "source": [
    "### T-stat\n",
    "t_stat =  (beta[4]-0.01) / std[4]\n",
    "print(\"t-stat de la variable nwifeinc : \" , t_stat)\n",
    "## On test si la t stat est superieur au seuil ou inferieu à moins le seuil\n",
    "## hypothèse alternative des deux côtés à 5%\n",
    "\n",
    "if t_stat > seuil or t_stat < -seuil == True :\n",
    "    print(\"Rejet de H0\")\n",
    "else :\n",
    "    print(\"Non rejet de H0\")"
   ]
  },
  {
   "cell_type": "code",
   "execution_count": 21,
   "metadata": {},
   "outputs": [
    {
     "name": "stdout",
     "output_type": "stream",
     "text": [
      "t-stat :  -1.8162055729215245\n",
      "p value : 0.07006547327900892\n"
     ]
    }
   ],
   "source": [
    "print(\"t-stat : \", t_stat)\n",
    "#print('p value', t.sf(t_stat3,df))\n",
    "print( 'p value :', 2*(1-t.sf(t_stat,ddl)))"
   ]
  },
  {
   "cell_type": "markdown",
   "metadata": {},
   "source": [
    "Non rejet de H0 que $\\beta_{nwifeinc}=0.01$, comme on peut voir grâce à la stat au-dessus et à la p-value."
   ]
  },
  {
   "cell_type": "markdown",
   "metadata": {},
   "source": [
    "### 10. Tester l’hypothèse jointe que le coefficient de nwifeinc est égal à 0.01 et que celui de city est égal à 0.05."
   ]
  },
  {
   "cell_type": "markdown",
   "metadata": {},
   "source": [
    "$H_0 : \\beta_{nwifeinc} = 0.01$ , $\\beta_{city} = 0.05$ \n",
    "\n",
    "On remplace les coefficients :  \n",
    "$ Log(\\widehat{wage}) = \\beta_{const} + 0.01X_{nwifeinc} + \\beta_{educ}X_{educ} + \\beta_{exper}X_{exper} + 0.05X_{city} + \\beta_{kidslt6}X_{kidslt6} +\\beta_{kidsge6}X_{kidsge6} + u $  \n",
    "$ Log(\\widehat{wage}) - 0.01X_{nwifeinc} - 0.05X_{city} = \\beta_{const} + \\beta_{educ}X_{educ} + \\beta_{exper}X_{exper} + \\beta_{kidslt6}X_{kidslt6} +\\beta_{kidsge6}X_{kidsge6} + u $"
   ]
  },
  {
   "cell_type": "code",
   "execution_count": 22,
   "metadata": {},
   "outputs": [
    {
     "name": "stdout",
     "output_type": "stream",
     "text": [
      "                            OLS Regression Results                            \n",
      "==============================================================================\n",
      "Dep. Variable:                   wage   R-squared:                       0.173\n",
      "Model:                            OLS   Adj. R-squared:                  0.161\n",
      "Method:                 Least Squares   F-statistic:                     14.41\n",
      "Date:                Sun, 16 May 2021   Prob (F-statistic):           6.13e-15\n",
      "Time:                        16:38:51   Log-Likelihood:                -392.18\n",
      "No. Observations:                 419   AIC:                             798.4\n",
      "Df Residuals:                     412   BIC:                             826.6\n",
      "Df Model:                           6                                         \n",
      "Covariance Type:            nonrobust                                         \n",
      "==============================================================================\n",
      "                 coef    std err          t      P>|t|      [0.025      0.975]\n",
      "------------------------------------------------------------------------------\n",
      "const         -0.4379      0.195     -2.243      0.025      -0.822      -0.054\n",
      "x1             0.0236      0.066      0.359      0.720      -0.106       0.153\n",
      "x2             0.0993      0.014      6.991      0.000       0.071       0.127\n",
      "x3             0.0189      0.004      4.493      0.000       0.011       0.027\n",
      "x4             0.0043      0.003      1.376      0.170      -0.002       0.010\n",
      "x5            -0.0613      0.080     -0.764      0.445      -0.219       0.096\n",
      "x6            -0.0002      0.025     -0.009      0.993      -0.050       0.049\n",
      "==============================================================================\n",
      "Omnibus:                      124.505   Durbin-Watson:                   1.872\n",
      "Prob(Omnibus):                  0.000   Jarque-Bera (JB):              391.383\n",
      "Skew:                          -1.361   Prob(JB):                     1.03e-85\n",
      "Kurtosis:                       6.874   Cond. No.                         178.\n",
      "==============================================================================\n",
      "\n",
      "Notes:\n",
      "[1] Standard Errors assume that the covariance matrix of the errors is correctly specified.\n"
     ]
    }
   ],
   "source": [
    "# Modèle non contraint\n",
    "model=sm.OLS(y,X)\n",
    "results = model.fit()\n",
    "print(results.summary())\n",
    "u=results.resid\n",
    "SSRur=u.T@u # Somme des carrés des erreurs"
   ]
  },
  {
   "cell_type": "code",
   "execution_count": 23,
   "metadata": {},
   "outputs": [
    {
     "name": "stdout",
     "output_type": "stream",
     "text": [
      "                            OLS Regression Results                            \n",
      "==============================================================================\n",
      "Dep. Variable:                      y   R-squared:                       0.151\n",
      "Model:                            OLS   Adj. R-squared:                  0.143\n",
      "Method:                 Least Squares   F-statistic:                     18.41\n",
      "Date:                Sun, 16 May 2021   Prob (F-statistic):           6.16e-14\n",
      "Time:                        16:38:51   Log-Likelihood:                -394.19\n",
      "No. Observations:                 419   AIC:                             798.4\n",
      "Df Residuals:                     414   BIC:                             818.6\n",
      "Df Model:                           4                                         \n",
      "Covariance Type:            nonrobust                                         \n",
      "==============================================================================\n",
      "                 coef    std err          t      P>|t|      [0.025      0.975]\n",
      "------------------------------------------------------------------------------\n",
      "const         -0.4785      0.194     -2.464      0.014      -0.860      -0.097\n",
      "x1             0.0910      0.014      6.687      0.000       0.064       0.118\n",
      "x2             0.0203      0.004      4.878      0.000       0.012       0.028\n",
      "x3            -0.0463      0.080     -0.579      0.563      -0.204       0.111\n",
      "x4             0.0007      0.025      0.028      0.978      -0.049       0.050\n",
      "==============================================================================\n",
      "Omnibus:                      119.077   Durbin-Watson:                   1.869\n",
      "Prob(Omnibus):                  0.000   Jarque-Bera (JB):              352.623\n",
      "Skew:                          -1.323   Prob(JB):                     2.68e-77\n",
      "Kurtosis:                       6.633   Cond. No.                         123.\n",
      "==============================================================================\n",
      "\n",
      "Notes:\n",
      "[1] Standard Errors assume that the covariance matrix of the errors is correctly specified.\n"
     ]
    }
   ],
   "source": [
    "## Modele contraint\n",
    "wage = df_use[\"wage\"]\n",
    "\n",
    "# on modifie le y\n",
    "y1 = np.log(wage) - (0.01*nwifeinc) - (0.05*city)\n",
    "X1 =np.column_stack((const, educ, exper, kidslt6 , kidsge6))\n",
    "\n",
    "model=sm.OLS(y1,X1)\n",
    "results = model.fit()\n",
    "print(results.summary())\n",
    "u=results.resid\n",
    "SSRr=u.T@u"
   ]
  },
  {
   "cell_type": "code",
   "execution_count": 24,
   "metadata": {},
   "outputs": [
    {
     "name": "stdout",
     "output_type": "stream",
     "text": [
      "Stats de Fisher 1.9832124372277833\n",
      "p value 0.13893809108565242\n",
      "Non rejet de H0\n"
     ]
    }
   ],
   "source": [
    "F=((SSRr-SSRur)/2)/(SSRur/(n-k))\n",
    "print(\"Stats de Fisher\", F)\n",
    "print(\"p value\", f.sf(F,2,n-k))\n",
    "\n",
    "if f.sf(F,2,n-k) > 0.05 :\n",
    "    print(\"Non rejet de H0\")\n",
    "else :\n",
    "    print(\"Rejet de H0\")"
   ]
  },
  {
   "cell_type": "markdown",
   "metadata": {},
   "source": [
    "### 11. Tester l’hypothèse joint que $\\beta_{nwifeinc}+\\beta_{city}=0.1$ et $\\beta_{educ}+\\beta_{exper}=0.1$"
   ]
  },
  {
   "cell_type": "markdown",
   "metadata": {},
   "source": [
    "$H_0 : \\beta_{nwifeinc} + \\beta_{city} = 0.1 , \\beta_{educ} + \\beta_{exper} = 0.1$  \n",
    "$H_0 : \\beta_{nwifeinc} = 0.1 - \\beta_{city} , \\beta_{educ} = 0.1 - \\beta_{exper}$  \n",
    "\n",
    "Voici notre modèle contraint :\n",
    "\n",
    "$ Log(\\widehat{wage}) = \\beta_{const} + (0.1 - \\beta_{city})X_{nwifeinc} + (0.1-\\beta_{exper})X_{educ} + \\beta_{exper}X_{exper} + \\beta_{city}X_{city} + \\beta_{kidslt6}X_{kidslt6} +\\beta_{kidsge6}X_{kidsge6} + u  $  \n",
    "$ Log(\\widehat{wage}) - 0.1X_{nwifeinc} - 0.1X_{educ} = \\beta_{const} + \\beta_{city}(X_{city}-X_{nwifeinc}) + \\beta_{exper}(X_{exper}-X_{educ}) + \\beta_{kidslt6}X_{kidslt6} +\\beta_{kidsge6}X_{kidsge6} + u $ "
   ]
  },
  {
   "cell_type": "code",
   "execution_count": 25,
   "metadata": {},
   "outputs": [
    {
     "name": "stdout",
     "output_type": "stream",
     "text": [
      "                            OLS Regression Results                            \n",
      "==============================================================================\n",
      "Dep. Variable:                      y   R-squared:                       0.739\n",
      "Model:                            OLS   Adj. R-squared:                  0.737\n",
      "Method:                 Least Squares   F-statistic:                     293.6\n",
      "Date:                Sun, 16 May 2021   Prob (F-statistic):          2.03e-119\n",
      "Time:                        16:38:51   Log-Likelihood:                -393.46\n",
      "No. Observations:                 419   AIC:                             796.9\n",
      "Df Residuals:                     414   BIC:                             817.1\n",
      "Df Model:                           4                                         \n",
      "Covariance Type:            nonrobust                                         \n",
      "==============================================================================\n",
      "                 coef    std err          t      P>|t|      [0.025      0.975]\n",
      "------------------------------------------------------------------------------\n",
      "const         -0.2531      0.074     -3.404      0.001      -0.399      -0.107\n",
      "x1             0.0955      0.003     31.711      0.000       0.090       0.101\n",
      "x2             0.0175      0.004      4.323      0.000       0.010       0.025\n",
      "x3            -0.0530      0.080     -0.664      0.507      -0.210       0.104\n",
      "x4            -0.0037      0.025     -0.151      0.880      -0.052       0.045\n",
      "==============================================================================\n",
      "Omnibus:                      122.738   Durbin-Watson:                   1.872\n",
      "Prob(Omnibus):                  0.000   Jarque-Bera (JB):              374.424\n",
      "Skew:                          -1.353   Prob(JB):                     4.95e-82\n",
      "Kurtosis:                       6.758   Cond. No.                         59.1\n",
      "==============================================================================\n",
      "\n",
      "Notes:\n",
      "[1] Standard Errors assume that the covariance matrix of the errors is correctly specified.\n"
     ]
    }
   ],
   "source": [
    "# Modèle contraint\n",
    "y2 = np.log(wage) - (0.1*nwifeinc) - (0.1*educ)\n",
    "X2 =np.column_stack((const, city-nwifeinc, exper - educ, kidslt6, kidsge6))\n",
    "model=sm.OLS(y2,X2)\n",
    "results = model.fit()\n",
    "print(results.summary())\n",
    "u2=results.resid\n",
    "SSRr2=u2.T@u2"
   ]
  },
  {
   "cell_type": "code",
   "execution_count": 26,
   "metadata": {},
   "outputs": [
    {
     "name": "stdout",
     "output_type": "stream",
     "text": [
      "Stats de Fisher 1.2565733079963441\n",
      "p value 0.28571617531988375\n",
      "Non rejet de H0\n"
     ]
    }
   ],
   "source": [
    "F=((SSRr2-SSRur)/2)/(SSRur/(n-k))\n",
    "print(\"Stats de Fisher\", F)\n",
    "print(\"p value\", f.sf(F,2,n-k))\n",
    "\n",
    "if f.sf(F,2,n-k) > 0.05 :\n",
    "    print(\"Non rejet de H0\")\n",
    "else :\n",
    "    print(\"Rejet de H0\")"
   ]
  },
  {
   "cell_type": "markdown",
   "metadata": {},
   "source": [
    "Ou on peut procéder ainsi en incluant un $\\theta_1$ et un $\\theta_2$ dans notre équation, tel que le modèle constraint puisse s'écrire de cette façon :  \n",
    "$ Log(\\widehat{wage}) - 0.1X_{city} - 0.1X_{educ} = \\beta{const} - \\theta_1X_{city} + \\beta_{nwifeinc}(X_{nwifeinc} - X_{city}) - \\theta_2X_{educ}+ \\beta_{exper}(X_{exper} - X_{educ}) + \\beta_{exper}X_{exper} + \\beta_{kidslt6}X_{kidslt6} + \\beta_{kidsge6}X_{kidsge6} + u $"
   ]
  },
  {
   "cell_type": "code",
   "execution_count": 27,
   "metadata": {},
   "outputs": [
    {
     "name": "stdout",
     "output_type": "stream",
     "text": [
      "                            OLS Regression Results                            \n",
      "==============================================================================\n",
      "Dep. Variable:                      y   R-squared:                       0.062\n",
      "Model:                            OLS   Adj. R-squared:                  0.049\n",
      "Method:                 Least Squares   F-statistic:                     4.560\n",
      "Date:                Sun, 16 May 2021   Prob (F-statistic):           0.000171\n",
      "Time:                        16:38:51   Log-Likelihood:                -392.18\n",
      "No. Observations:                 419   AIC:                             798.4\n",
      "Df Residuals:                     412   BIC:                             826.6\n",
      "Df Model:                           6                                         \n",
      "Covariance Type:            nonrobust                                         \n",
      "==============================================================================\n",
      "                 coef    std err          t      P>|t|      [0.025      0.975]\n",
      "------------------------------------------------------------------------------\n",
      "const         -0.4379      0.195     -2.243      0.025      -0.822      -0.054\n",
      "x1             0.0721      0.065      1.107      0.269      -0.056       0.200\n",
      "x2             0.0043      0.003      1.376      0.170      -0.002       0.010\n",
      "x3            -0.0058      0.010     -0.609      0.543      -0.025       0.013\n",
      "x4             0.0065      0.005      1.321      0.187      -0.003       0.016\n",
      "x5             0.0124      0.005      2.259      0.024       0.002       0.023\n",
      "x6            -0.0613      0.080     -0.764      0.445      -0.219       0.096\n",
      "x7            -0.0002      0.025     -0.009      0.993      -0.050       0.049\n",
      "==============================================================================\n",
      "Omnibus:                      124.505   Durbin-Watson:                   1.872\n",
      "Prob(Omnibus):                  0.000   Jarque-Bera (JB):              391.383\n",
      "Skew:                          -1.361   Prob(JB):                     1.03e-85\n",
      "Kurtosis:                       6.874   Cond. No.                     7.15e+15\n",
      "==============================================================================\n",
      "\n",
      "Notes:\n",
      "[1] Standard Errors assume that the covariance matrix of the errors is correctly specified.\n",
      "[2] The smallest eigenvalue is 6.02e-27. This might indicate that there are\n",
      "strong multicollinearity problems or that the design matrix is singular.\n"
     ]
    }
   ],
   "source": [
    "# Modèle contraint\n",
    "y2_alter = np.log(wage) - (0.1*city) - (0.1*educ)\n",
    "X2_alter =np.column_stack((const, -city, nwifeinc-city, -educ, exper-educ, exper, kidslt6, kidsge6 ))\n",
    "model=sm.OLS(y2_alter,X2_alter)\n",
    "results = model.fit()\n",
    "print(results.summary())\n",
    "u2_alter=results.resid\n",
    "SSRr2_alter=u2_alter.T@u2_alter"
   ]
  },
  {
   "cell_type": "code",
   "execution_count": 28,
   "metadata": {},
   "outputs": [
    {
     "name": "stdout",
     "output_type": "stream",
     "text": [
      "Stats de Fisher -7.341886908841096e-14\n",
      "p value 1.0\n",
      "Non rejet de H0\n"
     ]
    }
   ],
   "source": [
    "F=((SSRr2_alter-SSRur)/2)/(SSRur/(n-k))\n",
    "print(\"Stats de Fisher\", F)\n",
    "print(\"p value\", f.sf(F,2,n-k))\n",
    "\n",
    "if f.sf(F,2,n-k) > 0.05 :\n",
    "    print(\"Non rejet de H0\")\n",
    "else :\n",
    "    print(\"Rejet de H0\")"
   ]
  },
  {
   "cell_type": "markdown",
   "metadata": {},
   "source": [
    "<u> C'est chelou mais à voir si on garde cette méthode <u>"
   ]
  },
  {
   "cell_type": "markdown",
   "metadata": {},
   "source": [
    "### 12. Faites une représentation graphique de la manière dont le salaire augmente avec l’éducation et l’expérience professionnelle. Commentez"
   ]
  },
  {
   "cell_type": "markdown",
   "metadata": {},
   "source": [
    "<u> Je ne sais pas ce qu'il veut alors je fais ça <u>"
   ]
  },
  {
   "cell_type": "code",
   "execution_count": 29,
   "metadata": {},
   "outputs": [
    {
     "data": {
      "image/png": "[encoded data removed]",
      "text/plain": [
       "<Figure size 1080x360 with 2 Axes>"
      ]
     },
     "metadata": {
      "needs_background": "light"
     },
     "output_type": "display_data"
    }
   ],
   "source": [
    "fig, (ax1, ax2) = plt.subplots(1, 2,figsize=(15,5))\n",
    "fig.suptitle('Horizontally stacked subplots')\n",
    "fig\n",
    "ax1.scatter(df_use[\"educ\"], df_use[\"wage\"])\n",
    "ax2.scatter(df_use[\"exper\"], df_use[\"wage\"])\n",
    "plt.show()"
   ]
  },
  {
   "cell_type": "markdown",
   "metadata": {},
   "source": [
    "### 13. Tester l’égalité des coefficients associés aux variables kidsge6 et kidslt6. Interprétez."
   ]
  },
  {
   "cell_type": "markdown",
   "metadata": {},
   "source": [
    "Sous $H_{0} : \\beta_{kidsge6} = \\beta_{kidslt6}  $  \n",
    "on introduit un theta : $H_{0} : \\theta = \\beta_{kidsge6} - \\beta_{kidslt6} = 0$  \n",
    "donc $\\beta_{kidsge6} = \\theta + \\beta_{kidslt6}$\n",
    "\n",
    "$ Log(\\widehat{wage}) = \\beta_{const} + \\beta_{nwifeinc}X_{nwifeinc} + \\beta_{educ}X_{educ} + \\beta_{exper}X_{exper} + \\beta_{city}X_{city} + \\beta_{kidslt6}X_{kidslt6}+ \\beta_{kidsge6}X_{kidsge6} + u $  \n",
    "$ Log(\\widehat{wage}) = \\beta_{const} + \\beta_{nwifeinc}X_{nwifeinc} + \\beta_{educ}X_{educ} + \\beta_{exper}X_{exper} + \\beta_{city}X_{city} + \\beta_{kidslt6}X_{kidslt6}+ (\\theta +\\beta_{kidslt6})X_{kidsge6} + u $  \n",
    "$ Log(\\widehat{wage}) = \\beta_{const} + \\beta_{nwifeinc}X_{nwifeinc} + \\beta_{educ}X_{educ} + \\beta_{exper}X_{exper} + \\beta_{city}X_{city} + \\beta_{kidslt6}X_{kidslt6}+ \\theta X_{kidsge6} +\\beta_{kidslt6}X_{kidsge6} + u $  \n",
    "$ Log(\\widehat{wage}) = \\beta_{const} + \\beta_{nwifeinc}X_{nwifeinc} + \\beta_{educ}X_{educ} + \\beta_{exper}X_{exper} + \\beta_{city}X_{city} + \\beta_{kidslt6}(X_{kidslt6}+X_{kidsge6})+ \\theta X_{kidsge6} + u $  "
   ]
  },
  {
   "cell_type": "code",
   "execution_count": 30,
   "metadata": {},
   "outputs": [
    {
     "name": "stdout",
     "output_type": "stream",
     "text": [
      "                            OLS Regression Results                            \n",
      "==============================================================================\n",
      "Dep. Variable:                   wage   R-squared:                       0.173\n",
      "Model:                            OLS   Adj. R-squared:                  0.161\n",
      "Method:                 Least Squares   F-statistic:                     14.41\n",
      "Date:                Sun, 16 May 2021   Prob (F-statistic):           6.13e-15\n",
      "Time:                        16:38:52   Log-Likelihood:                -392.18\n",
      "No. Observations:                 419   AIC:                             798.4\n",
      "Df Residuals:                     412   BIC:                             826.6\n",
      "Df Model:                           6                                         \n",
      "Covariance Type:            nonrobust                                         \n",
      "==============================================================================\n",
      "                 coef    std err          t      P>|t|      [0.025      0.975]\n",
      "------------------------------------------------------------------------------\n",
      "const         -0.4379      0.195     -2.243      0.025      -0.822      -0.054\n",
      "x1             0.0043      0.003      1.376      0.170      -0.002       0.010\n",
      "x2             0.0993      0.014      6.991      0.000       0.071       0.127\n",
      "x3             0.0189      0.004      4.493      0.000       0.011       0.027\n",
      "x4             0.0236      0.066      0.359      0.720      -0.106       0.153\n",
      "x5            -0.0613      0.080     -0.764      0.445      -0.219       0.096\n",
      "x6             0.0610      0.085      0.720      0.472      -0.106       0.228\n",
      "==============================================================================\n",
      "Omnibus:                      124.505   Durbin-Watson:                   1.872\n",
      "Prob(Omnibus):                  0.000   Jarque-Bera (JB):              391.383\n",
      "Skew:                          -1.361   Prob(JB):                     1.03e-85\n",
      "Kurtosis:                       6.874   Cond. No.                         178.\n",
      "==============================================================================\n",
      "\n",
      "Notes:\n",
      "[1] Standard Errors assume that the covariance matrix of the errors is correctly specified.\n"
     ]
    }
   ],
   "source": [
    "y_alter = y.copy()\n",
    "s_alter = np.shape(df_use[\"wage\"])\n",
    "const_alter = const.copy()\n",
    "city_alter = city.copy()\n",
    "educ_alter = educ.copy()\n",
    "exper_alter = exper.copy()\n",
    "nwifeinc_alter = nwifeinc.copy()\n",
    "kidslt6_alter = kidslt6.copy()\n",
    "kidsge6_alter = kidsge6.copy()\n",
    "X_alter = np.column_stack((const_alter,nwifeinc_alter, educ_alter, exper_alter,city_alter ,kidslt6_alter +kidsge6_alter,  kidsge6_alter))\n",
    "model=sm.OLS(y_alter,X_alter)\n",
    "results = model.fit()\n",
    "print(results.summary())"
   ]
  },
  {
   "cell_type": "markdown",
   "metadata": {},
   "source": [
    "Ici on voit que le coefficient $\\theta$ a une p-value de 0.472 donc à 5% non rejet de $H_0$"
   ]
  },
  {
   "cell_type": "markdown",
   "metadata": {},
   "source": [
    "### 14. Faire le test d'hétéroscédasticité de forme linéaire en donnant la p-valeur. Déterminer la ou les sources d’hétéroscédasticité et corriger avec les méthodes vues en cours. Comparer les écarts-types des coefficients estimés avec ceux obtenus à la question 7. Commenter."
   ]
  },
  {
   "cell_type": "code",
   "execution_count": 31,
   "metadata": {},
   "outputs": [
    {
     "name": "stdout",
     "output_type": "stream",
     "text": [
      "The lagrange multiplier statistic : 22.95225012076633\n",
      "The p-value of lagrange multiplier test : 0.6356470564433282\n",
      "The f-statistic of the hypothesis that the error variance does not depend on x : 0.8737565347072734\n",
      "The p-value for the f-statistic : 0.6468960412742655\n"
     ]
    }
   ],
   "source": [
    "lm = sm.stats.diagnostic.het_white(u,X)[0]\n",
    "lm_pvalue = sm.stats.diagnostic.het_white(u,X)[1]\n",
    "fvalue = sm.stats.diagnostic.het_white(u,X)[2]\n",
    "f_pvalue = sm.stats.diagnostic.het_white(u,X)[3]\n",
    "\n",
    "print(f\"The lagrange multiplier statistic : {lm}\")\n",
    "print(f\"The p-value of lagrange multiplier test : {lm_pvalue}\")\n",
    "print(f\"The f-statistic of the hypothesis that the error variance does not depend on x : {fvalue}\")\n",
    "print(f\"The p-value for the f-statistic : {f_pvalue}\")"
   ]
  },
  {
   "cell_type": "code",
   "execution_count": 32,
   "metadata": {},
   "outputs": [
    {
     "name": "stdout",
     "output_type": "stream",
     "text": [
      "Non Rejet de H0 : Il y a de l'homoscédasticité\n"
     ]
    }
   ],
   "source": [
    "if 0.05 > f_pvalue : \n",
    "    print('Rejet de H0 : Il y a hétéroscédasticité')\n",
    "else :\n",
    "    print(\"Non Rejet de H0 : Il y a de l'homoscédasticité\")"
   ]
  },
  {
   "cell_type": "markdown",
   "metadata": {},
   "source": [
    "<u> Chelou car au vue de la question, on est censé avoir de l'hétéroscédasticité. <u>"
   ]
  },
  {
   "cell_type": "markdown",
   "metadata": {},
   "source": [
    "### 15. Tester le changement de structure de la question 8 entre les femmes qui ont plus de 43 ans et les autres : test sur l'ensemble des coefficients. Donnez les p-valeurs"
   ]
  },
  {
   "cell_type": "code",
   "execution_count": 33,
   "metadata": {},
   "outputs": [],
   "source": [
    "df_old = df_use.loc[df_use[\"age\"]>43]\n",
    "df_young = df_use.loc[df_use[\"age\"]<=43]"
   ]
  },
  {
   "cell_type": "code",
   "execution_count": 34,
   "metadata": {},
   "outputs": [
    {
     "name": "stdout",
     "output_type": "stream",
     "text": [
      "                            OLS Regression Results                            \n",
      "==============================================================================\n",
      "Dep. Variable:                   wage   R-squared:                       0.199\n",
      "Model:                            OLS   Adj. R-squared:                  0.172\n",
      "Method:                 Least Squares   F-statistic:                     7.287\n",
      "Date:                Sun, 16 May 2021   Prob (F-statistic):           5.75e-07\n",
      "Time:                        16:38:52   Log-Likelihood:                -164.96\n",
      "No. Observations:                 183   AIC:                             343.9\n",
      "Df Residuals:                     176   BIC:                             366.4\n",
      "Df Model:                           6                                         \n",
      "Covariance Type:            nonrobust                                         \n",
      "==============================================================================\n",
      "                 coef    std err          t      P>|t|      [0.025      0.975]\n",
      "------------------------------------------------------------------------------\n",
      "const         -0.4311      0.263     -1.639      0.103      -0.950       0.088\n",
      "x1             0.0014      0.104      0.014      0.989      -0.204       0.207\n",
      "x2             0.0859      0.019      4.532      0.000       0.048       0.123\n",
      "x3             0.0214      0.006      3.846      0.000       0.010       0.032\n",
      "x4             0.0092      0.005      2.043      0.043       0.000       0.018\n",
      "x5             0.0301      0.311      0.097      0.923      -0.584       0.644\n",
      "x6            -0.0292      0.048     -0.606      0.545      -0.124       0.066\n",
      "==============================================================================\n",
      "Omnibus:                       55.194   Durbin-Watson:                   2.125\n",
      "Prob(Omnibus):                  0.000   Jarque-Bera (JB):              133.263\n",
      "Skew:                          -1.317   Prob(JB):                     1.15e-29\n",
      "Kurtosis:                       6.247   Cond. No.                         210.\n",
      "==============================================================================\n",
      "\n",
      "Notes:\n",
      "[1] Standard Errors assume that the covariance matrix of the errors is correctly specified.\n"
     ]
    }
   ],
   "source": [
    "y4 = np.log(df_old[\"wage\"])\n",
    "s4 = np.shape(df_old[\"wage\"])\n",
    "const4 = np.ones(s4)\n",
    "city4 = df_old[\"city\"]\n",
    "educ4 = df_old[\"educ\"]\n",
    "exper4 = df_old[\"exper\"]\n",
    "nwifeinc4 = df_old[\"nwifeinc\"]\n",
    "kidslt64 = df_old[\"kidslt6\"]\n",
    "kidsge64 = df_old['kidsge6']\n",
    "X4=np.column_stack((const4,city4, educ4, exper4, nwifeinc4,kidslt64 , kidsge64))\n",
    "model=sm.OLS(y4,X4)\n",
    "results = model.fit()\n",
    "print(results.summary())"
   ]
  },
  {
   "cell_type": "markdown",
   "metadata": {},
   "source": [
    "Dans ce dataset les coefficients les plus significatifs sont les variables educ, exper, nwifeinc"
   ]
  },
  {
   "cell_type": "code",
   "execution_count": 35,
   "metadata": {},
   "outputs": [
    {
     "name": "stdout",
     "output_type": "stream",
     "text": [
      "                            OLS Regression Results                            \n",
      "==============================================================================\n",
      "Dep. Variable:                   wage   R-squared:                       0.174\n",
      "Model:                            OLS   Adj. R-squared:                  0.153\n",
      "Method:                 Least Squares   F-statistic:                     8.049\n",
      "Date:                Sun, 16 May 2021   Prob (F-statistic):           6.77e-08\n",
      "Time:                        16:38:52   Log-Likelihood:                -223.90\n",
      "No. Observations:                 236   AIC:                             461.8\n",
      "Df Residuals:                     229   BIC:                             486.0\n",
      "Df Model:                           6                                         \n",
      "Covariance Type:            nonrobust                                         \n",
      "==============================================================================\n",
      "                 coef    std err          t      P>|t|      [0.025      0.975]\n",
      "------------------------------------------------------------------------------\n",
      "const         -0.5479      0.298     -1.838      0.067      -1.135       0.039\n",
      "x1             0.0534      0.086      0.619      0.536      -0.116       0.223\n",
      "x2             0.1121      0.022      5.143      0.000       0.069       0.155\n",
      "x3             0.0237      0.007      3.193      0.002       0.009       0.038\n",
      "x4             0.0015      0.005      0.324      0.746      -0.007       0.010\n",
      "x5            -0.1087      0.088     -1.238      0.217      -0.282       0.064\n",
      "x6            -0.0078      0.034     -0.229      0.819      -0.075       0.059\n",
      "==============================================================================\n",
      "Omnibus:                       71.516   Durbin-Watson:                   1.755\n",
      "Prob(Omnibus):                  0.000   Jarque-Bera (JB):              215.058\n",
      "Skew:                          -1.292   Prob(JB):                     2.00e-47\n",
      "Kurtosis:                       6.898   Cond. No.                         185.\n",
      "==============================================================================\n",
      "\n",
      "Notes:\n",
      "[1] Standard Errors assume that the covariance matrix of the errors is correctly specified.\n"
     ]
    }
   ],
   "source": [
    "y5 = np.log(df_young[\"wage\"])\n",
    "s5 = np.shape(df_young[\"wage\"])\n",
    "const5 = np.ones(s5)\n",
    "city5 = df_young[\"city\"]\n",
    "educ5 = df_young[\"educ\"]\n",
    "exper5 = df_young[\"exper\"]\n",
    "nwifeinc5 = df_young[\"nwifeinc\"]\n",
    "kidslt65 = df_young[\"kidslt6\"]\n",
    "kidsge65 = df_young['kidsge6']\n",
    "X5=np.column_stack((const5,city5, educ5, exper5, nwifeinc5,kidslt65 , kidsge65))\n",
    "model=sm.OLS(y5,X5)\n",
    "results = model.fit()\n",
    "print(results.summary())"
   ]
  },
  {
   "cell_type": "markdown",
   "metadata": {},
   "source": [
    "Tandis que dans ce dataset, il n'y a que les variables educ, exper qui sont significatifs.  \n",
    "Ainsi pour 2 datasets : la feature nwifeinc est significatif pour l'un et pas pour l'autre"
   ]
  },
  {
   "cell_type": "markdown",
   "metadata": {},
   "source": [
    "###  16. Ajouter au modèle de la question 7 la variable huseduc. Faire ensuite la même régression en décomposant la variable huseduc en 4 variables binaires construites selon votre choix. Faire le test de non significativité de l’ensemble des variables binaires. Donnez les p-valeurs et commentez."
   ]
  },
  {
   "cell_type": "code",
   "execution_count": 36,
   "metadata": {},
   "outputs": [
    {
     "data": {
      "text/plain": [
       "[4, 5, 6, 7, 8, 9, 10, 11, 12, 13, 14, 15, 16, 17]"
      ]
     },
     "execution_count": 36,
     "metadata": {},
     "output_type": "execute_result"
    }
   ],
   "source": [
    "sorted(df_use[\"huseduc\"].unique())"
   ]
  },
  {
   "cell_type": "markdown",
   "metadata": {},
   "source": [
    "à 4,5,6 on va appeler la variable etude_moy  \n",
    "à 7,8,9 on va appeler la variable phd  \n",
    "à 10,11,12 on va appeler la variable DES  \n",
    "à 13,14,15,16,17 on va appeler la variable etude_long  \n",
    "Par la suite, nous décidons de créer notre régression en incluant les différentes variables binaires en fonction de la variable binaire etude_moy, il nous faut donc la supprimmer.\n",
    "\n",
    "Voici notre modèle non constraint :\n",
    "$ Log(\\widehat{wage}) = \\beta_{const} + \\beta_{nwifeinc}X_{nwifeinc} + \\beta_{educ}X_{educ} + \\beta_{exper}X_{exper} + \\beta_{city}X_{city} + \\beta_{kidslt6}X_{kidslt6} +\\beta_{kidsge6}X_{kidsge6} + \\beta_{phd}X_{phd}+ \\beta_{DES}X_{DES} + \\beta_{etude long}X_{etude long} + u $ "
   ]
  },
  {
   "cell_type": "code",
   "execution_count": 37,
   "metadata": {},
   "outputs": [
    {
     "name": "stdout",
     "output_type": "stream",
     "text": [
      "                            OLS Regression Results                            \n",
      "==============================================================================\n",
      "Dep. Variable:                   wage   R-squared:                       0.181\n",
      "Model:                            OLS   Adj. R-squared:                  0.163\n",
      "Method:                 Least Squares   F-statistic:                     10.03\n",
      "Date:                Sun, 16 May 2021   Prob (F-statistic):           5.67e-14\n",
      "Time:                        16:38:52   Log-Likelihood:                -390.30\n",
      "No. Observations:                 419   AIC:                             800.6\n",
      "Df Residuals:                     409   BIC:                             841.0\n",
      "Df Model:                           9                                         \n",
      "Covariance Type:            nonrobust                                         \n",
      "==============================================================================\n",
      "                 coef    std err          t      P>|t|      [0.025      0.975]\n",
      "------------------------------------------------------------------------------\n",
      "const         -0.5210      0.272     -1.913      0.056      -1.056       0.014\n",
      "x1             0.0366      0.066      0.550      0.582      -0.094       0.167\n",
      "x2             0.1123      0.016      6.840      0.000       0.080       0.145\n",
      "x3             0.0192      0.004      4.561      0.000       0.011       0.028\n",
      "x4             0.0056      0.003      1.704      0.089      -0.001       0.012\n",
      "x5            -0.0461      0.081     -0.573      0.567      -0.204       0.112\n",
      "x6             0.0017      0.025      0.068      0.946      -0.048       0.051\n",
      "x7            -0.1219      0.218     -0.560      0.576      -0.550       0.306\n",
      "x8            -0.0551      0.207     -0.266      0.790      -0.463       0.353\n",
      "x9            -0.2011      0.217     -0.926      0.355      -0.628       0.226\n",
      "==============================================================================\n",
      "Omnibus:                      125.032   Durbin-Watson:                   1.856\n",
      "Prob(Omnibus):                  0.000   Jarque-Bera (JB):              401.380\n",
      "Skew:                          -1.358   Prob(JB):                     6.94e-88\n",
      "Kurtosis:                       6.951   Cond. No.                         367.\n",
      "==============================================================================\n",
      "\n",
      "Notes:\n",
      "[1] Standard Errors assume that the covariance matrix of the errors is correctly specified.\n"
     ]
    }
   ],
   "source": [
    "# Modèle non contraint :\n",
    "y6 = np.log(df_use[\"wage\"])\n",
    "s6=np.shape(df_use[\"wage\"])\n",
    "const6=np.ones(s6)\n",
    "city6 = df_use[\"city\"]\n",
    "educ6 = df_use[\"educ\"]\n",
    "exper6 = df_use[\"exper\"]\n",
    "nwifeinc6 = df_use[\"nwifeinc\"]\n",
    "kidslt66 = df_use[\"kidslt6\"]\n",
    "kidsge66 = df_use['kidsge6']\n",
    "huseduc = pd.get_dummies(df_use[\"huseduc\"])\n",
    "etude_moy = pd.Series(huseduc[4]+ huseduc[5] + huseduc[6], name =\"etude_moy\")\n",
    "phd = pd.Series(huseduc[7]+ huseduc[8] + huseduc[9],name = \"phd\")\n",
    "DES = pd.Series(huseduc[10]+ huseduc[11] + huseduc[12], name =\"DES\")\n",
    "etude_long = pd.Series(huseduc[13]+ huseduc[14] + huseduc[15] + huseduc[16] + huseduc[17], name =\"etude_long\")\n",
    "X6=np.column_stack((const6,city6, educ6, exper6, nwifeinc6,kidslt66, kidsge66, phd ,DES, etude_long))\n",
    "n6, k6 = np.shape(X6)\n",
    "model=sm.OLS(y6,X6)\n",
    "results = model.fit()\n",
    "print(results.summary())"
   ]
  },
  {
   "cell_type": "code",
   "execution_count": 38,
   "metadata": {},
   "outputs": [],
   "source": [
    "u6=results.resid\n",
    "SSRur6=u6.T@u6 # Somme des carrés des erreurs"
   ]
  },
  {
   "cell_type": "markdown",
   "metadata": {},
   "source": [
    "Individuellement, nous pouvons dire que les phd, les DES et les études longues, gagnent moins bien que les étude moyennes. Leur P-value sont individuellement supérieure à 5 % ce qui signifie qu'on ne rejette pas H0, donc elles ne sont pas significative. Cependant le test de student est moins robuste que le test de Fisher, lorsqu'on a des hypothèses jointes. C'est pour cela qu'on va le calculer ci-après.\n",
    "\n",
    "Sous $H_{0} :$  \n",
    "$\\beta_{phd} = 0 , \\beta_{DES} = 0, \\beta_{etudelong} = 0$"
   ]
  },
  {
   "cell_type": "markdown",
   "metadata": {},
   "source": [
    "Notre modèle constraint :  \n",
    "$ Log(\\widehat{wage}) = \\beta_{const} + \\beta_{nwifeinc}X_{nwifeinc} + \\beta_{educ}X_{educ} + \\beta_{exper}X_{exper} + \\beta_{city}X_{city} + \\beta_{kidslt6}X_{kidslt6} +\\beta_{kidsge6}X_{kidsge6} + u $ "
   ]
  },
  {
   "cell_type": "code",
   "execution_count": 39,
   "metadata": {},
   "outputs": [],
   "source": [
    "y7 = np.log(df_use[\"wage\"])\n",
    "s7=np.shape(df_use[\"wage\"])\n",
    "const7=np.ones(s7)\n",
    "city7 = df_use[\"city\"]\n",
    "educ7 = df_use[\"educ\"]\n",
    "exper7 = df_use[\"exper\"]\n",
    "nwifeinc7 = df_use[\"nwifeinc\"]\n",
    "kidslt67 = df_use[\"kidslt6\"]\n",
    "kidsge67 = df_use['kidsge6']\n",
    "X7=np.column_stack((const6,city6, educ6, exper6, nwifeinc6,kidslt66, kidsge66))\n",
    "model=sm.OLS(y6,X6)\n",
    "results = model.fit()\n",
    "u7=results.resid\n",
    "SSRr7=u7.T@u7 # Somme des carrés des erreurs"
   ]
  },
  {
   "cell_type": "code",
   "execution_count": 40,
   "metadata": {},
   "outputs": [
    {
     "name": "stdout",
     "output_type": "stream",
     "text": [
      "Stats de Fisher :  0.0\n",
      "p value : 1.0\n",
      "Non rejet de H0, les 4 coefficients binaires sont donc non significatifs\n"
     ]
    }
   ],
   "source": [
    "F=((SSRr7-SSRur6)/3)/(SSRur6/(n6-k6)) # 3 contraintes et 409 ddl pour le modèle non constraint\n",
    "print(\"Stats de Fisher : \", F)\n",
    "print(\"p value :\", f.sf(F,3,n6-k6))\n",
    "\n",
    "if f.sf(F,3,n6-k6) > 0.05 :\n",
    "    print(\"Non rejet de H0, les 4 coefficients binaires sont donc non significatifs\")\n",
    "else :\n",
    "    print(\"Rejet de H0, les 4 coefficients binaires sont donc significatifs\")"
   ]
  }
 ],
 "metadata": {
  "kernelspec": {
   "display_name": "Python 3.7.4 64-bit ('base': conda)",
   "language": "python",
   "name": "python37464bitbaseconda14f189e448ea472db7ce461f387a4efc"
  },
  "language_info": {
   "codemirror_mode": {
    "name": "ipython",
    "version": 3
   },
   "file_extension": ".py",
   "mimetype": "text/x-python",
   "name": "python",
   "nbconvert_exporter": "python",
   "pygments_lexer": "ipython3",
   "version": "3.7.4"
  }
 },
 "nbformat": 4,
 "nbformat_minor": 2
}
